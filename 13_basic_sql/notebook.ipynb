{
 "cells": [
  {
   "cell_type": "markdown",
   "metadata": {},
   "source": [
    "# Запросы к базе данных"
   ]
  },
  {
   "cell_type": "markdown",
   "metadata": {},
   "source": [
    "## Описание"
   ]
  },
  {
   "cell_type": "markdown",
   "metadata": {},
   "source": [
    "В самостоятельном проекте этого курса вы будете работать с базой данных, которая хранит информацию о венчурных фондах и инвестициях в компании-стартапы. Эта база данных основана на датасете [Startup Investments](https://www.kaggle.com/datasets/justinas/startup-investments), опубликованном на популярной платформе для соревнований по исследованию данных Kaggle.\n",
    "\n",
    "Анализировать рынок инвестиций без подготовки может быть непросто. Поэтому сначала познакомьтесь с важными понятиями, которые вам встретятся в работе с базой данных. \n",
    "\n",
    "*Венчурные фонды* — это финансовые организации, которые могут позволить себе высокий риск и инвестировать в компании с инновационной бизнес-идеей или разработанной новой технологией, то есть в *стартапы*. Цель венчурных фондов — в будущем получить значительную прибыль, которая в разы превысит размер их трат на инвестиции в компанию. Если стартап подорожает, венчурный фонд может получить долю в компании или фиксированный процент от её выручки. \n",
    "\n",
    "Чтобы процесс финансирования стал менее рискованным, его делят на стадии — *раунды*. Тот или иной раунд зависит от того, какого уровня развития достигла компания. \n",
    "\n",
    "Первые этапы — предпосевной и посевной раунды. Предпосевной раунд предполагает, что компания как таковая ещё не создана и находится в стадии замысла. Следующий — посевной — раунд знаменует рост проекта: создатели компании разрабатывают бизнес-модель и привлекают инвесторов. \n",
    "\n",
    "Если компании требуется ментор или наставник — она привлекает бизнес-ангела. Бизнес-ангелы — инвесторы, которые помимо финансовой поддержки предлагают экспертную помощь. Такой раунд называют *ангельским*. \n",
    "\n",
    "Когда стартап становится компанией с проверенной бизнес-моделью и начинает зарабатывать самостоятельно, предложений инвесторов становится больше. Это раунд A, а за ним следуют и другие: B, C, D — на этих этапах компания активно развивается и готовится к IPO. \n",
    "\n",
    "Иногда выделяют венчурный раунд — финансирование, которое могло поступить от венчурного фонда на любом этапе: начальном или более позднем. \n",
    "\n",
    "В данных об инвестициях вам встретятся упоминания раундов, но самостоятельный проект не предполагает, что вы должны разбираться в их специфике лучше любого инвестора. Главное — понимать, как устроены данные. \n",
    "\n",
    "Вы уже знаете, что такое ER-диаграмма. Работу с новой базой данных лучше начать с изучения схемы."
   ]
  },
  {
   "attachments": {},
   "cell_type": "markdown",
   "metadata": {},
   "source": [
    "![basic_sql_project_erd.png](./basic_sql_project_erd.png)"
   ]
  },
  {
   "cell_type": "markdown",
   "metadata": {},
   "source": [
    "Теперь можно познакомиться с данными, которые хранят таблицы.\n",
    "\n",
    "**acquisition**\n",
    "\n",
    "Содержит информацию о покупках одних компаний другими.\n",
    "\n",
    "Таблица включает такие поля:\n",
    "\n",
    "- первичный ключ `id` — идентификатор или уникальный номер покупки;\n",
    "- внешний ключ `acquiring_company_id` — ссылается на таблицу `company` — идентификатор компании-покупателя, то есть той, что покупает другую компанию;\n",
    "- внешний ключ `acquired_company_id` — ссылается на таблицу `company` — идентификатор компании, которую покупают;\n",
    "- `term_code` — способ оплаты сделки:\n",
    "    - `cash` — наличными;\n",
    "    - `stock` — акциями компании;\n",
    "    - `cash_and_stock` — смешанный тип оплаты: наличные и акции.\n",
    "- `price_amount` — сумма покупки в долларах;\n",
    "- `acquired_at` — дата совершения сделки;\n",
    "- `created_at` — дата и время создания записи в таблице;\n",
    "- `updated_at` — дата и время обновления записи в таблице.\n",
    "\n",
    "**company**\n",
    "\n",
    "Содержит информацию о компаниях-стартапах.\n",
    "\n",
    "- первичный ключ `id` — идентификатор, или уникальный номер компании;\n",
    "- `name` — название компании;\n",
    "- `category_code` — категория деятельности компании, например:\n",
    "    - `news` — специализируется на работе с новостями;\n",
    "    - `social` — специализируется на социальной работе.\n",
    "- `status` — статус компании:\n",
    "    - `acquired` — приобретена;\n",
    "    - `operating` — действует;\n",
    "    - `ipo` — вышла на IPO;\n",
    "    - `closed` — перестала существовать.\n",
    "- `founded_at` — дата основания компании;\n",
    "- `closed_at` — дата закрытия компании, которую указывают в том случае, если компании больше не существует;\n",
    "- `domain` — домен сайта компании;\n",
    "- `network_username` — профиль фонда в корпоративной сети биржи;\n",
    "- `country_code` — код страны, например, `USA` для США, `GBR` для Великобритании;\n",
    "- `investment_rounds` — число раундов, в которых компания участвовала как инвестор;\n",
    "- `funding_rounds` — число раундов, в которых компания привлекала инвестиции;\n",
    "- `funding_total` — сумма привлечённых инвестиций в долларах;\n",
    "- `milestones` — количество важных этапов в истории компании;\n",
    "- `created_at` — дата и время создания записи в таблице;\n",
    "- `updated_at` — дата и время обновления записи в таблице.\n",
    "\n",
    "**education**\n",
    "\n",
    "Хранит информацию об уровне образования сотрудников компаний.\n",
    "\n",
    "- первичный ключ `id` — уникальный номер записи с информацией об образовании;\n",
    "- внешний ключ `person_id` — ссылается на таблицу `people` — идентификатор человека, информация о котором представлена в записи;\n",
    "- `degree_type` — учебная степень, например:\n",
    "    - `BA` — Bachelor of Arts — бакалавр гуманитарных наук;\n",
    "    - `MS` — Master of Science — магистр естественных наук.\n",
    "- `instituition` — учебное заведение, название университета;\n",
    "- `graduated_at` — дата завершения обучения, выпуска;\n",
    "- `created_at` — дата и время создания записи в таблице;\n",
    "- `updated_at` — дата и время обновления записи в таблице.\n",
    "\n",
    "**fund**\n",
    "\n",
    "Хранит информацию о венчурных фондах. \n",
    "\n",
    "- первичный ключ `id` — уникальный номер венчурного фонда;\n",
    "- `name` — название венчурного фонда;\n",
    "- `founded_at` — дата основания фонда;\n",
    "- `domain` — домен сайта фонда;\n",
    "- `network_username` — профиль фонда в корпоративной сети биржи;\n",
    "- `country_code` — код страны фонда;\n",
    "- `investment_rounds` — число инвестиционных раундов, в которых фонд принимал участие;\n",
    "- `invested_companies` — число компаний, в которые инвестировал фонд;\n",
    "- `milestones` — количество важных этапов в истории фонда;\n",
    "- `created_at` — дата и время создания записи в таблице;\n",
    "- `updated_at` — дата и время обновления записи в таблице.\n",
    "\n",
    "**funding_round**\n",
    "\n",
    "Содержит информацию о раундах инвестиций. \n",
    "\n",
    "- первичный ключ `id` — уникальный номер инвестиционного раунда;\n",
    "- внешний ключ `company_id` — ссылается на таблицу `company` — уникальный номер компании, участвовавшей в инвестиционном раунде;\n",
    "- `funded_at` — дата проведения раунда;\n",
    "- `funding_round_type` — тип инвестиционного раунда, например:\n",
    "    - `venture` — венчурный раунд;\n",
    "    - `angel` — ангельский раунд;\n",
    "    - `series_a` — раунд А.\n",
    "- `raised_amount` — сумма инвестиций, которую привлекла компания в этом раунде в долларах;\n",
    "- `pre_money_valuation` — предварительная, проведённая до инвестиций оценка стоимости компании в долларах;\n",
    "- `participants` — количество участников инвестиционного раунда;\n",
    "- `is_first_round` — является ли этот раунд первым для компании;\n",
    "- `is_last_round` — является ли этот раунд последним для компании;\n",
    "- `created_at` — дата и время создания записи в таблице;\n",
    "- `updated_at` — дата и время обновления записи в таблице.\n",
    "\n",
    "**investment**\n",
    "\n",
    "Содержит информацию об инвестициях венчурных фондов в компании-стартапы.\n",
    "\n",
    "- первичный ключ `id` — уникальный номер инвестиции;\n",
    "- внешний ключ `funding_round_id` — ссылается на таблицу `funding_round` — уникальный номер раунда инвестиции;\n",
    "- внешний ключ `company_id` — ссылается на таблицу `company` — уникальный номер компании-стартапа, в которую инвестируют;\n",
    "- внешний ключ `fund_id` — ссылается на таблицу `fund` — уникальный номер фонда, инвестирующего в компанию-стартап;\n",
    "- `created_at` — дата и время создания записи в таблице;\n",
    "- `updated_at` — дата и время обновления записи в таблице.\n",
    "\n",
    "**people**\n",
    "\n",
    "Содержит информацию о сотрудниках компаний-стартапов.\n",
    "\n",
    "- первичный ключ `id` — уникальный номер сотрудника;\n",
    "- `first_name` — имя сотрудника;\n",
    "- `last_name` — фамилия сотрудника;\n",
    "- внешний ключ `company_id` — ссылается на таблицу `company` — уникальный номер компании-стартапа;\n",
    "- `network_username` — профиль фонда в корпоративной сети биржи;\n",
    "- `created_at` — дата и время создания записи в таблице;\n",
    "- `updated_at` — дата и время обновления записи в таблице.\n",
    "\n",
    "В самостоятельном проекте вам нужно проанализировать данные о фондах и инвестициях и написать запросы к базе."
   ]
  },
  {
   "cell_type": "markdown",
   "metadata": {},
   "source": [
    "## Задания"
   ]
  },
  {
   "cell_type": "markdown",
   "metadata": {},
   "source": [
    "### Задание 1"
   ]
  },
  {
   "cell_type": "markdown",
   "metadata": {},
   "source": [
    "Отобразите все записи из таблицы `company` по компаниям, которые закрылись."
   ]
  },
  {
   "cell_type": "markdown",
   "metadata": {},
   "source": [
    "```mysql\n",
    "SELECT *\n",
    "FROM company\n",
    "WHERE status = 'closed';\n",
    "```"
   ]
  },
  {
   "cell_type": "markdown",
   "metadata": {},
   "source": [
    "### Задание 2"
   ]
  },
  {
   "cell_type": "markdown",
   "metadata": {},
   "source": [
    "Отобразите количество привлечённых средств для новостных компаний США. Используйте данные из таблицы `company`. Отсортируйте таблицу по убыванию значений в поле `funding_total`."
   ]
  },
  {
   "cell_type": "markdown",
   "metadata": {},
   "source": [
    "```mysql\n",
    "SELECT funding_total\n",
    "FROM company\n",
    "WHERE category_code = 'news'\n",
    "  AND country_code = 'USA'\n",
    "ORDER BY funding_total DESC;\n",
    "```"
   ]
  },
  {
   "cell_type": "markdown",
   "metadata": {},
   "source": [
    "### Задание 3"
   ]
  },
  {
   "cell_type": "markdown",
   "metadata": {},
   "source": [
    "Найдите общую сумму сделок по покупке одних компаний другими в долларах. Отберите сделки, которые осуществлялись только за наличные с 2011 по 2013 год включительно."
   ]
  },
  {
   "cell_type": "markdown",
   "metadata": {},
   "source": [
    "```mysql\n",
    "SELECT SUM(price_amount)\r\n",
    "FROM acquisition\r\n",
    "WHERE term_code = 'cash'\r\n",
    "  AND EXTRACT(YEAR FROM acquired_at) BETWEEN 2011 AND 2013;\n",
    "```"
   ]
  },
  {
   "cell_type": "markdown",
   "metadata": {},
   "source": [
    "### Задание 4"
   ]
  },
  {
   "cell_type": "markdown",
   "metadata": {},
   "source": [
    "Отобразите имя, фамилию и названия аккаунтов людей в поле `network_username`, у которых названия аккаунтов начинаются на `'Silver'`."
   ]
  },
  {
   "cell_type": "markdown",
   "metadata": {},
   "source": [
    "```mysql\n",
    "SELECT first_name,\r\n",
    "       last_name,\r\n",
    "       network_username\r\n",
    "FROM people\r\n",
    "WHERE network_username LIKE 'Silver%';\n",
    "```"
   ]
  },
  {
   "cell_type": "markdown",
   "metadata": {},
   "source": [
    "### Задание 5"
   ]
  },
  {
   "cell_type": "markdown",
   "metadata": {},
   "source": [
    "Выведите на экран всю информацию о людях, у которых названия аккаунтов в поле `network_username` содержат подстроку `'money'`, а фамилия начинается на `'K'`."
   ]
  },
  {
   "cell_type": "markdown",
   "metadata": {},
   "source": [
    "```mysql\n",
    "SELECT *\r\n",
    "FROM people\r\n",
    "WHERE last_name LIKE 'K%'\r\n",
    "  AND network_username LIKE '%money%';\n",
    "```"
   ]
  },
  {
   "cell_type": "markdown",
   "metadata": {},
   "source": [
    "### Задание 6"
   ]
  },
  {
   "cell_type": "markdown",
   "metadata": {},
   "source": [
    "Для каждой страны отобразите общую сумму привлечённых инвестиций, которые получили компании, зарегистрированные в этой стране. Страну, в которой зарегистрирована компания, можно определить по коду страны. Отсортируйте данные по убыванию суммы."
   ]
  },
  {
   "cell_type": "markdown",
   "metadata": {},
   "source": [
    "```mysql\n",
    "SELECT country_code,\r\n",
    "       SUM(funding_total) AS sum\r\n",
    "FROM company\r\n",
    "GROUP BY country_code\r\n",
    "ORDER BY sum DESC;\n",
    "```"
   ]
  },
  {
   "cell_type": "markdown",
   "metadata": {},
   "source": [
    "### Задание 7"
   ]
  },
  {
   "cell_type": "markdown",
   "metadata": {},
   "source": [
    "Составьте таблицу, в которую войдёт дата проведения раунда, а также минимальное и максимальное значения суммы инвестиций, привлечённых в эту дату.\n",
    "\n",
    "Оставьте в итоговой таблице только те записи, в которых минимальное значение суммы инвестиций не равно нулю и не равно максимальному значению."
   ]
  },
  {
   "cell_type": "markdown",
   "metadata": {},
   "source": [
    "```mysql\n",
    "SELECT funded_at,\r\n",
    "       MIN(raised_amount),\r\n",
    "       MAX(raised_amount)\r\n",
    "FROM funding_round\r\n",
    "GROUP BY funded_at\r\n",
    "HAVING MIN(raised_amount) != 0\r\n",
    "  AND MIN(raised_amount) != MAX(raised_amount);\n",
    "```"
   ]
  },
  {
   "cell_type": "markdown",
   "metadata": {},
   "source": [
    "### Задание 8"
   ]
  },
  {
   "cell_type": "markdown",
   "metadata": {},
   "source": [
    "Создайте поле с категориями:\n",
    "- Для фондов, которые инвестируют в 100 и более компаний, назначьте категорию `high_activity`.\n",
    "- Для фондов, которые инвестируют в 20 и более компаний до 100, назначьте категорию `middle_activity`.\n",
    "- Если количество инвестируемых компаний фонда не достигает 20, назначьте категорию `low_activity`.\n",
    "\n",
    "Отобразите все поля таблицы `fund` и новое поле с категориями."
   ]
  },
  {
   "cell_type": "markdown",
   "metadata": {},
   "source": [
    "```mysql\n",
    "SELECT *,\r\n",
    "       CASE \r\n",
    "           WHEN invested_companies < 20 THEN 'low_activity'\r\n",
    "           WHEN invested_companies < 100 THEN 'middle_activity'\r\n",
    "           ELSE 'high_activity'\r\n",
    "       END\r\n",
    "FROM fund;\n",
    "```"
   ]
  },
  {
   "cell_type": "markdown",
   "metadata": {},
   "source": [
    "### Задание 9"
   ]
  },
  {
   "cell_type": "markdown",
   "metadata": {},
   "source": [
    "Для каждой из категорий, назначенных в предыдущем задании, посчитайте округлённое до ближайшего целого числа среднее количество инвестиционных раундов, в которых фонд принимал участие. Выведите на экран категории и среднее число инвестиционных раундов. Отсортируйте таблицу по возрастанию среднего."
   ]
  },
  {
   "cell_type": "markdown",
   "metadata": {},
   "source": [
    "```mysql\n",
    "SELECT CASE\r\n",
    "           WHEN invested_companies>=100 THEN 'high_activity'\r\n",
    "           WHEN invested_companies>=20 THEN 'middle_activity'\r\n",
    "           ELSE 'low_activity'\r\n",
    "       END AS activity,\r\n",
    "       ROUND(AVG(investment_rounds)) AS avg\r\n",
    "FROM fund\r\n",
    "GROUP BY activity\r\n",
    "ORDER BY avg;\n",
    "```"
   ]
  },
  {
   "cell_type": "markdown",
   "metadata": {},
   "source": [
    "### Задание 10"
   ]
  },
  {
   "cell_type": "markdown",
   "metadata": {},
   "source": [
    "Проанализируйте, в каких странах находятся фонды, которые чаще всего инвестируют в стартапы.\n",
    "\n",
    "Для каждой страны посчитайте минимальное, максимальное и среднее число компаний, в которые инвестировали фонды этой страны, основанные с 2010 по 2012 год включительно. Исключите страны с фондами, у которых минимальное число компаний, получивших инвестиции, равно нулю.\n",
    "\n",
    "Выгрузите десять самых активных стран-инвесторов: отсортируйте таблицу по среднему количеству компаний от большего к меньшему. Затем добавьте сортировку по коду страны в лексикографическом порядке."
   ]
  },
  {
   "cell_type": "markdown",
   "metadata": {},
   "source": [
    "```mysql\n",
    "SELECT country_code,\r\n",
    "       MIN(invested_companies),\r\n",
    "       MAX(invested_companies),\r\n",
    "       AVG(invested_companies) AS avg_invested_companies\r\n",
    "FROM fund\r\n",
    "WHERE founded_at BETWEEN '2010-01-01' AND '2012-12-31'\r\n",
    "GROUP BY country_code\r\n",
    "HAVING MIN(invested_companies) != 0\r\n",
    "ORDER BY avg_invested_companies DESC, country_code\r\n",
    "LIMIT 10;\n",
    "```"
   ]
  },
  {
   "cell_type": "markdown",
   "metadata": {},
   "source": [
    "### Задание 11"
   ]
  },
  {
   "cell_type": "markdown",
   "metadata": {},
   "source": [
    "Отобразите имя и фамилию всех сотрудников стартапов. Добавьте поле с названием учебного заведения, которое окончил сотрудник, если эта информация известна."
   ]
  },
  {
   "cell_type": "markdown",
   "metadata": {},
   "source": [
    "```mysql\n",
    "SELECT p.first_name,\r\n",
    "       p.last_name,\r\n",
    "       e.instituition\r\n",
    "FROM people AS p\r\n",
    "LEFT JOIN education AS e ON e.person_id = p.id;\n",
    "```"
   ]
  },
  {
   "cell_type": "markdown",
   "metadata": {},
   "source": [
    "### Задание 12"
   ]
  },
  {
   "cell_type": "markdown",
   "metadata": {},
   "source": [
    "\n",
    "Для каждой компании найдите количество учебных заведений, которые окончили её сотрудники. Выведите название компании и число уникальных названий учебных заведений. Составьте топ-5 компаний по количеству университетов."
   ]
  },
  {
   "cell_type": "markdown",
   "metadata": {},
   "source": [
    "```mysql\n",
    "SELECT c.name AS company_name,\r\n",
    "       COUNT(DISTINCT e.instituition) AS instituition_count\r\n",
    "FROM people AS p\r\n",
    "LEFT JOIN education AS e ON e.person_id = p.id\r\n",
    "INNER JOIN company AS c ON c.id = p.company_id\r\n",
    "GROUP BY company_name\r\n",
    "ORDER BY instituition_count DESC\r\n",
    "LIMIT 5;\n",
    "```"
   ]
  },
  {
   "cell_type": "markdown",
   "metadata": {},
   "source": [
    "### Задание 13"
   ]
  },
  {
   "cell_type": "markdown",
   "metadata": {},
   "source": [
    "\n",
    "Составьте список с уникальными названиями закрытых компаний, для которых первый раунд финансирования оказался последним."
   ]
  },
  {
   "cell_type": "markdown",
   "metadata": {},
   "source": [
    "```mysql\n",
    "SELECT DISTINCT(c.name)\r\n",
    "FROM company AS c\r\n",
    "RIGHT JOIN funding_round AS fr ON fr.company_id = c.id\r\n",
    "WHERE c.status = 'closed'\r\n",
    "  AND fr.is_first_round = 1\r\n",
    "  AND fr.is_last_round = 1;\n",
    "```"
   ]
  },
  {
   "cell_type": "markdown",
   "metadata": {},
   "source": [
    "### Задание 14"
   ]
  },
  {
   "cell_type": "markdown",
   "metadata": {},
   "source": [
    "Составьте список уникальных номеров сотрудников, которые работают в компаниях, отобранных в предыдущем задании."
   ]
  },
  {
   "cell_type": "markdown",
   "metadata": {},
   "source": [
    "```mysql\n",
    "SELECT p.id\r\n",
    "FROM people AS p\r\n",
    "LEFT JOIN company AS c ON c.id = p.company_id\r\n",
    "WHERE c.name IN \r\n",
    "  (SELECT DISTINCT(c.name)\r\n",
    "   FROM company AS c\r\n",
    "   RIGHT JOIN funding_round AS fr ON fr.company_id = c.id\r\n",
    "   WHERE c.status = 'closed'\r\n",
    "     AND fr.is_first_round = 1\r\n",
    "     AND fr.is_last_round = 1);\n",
    "```"
   ]
  },
  {
   "cell_type": "markdown",
   "metadata": {},
   "source": [
    "### Задание 15"
   ]
  },
  {
   "cell_type": "markdown",
   "metadata": {},
   "source": [
    "Составьте таблицу, куда войдут уникальные пары с номерами сотрудников из предыдущей задачи и учебным заведением, которое окончил сотрудник."
   ]
  },
  {
   "cell_type": "markdown",
   "metadata": {},
   "source": [
    "```mysql\n",
    "SELECT DISTINCT p.id, \r\n",
    "       e.instituition\r\n",
    "FROM people AS p\r\n",
    "LEFT JOIN company AS c ON c.id = p.company_id\r\n",
    "RIGHT JOIN education AS e ON e.person_id = p.id\r\n",
    "WHERE c.name IN \r\n",
    "  (SELECT DISTINCT(c.name)\r\n",
    "   FROM company AS c\r\n",
    "   RIGHT JOIN funding_round AS fr ON fr.company_id = c.id\r\n",
    "   WHERE c.status = 'closed'\r\n",
    "     AND fr.is_first_round = 1\r\n",
    "     AND fr.is_last_round = 1);\n",
    "```"
   ]
  },
  {
   "cell_type": "markdown",
   "metadata": {},
   "source": [
    "### Задание 16"
   ]
  },
  {
   "cell_type": "markdown",
   "metadata": {},
   "source": [
    "Посчитайте количество учебных заведений для каждого сотрудника из предыдущего задания. При подсчёте учитывайте, что некоторые сотрудники могли окончить одно и то же заведение дважды."
   ]
  },
  {
   "cell_type": "markdown",
   "metadata": {},
   "source": [
    "```mysql\n",
    "SELECT p.id, \r\n",
    "       COUNT(e.instituition)\r\n",
    "FROM people AS p\r\n",
    "LEFT JOIN company AS c ON c.id = p.company_id\r\n",
    "RIGHT JOIN education AS e ON e.person_id = p.id\r\n",
    "WHERE c.name IN \r\n",
    "  (SELECT DISTINCT(c.name)\r\n",
    "   FROM company AS c\r\n",
    "   RIGHT JOIN funding_round AS fr ON fr.company_id = c.id\r\n",
    "   WHERE c.status = 'closed'\r\n",
    "     AND fr.is_first_round = 1\r\n",
    "     AND fr.is_last_round = 1)\r\n",
    "GROUP BY p.id;\n",
    "```"
   ]
  },
  {
   "cell_type": "markdown",
   "metadata": {},
   "source": [
    "### Задание 17"
   ]
  },
  {
   "cell_type": "markdown",
   "metadata": {},
   "source": [
    "Дополните предыдущий запрос и выведите среднее число учебных заведений (всех, не только уникальных), которые окончили сотрудники разных компаний. Нужно вывести только одну запись, группировка здесь не понадобится."
   ]
  },
  {
   "cell_type": "markdown",
   "metadata": {},
   "source": [
    "```mysql\n",
    "WITH people AS\r\n",
    "  (SELECT p.id, \r\n",
    "       COUNT(e.instituition)\r\n",
    "   FROM people AS p\r\n",
    "   LEFT JOIN company AS c ON c.id = p.company_id\r\n",
    "   RIGHT JOIN education AS e ON e.person_id = p.id\r\n",
    "   WHERE c.name IN \r\n",
    "     (SELECT DISTINCT(c.name)\r\n",
    "      FROM company AS c\r\n",
    "      RIGHT JOIN funding_round AS fr ON fr.company_id = c.id\r\n",
    "      WHERE c.status = 'closed'\r\n",
    "        AND fr.is_first_round = 1\r\n",
    "        AND fr.is_last_round = 1)\r\n",
    "   GROUP BY p.id)\r\n",
    "\r\n",
    "SELECT AVG(count)\r\n",
    "FROM people;\n",
    "```"
   ]
  },
  {
   "cell_type": "markdown",
   "metadata": {},
   "source": [
    "### Задание 18"
   ]
  },
  {
   "cell_type": "markdown",
   "metadata": {},
   "source": [
    "Напишите похожий запрос: выведите среднее число учебных заведений (всех, не только уникальных), которые окончили сотрудники Socialnet."
   ]
  },
  {
   "cell_type": "markdown",
   "metadata": {},
   "source": [
    "```mysql\n",
    "WITH people AS\r\n",
    "  (SELECT p.id, \r\n",
    "       COUNT(e.instituition)\r\n",
    "   FROM people AS p\r\n",
    "   LEFT JOIN company AS c ON c.id = p.company_id\r\n",
    "   RIGHT JOIN education AS e ON e.person_id = p.id\r\n",
    "   WHERE c.name = 'Socialnet'\r\n",
    "   GROUP BY p.id)\r\n",
    "\r\n",
    "SELECT AVG(count)\r\n",
    "FROM people;\n",
    "```"
   ]
  },
  {
   "cell_type": "markdown",
   "metadata": {},
   "source": [
    "### Задание 19"
   ]
  },
  {
   "cell_type": "markdown",
   "metadata": {},
   "source": [
    "Составьте таблицу из полей:\n",
    "- `name_of_fund` — название фонда;\n",
    "- `name_of_company` — название компании;\n",
    "- `amount` — сумма инвестиций, которую привлекла компания в раунде.\n",
    "\n",
    "В таблицу войдут данные о компаниях, в истории которых было больше шести важных этапов, а раунды финансирования проходили с 2012 по 2013 год включительно."
   ]
  },
  {
   "cell_type": "markdown",
   "metadata": {},
   "source": [
    "```mysql\n",
    "SELECT f.name AS name_of_fund,\r\n",
    "       c.name AS name_of_company,\r\n",
    "       fr.raised_amount AS amount\r\n",
    "FROM investment AS i\r\n",
    "LEFT JOIN company AS c ON c.id = i.company_id\r\n",
    "LEFT JOIN fund AS f ON f.id = i.fund_id\r\n",
    "LEFT JOIN funding_round AS fr ON fr.id = i.funding_round_id\r\n",
    "WHERE c.milestones > 6\r\n",
    "  AND EXTRACT(YEAR FROM fr.funded_at) BETWEEN 2012 AND 2013;\n",
    "```"
   ]
  },
  {
   "cell_type": "markdown",
   "metadata": {},
   "source": [
    "### Задание 20"
   ]
  },
  {
   "cell_type": "markdown",
   "metadata": {},
   "source": [
    "Выгрузите таблицу, в которой будут такие поля:\n",
    "- название компании-покупателя;\n",
    "- сумма сделки;\n",
    "- название компании, которую купили;\n",
    "- сумма инвестиций, вложенных в купленную компанию;\n",
    "- доля, которая отображает, во сколько раз сумма покупки превысила сумму вложенных в компанию инвестиций, округлённая до ближайшего целого числа.\n",
    "\n",
    "Не учитывайте те сделки, в которых сумма покупки равна нулю. Если сумма инвестиций в компанию равна нулю, исключите такую компанию из таблицы.\n",
    "\n",
    "Отсортируйте таблицу по сумме сделки от большей к меньшей, а затем по названию купленной компании в лексикографическом порядке. Ограничьте таблицу первыми десятью записями."
   ]
  },
  {
   "cell_type": "markdown",
   "metadata": {},
   "source": [
    "```mysql\n",
    "SELECT c_acquiring.name,\r\n",
    "       a.price_amount,\r\n",
    "       c_acquired.name,\r\n",
    "       c_acquired.funding_total,\r\n",
    "       ROUND(a.price_amount / c_acquired.funding_total)\r\n",
    "FROM acquisition AS a\r\n",
    "LEFT JOIN company AS c_acquiring ON c_acquiring.id = a.acquiring_company_id\r\n",
    "LEFT JOIN company AS c_acquired ON c_acquired.id = a.acquired_company_id\r\n",
    "WHERE a.price_amount != 0\r\n",
    "  AND c_acquired.funding_total != 0\r\n",
    "ORDER BY a.price_amount DESC, c_acquired.name\r\n",
    "LIMIT 10\n",
    "```"
   ]
  },
  {
   "cell_type": "markdown",
   "metadata": {},
   "source": [
    "### Задание 21"
   ]
  },
  {
   "cell_type": "markdown",
   "metadata": {},
   "source": [
    "Выгрузите таблицу, в которую войдут названия компаний из категории `social`, получившие финансирование с 2010 по 2013 год включительно. Проверьте, что сумма инвестиций не равна нулю. Выведите также номер месяца, в котором проходил раунд финансирования."
   ]
  },
  {
   "cell_type": "markdown",
   "metadata": {},
   "source": [
    "```mysql\n",
    "SELECT c.name, \r\n",
    "       EXTRACT(MONTH FROM fr.funded_at)\r\n",
    "FROM company AS c\r\n",
    "LEFT JOIN funding_round AS fr ON fr.company_id = c.id\r\n",
    "WHERE c.category_code = 'social'\r\n",
    "  AND fr.raised_amount != 0\r\n",
    "  AND EXTRACT(YEAR FROM fr.funded_at) BETWEEN 2010 AND 2013;\n",
    "```"
   ]
  },
  {
   "cell_type": "markdown",
   "metadata": {},
   "source": [
    "### Задание 22"
   ]
  },
  {
   "cell_type": "markdown",
   "metadata": {},
   "source": [
    "Отберите данные по месяцам с 2010 по 2013 год, когда проходили инвестиционные раунды. Сгруппируйте данные по номеру месяца и получите таблицу, в которой будут поля:\n",
    "- номер месяца, в котором проходили раунды;\n",
    "- количество уникальных названий фондов из США, которые инвестировали в этом месяце;\n",
    "- количество компаний, купленных за этот месяц;\n",
    "- общая сумма сделок по покупкам в этом месяце."
   ]
  },
  {
   "cell_type": "markdown",
   "metadata": {},
   "source": [
    "```mysql\n",
    "WITH \r\n",
    "fund AS (SELECT EXTRACT(MONTH FROM fr.funded_at) AS month, \r\n",
    "                COUNT(DISTINCT f.name) AS count\r\n",
    "         FROM funding_round AS fr\r\n",
    "         LEFT JOIN investment AS i ON i.funding_round_id = fr.id\r\n",
    "         LEFT JOIN fund AS f ON f.id = i.fund_id\r\n",
    "         WHERE EXTRACT(YEAR FROM fr.funded_at) BETWEEN 2010 AND 2013\r\n",
    "           AND f.country_code = 'USA'\r\n",
    "         GROUP BY month),\r\n",
    "acquisition AS (SELECT EXTRACT(MONTH FROM a.acquired_at) AS month,\r\n",
    "                       COUNT(*) AS count,\r\n",
    "                       SUM(price_amount) AS sum\r\n",
    "                FROM acquisition AS a\r\n",
    "                WHERE EXTRACT(YEAR FROM a.acquired_at) BETWEEN 2010 AND 2013\r\n",
    "                GROUP BY month)\r\n",
    "\r\n",
    "SELECT f.month, \r\n",
    "       f.count AS fund_count,\r\n",
    "       a.count AS company_count,\r\n",
    "       a.sum\r\n",
    "FROM fund AS f\r\n",
    "INNER JOIN acquisition AS a ON a.month = f.month;\n",
    "```"
   ]
  },
  {
   "cell_type": "markdown",
   "metadata": {},
   "source": [
    "### Задание 23"
   ]
  },
  {
   "cell_type": "markdown",
   "metadata": {},
   "source": [
    "Составьте сводную таблицу и выведите среднюю сумму инвестиций для стран, в которых есть стартапы, зарегистрированные в 2011, 2012 и 2013 годах. Данные за каждый год должны быть в отдельном поле. Отсортируйте таблицу по среднему значению инвестиций за 2011 год от большего к меньшему."
   ]
  },
  {
   "cell_type": "markdown",
   "metadata": {},
   "source": [
    "```mysql\n",
    "WITH \r\n",
    "inv_2011 AS (SELECT c.country_code,\r\n",
    "                    AVG(funding_total) AS avg_2011\r\n",
    "             FROM company AS c\r\n",
    "             WHERE EXTRACT(YEAR FROM c.founded_at) = 2011\r\n",
    "             GROUP BY c.country_code\r\n",
    "             HAVING COUNT(*) > 0),\r\n",
    "inv_2012 AS (SELECT c.country_code,\r\n",
    "                    AVG(funding_total) AS avg_2012\r\n",
    "             FROM company AS c\r\n",
    "             WHERE EXTRACT(YEAR FROM c.founded_at) = 2012\r\n",
    "             GROUP BY c.country_code\r\n",
    "             HAVING COUNT(*) > 0),\r\n",
    "inv_2013 AS (SELECT c.country_code,\r\n",
    "                    AVG(funding_total) AS avg_2013\r\n",
    "             FROM company AS c\r\n",
    "             WHERE EXTRACT(YEAR FROM c.founded_at) = 2013\r\n",
    "             GROUP BY c.country_code\r\n",
    "             HAVING COUNT(*) > 0)\r\n",
    "\r\n",
    "SELECT inv_2011.country_code,\r\n",
    "       inv_2011.avg_2011,\r\n",
    "       inv_2012.avg_2012,\r\n",
    "       inv_2013.avg_2013\r\n",
    "FROM inv_2011\r\n",
    "INNER JOIN inv_2012 ON inv_2012.country_code = inv_2011.country_code\r\n",
    "INNER JOIN inv_2013 ON inv_2013.country_code = inv_2011.country_code\r\n",
    "ORDER BY inv_2011.avg_2011 DESC;\n",
    "```"
   ]
  },
  {
   "cell_type": "code",
   "execution_count": null,
   "metadata": {},
   "outputs": [],
   "source": []
  }
 ],
 "metadata": {
  "ExecuteTimeLog": [
   {
    "duration": 1254,
    "start_time": "2024-12-12T20:10:42.729Z"
   },
   {
    "duration": 3,
    "start_time": "2024-12-12T20:10:43.985Z"
   },
   {
    "duration": 1683,
    "start_time": "2024-12-12T20:10:43.989Z"
   },
   {
    "duration": 52,
    "start_time": "2024-12-12T20:10:45.674Z"
   },
   {
    "duration": 32,
    "start_time": "2024-12-12T20:10:45.727Z"
   },
   {
    "duration": 76,
    "start_time": "2024-12-12T20:10:45.761Z"
   },
   {
    "duration": 9,
    "start_time": "2024-12-12T20:10:45.839Z"
   },
   {
    "duration": 112,
    "start_time": "2024-12-12T20:10:45.849Z"
   },
   {
    "duration": 3823,
    "start_time": "2024-12-12T20:10:45.962Z"
   },
   {
    "duration": 784,
    "start_time": "2024-12-12T20:10:49.787Z"
   },
   {
    "duration": 1955,
    "start_time": "2024-12-12T20:10:50.573Z"
   },
   {
    "duration": 3,
    "start_time": "2024-12-12T20:10:52.529Z"
   },
   {
    "duration": 46,
    "start_time": "2024-12-12T20:10:52.533Z"
   },
   {
    "duration": 331,
    "start_time": "2024-12-12T20:10:52.580Z"
   },
   {
    "duration": 116,
    "start_time": "2024-12-12T20:10:52.913Z"
   },
   {
    "duration": 1259,
    "start_time": "2024-12-12T20:10:53.031Z"
   },
   {
    "duration": 3,
    "start_time": "2024-12-12T20:10:54.291Z"
   },
   {
    "duration": 14,
    "start_time": "2024-12-12T20:10:54.295Z"
   },
   {
    "duration": 11,
    "start_time": "2024-12-12T20:10:54.311Z"
   },
   {
    "duration": 1935,
    "start_time": "2024-12-12T20:10:54.323Z"
   },
   {
    "duration": 51,
    "start_time": "2024-12-12T23:09:53.436Z"
   },
   {
    "duration": 1823,
    "start_time": "2024-12-12T23:10:12.195Z"
   },
   {
    "duration": 4,
    "start_time": "2024-12-12T23:10:14.020Z"
   },
   {
    "duration": 1448,
    "start_time": "2024-12-12T23:10:14.026Z"
   },
   {
    "duration": 94,
    "start_time": "2024-12-12T23:10:15.476Z"
   },
   {
    "duration": 69,
    "start_time": "2024-12-12T23:10:15.573Z"
   },
   {
    "duration": 97,
    "start_time": "2024-12-12T23:10:15.643Z"
   },
   {
    "duration": 12,
    "start_time": "2024-12-12T23:10:15.742Z"
   },
   {
    "duration": 165,
    "start_time": "2024-12-12T23:10:15.756Z"
   },
   {
    "duration": 4903,
    "start_time": "2024-12-12T23:10:15.922Z"
   },
   {
    "duration": 1090,
    "start_time": "2024-12-12T23:10:20.827Z"
   },
   {
    "duration": 2246,
    "start_time": "2024-12-12T23:10:21.919Z"
   },
   {
    "duration": 4,
    "start_time": "2024-12-12T23:10:24.167Z"
   },
   {
    "duration": 75,
    "start_time": "2024-12-12T23:10:24.172Z"
   },
   {
    "duration": 368,
    "start_time": "2024-12-12T23:10:24.249Z"
   },
   {
    "duration": 124,
    "start_time": "2024-12-12T23:10:24.619Z"
   },
   {
    "duration": 1525,
    "start_time": "2024-12-12T23:10:24.745Z"
   },
   {
    "duration": 3,
    "start_time": "2024-12-12T23:10:26.272Z"
   },
   {
    "duration": 9,
    "start_time": "2024-12-12T23:10:26.276Z"
   },
   {
    "duration": 4,
    "start_time": "2024-12-12T23:10:26.286Z"
   },
   {
    "duration": 2776,
    "start_time": "2024-12-12T23:10:26.291Z"
   },
   {
    "duration": 8,
    "start_time": "2024-12-12T23:10:29.069Z"
   }
  ],
  "kernelspec": {
   "display_name": "Python 3 (ipykernel)",
   "language": "python",
   "name": "python3"
  },
  "language_info": {
   "codemirror_mode": {
    "name": "ipython",
    "version": 3
   },
   "file_extension": ".py",
   "mimetype": "text/x-python",
   "name": "python",
   "nbconvert_exporter": "python",
   "pygments_lexer": "ipython3",
   "version": "3.12.4"
  },
  "toc": {
   "base_numbering": 1,
   "nav_menu": {},
   "number_sections": true,
   "sideBar": true,
   "skip_h1_title": true,
   "title_cell": "Table of Contents",
   "title_sidebar": "Contents",
   "toc_cell": false,
   "toc_position": {
    "height": "calc(100% - 180px)",
    "left": "10px",
    "top": "150px",
    "width": "246.188px"
   },
   "toc_section_display": true,
   "toc_window_display": true
  }
 },
 "nbformat": 4,
 "nbformat_minor": 4
}
