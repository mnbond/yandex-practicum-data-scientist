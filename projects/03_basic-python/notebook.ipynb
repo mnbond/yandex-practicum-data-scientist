{
 "cells": [
  {
   "cell_type": "markdown",
   "metadata": {
    "deletable": false,
    "editable": false,
    "id": "E0vqbgi9ay0H"
   },
   "source": [
    "# Яндекс Музыка"
   ]
  },
  {
   "cell_type": "markdown",
   "metadata": {
    "deletable": false,
    "editable": false,
    "id": "VUC88oWjTJw2"
   },
   "source": [
    "Сравнение Москвы и Петербурга окружено мифами. Например:\n",
    " * Москва — мегаполис, подчинённый жёсткому ритму рабочей недели;\n",
    " * Петербург — культурная столица, со своими вкусами.\n",
    "\n",
    "На данных Яндекс Музыки вы сравните поведение пользователей двух столиц.\n",
    "\n",
    "**Цель исследования** — проверьте три гипотезы:\n",
    "1. Активность пользователей зависит от дня недели. Причём в Москве и Петербурге это проявляется по-разному.\n",
    "2. В понедельник утром в Москве преобладают одни жанры, а в Петербурге — другие. Так же и вечером пятницы преобладают разные жанры — в зависимости от города.\n",
    "3. Москва и Петербург предпочитают разные жанры музыки. В Москве чаще слушают поп-музыку, в Петербурге — русский рэп.\n",
    "\n",
    "**Ход исследования**\n",
    "\n",
    "Данные о поведении пользователей вы получите из файла `yandex_music_project.csv`. О качестве данных ничего не известно. Поэтому перед проверкой гипотез понадобится обзор данных.\n",
    "\n",
    "Вы проверите данные на ошибки и оцените их влияние на исследование. Затем, на этапе предобработки вы поищете возможность исправить самые критичные ошибки данных.\n",
    "\n",
    "Таким образом, исследование пройдёт в три этапа:\n",
    " 1. Обзор данных.\n",
    " 2. Предобработка данных.\n",
    " 3. Проверка гипотез.\n",
    "\n"
   ]
  },
  {
   "cell_type": "markdown",
   "metadata": {
    "deletable": false,
    "editable": false,
    "id": "Ml1hmfXC_Zcs"
   },
   "source": [
    "## Обзор данных\n",
    "\n",
    "Составьте первое представление о данных Яндекс Музыки.\n",
    "\n",
    "\n"
   ]
  },
  {
   "cell_type": "markdown",
   "metadata": {
    "deletable": false,
    "editable": false,
    "id": "57eAOGIz_Zcs",
    "tags": [
     "start_task"
    ]
   },
   "source": [
    "**Задание 1**"
   ]
  },
  {
   "cell_type": "code",
   "execution_count": 5,
   "metadata": {
    "deletable": false,
    "id": "AXN7PHPN_Zcs"
   },
   "outputs": [],
   "source": [
    "# импорт библиотеки pandas\n",
    "import pandas as pd"
   ]
  },
  {
   "cell_type": "markdown",
   "metadata": {
    "deletable": false,
    "editable": false,
    "id": "SG23P8tt_Zcs",
    "tags": [
     "start_task"
    ]
   },
   "source": [
    "**Задание 2**"
   ]
  },
  {
   "cell_type": "code",
   "execution_count": 7,
   "metadata": {
    "deletable": false,
    "id": "fFVu7vqh_Zct"
   },
   "outputs": [],
   "source": [
    "# чтение файла с данными и сохранение в df\n",
    "df = pd.read_csv('../datasets/yandex_music_project.csv')"
   ]
  },
  {
   "cell_type": "markdown",
   "metadata": {
    "deletable": false,
    "editable": false,
    "id": "rDoOMd3uTqnZ",
    "tags": [
     "start_task"
    ]
   },
   "source": [
    "**Задание 3**"
   ]
  },
  {
   "cell_type": "code",
   "execution_count": 9,
   "metadata": {
    "deletable": false,
    "id": "oWTVX3gW_Zct"
   },
   "outputs": [
    {
     "data": {
      "text/html": [
       "<div>\n",
       "<style scoped>\n",
       "    .dataframe tbody tr th:only-of-type {\n",
       "        vertical-align: middle;\n",
       "    }\n",
       "\n",
       "    .dataframe tbody tr th {\n",
       "        vertical-align: top;\n",
       "    }\n",
       "\n",
       "    .dataframe thead th {\n",
       "        text-align: right;\n",
       "    }\n",
       "</style>\n",
       "<table border=\"1\" class=\"dataframe\">\n",
       "  <thead>\n",
       "    <tr style=\"text-align: right;\">\n",
       "      <th></th>\n",
       "      <th>userID</th>\n",
       "      <th>Track</th>\n",
       "      <th>artist</th>\n",
       "      <th>genre</th>\n",
       "      <th>City</th>\n",
       "      <th>time</th>\n",
       "      <th>Day</th>\n",
       "    </tr>\n",
       "  </thead>\n",
       "  <tbody>\n",
       "    <tr>\n",
       "      <th>0</th>\n",
       "      <td>FFB692EC</td>\n",
       "      <td>Kamigata To Boots</td>\n",
       "      <td>The Mass Missile</td>\n",
       "      <td>rock</td>\n",
       "      <td>Saint-Petersburg</td>\n",
       "      <td>20:28:33</td>\n",
       "      <td>Wednesday</td>\n",
       "    </tr>\n",
       "    <tr>\n",
       "      <th>1</th>\n",
       "      <td>55204538</td>\n",
       "      <td>Delayed Because of Accident</td>\n",
       "      <td>Andreas Rönnberg</td>\n",
       "      <td>rock</td>\n",
       "      <td>Moscow</td>\n",
       "      <td>14:07:09</td>\n",
       "      <td>Friday</td>\n",
       "    </tr>\n",
       "    <tr>\n",
       "      <th>2</th>\n",
       "      <td>20EC38</td>\n",
       "      <td>Funiculì funiculà</td>\n",
       "      <td>Mario Lanza</td>\n",
       "      <td>pop</td>\n",
       "      <td>Saint-Petersburg</td>\n",
       "      <td>20:58:07</td>\n",
       "      <td>Wednesday</td>\n",
       "    </tr>\n",
       "    <tr>\n",
       "      <th>3</th>\n",
       "      <td>A3DD03C9</td>\n",
       "      <td>Dragons in the Sunset</td>\n",
       "      <td>Fire + Ice</td>\n",
       "      <td>folk</td>\n",
       "      <td>Saint-Petersburg</td>\n",
       "      <td>08:37:09</td>\n",
       "      <td>Monday</td>\n",
       "    </tr>\n",
       "    <tr>\n",
       "      <th>4</th>\n",
       "      <td>E2DC1FAE</td>\n",
       "      <td>Soul People</td>\n",
       "      <td>Space Echo</td>\n",
       "      <td>dance</td>\n",
       "      <td>Moscow</td>\n",
       "      <td>08:34:34</td>\n",
       "      <td>Monday</td>\n",
       "    </tr>\n",
       "    <tr>\n",
       "      <th>5</th>\n",
       "      <td>842029A1</td>\n",
       "      <td>Преданная</td>\n",
       "      <td>IMPERVTOR</td>\n",
       "      <td>rusrap</td>\n",
       "      <td>Saint-Petersburg</td>\n",
       "      <td>13:09:41</td>\n",
       "      <td>Friday</td>\n",
       "    </tr>\n",
       "    <tr>\n",
       "      <th>6</th>\n",
       "      <td>4CB90AA5</td>\n",
       "      <td>True</td>\n",
       "      <td>Roman Messer</td>\n",
       "      <td>dance</td>\n",
       "      <td>Moscow</td>\n",
       "      <td>13:00:07</td>\n",
       "      <td>Wednesday</td>\n",
       "    </tr>\n",
       "    <tr>\n",
       "      <th>7</th>\n",
       "      <td>F03E1C1F</td>\n",
       "      <td>Feeling This Way</td>\n",
       "      <td>Polina Griffith</td>\n",
       "      <td>dance</td>\n",
       "      <td>Moscow</td>\n",
       "      <td>20:47:49</td>\n",
       "      <td>Wednesday</td>\n",
       "    </tr>\n",
       "    <tr>\n",
       "      <th>8</th>\n",
       "      <td>8FA1D3BE</td>\n",
       "      <td>И вновь продолжается бой</td>\n",
       "      <td>NaN</td>\n",
       "      <td>ruspop</td>\n",
       "      <td>Moscow</td>\n",
       "      <td>09:17:40</td>\n",
       "      <td>Friday</td>\n",
       "    </tr>\n",
       "    <tr>\n",
       "      <th>9</th>\n",
       "      <td>E772D5C0</td>\n",
       "      <td>Pessimist</td>\n",
       "      <td>NaN</td>\n",
       "      <td>dance</td>\n",
       "      <td>Saint-Petersburg</td>\n",
       "      <td>21:20:49</td>\n",
       "      <td>Wednesday</td>\n",
       "    </tr>\n",
       "  </tbody>\n",
       "</table>\n",
       "</div>"
      ],
      "text/plain": [
       "     userID                        Track            artist   genre  \\\n",
       "0  FFB692EC            Kamigata To Boots  The Mass Missile    rock   \n",
       "1  55204538  Delayed Because of Accident  Andreas Rönnberg    rock   \n",
       "2    20EC38            Funiculì funiculà       Mario Lanza     pop   \n",
       "3  A3DD03C9        Dragons in the Sunset        Fire + Ice    folk   \n",
       "4  E2DC1FAE                  Soul People        Space Echo   dance   \n",
       "5  842029A1                    Преданная         IMPERVTOR  rusrap   \n",
       "6  4CB90AA5                         True      Roman Messer   dance   \n",
       "7  F03E1C1F             Feeling This Way   Polina Griffith   dance   \n",
       "8  8FA1D3BE     И вновь продолжается бой               NaN  ruspop   \n",
       "9  E772D5C0                    Pessimist               NaN   dance   \n",
       "\n",
       "             City        time        Day  \n",
       "0  Saint-Petersburg  20:28:33  Wednesday  \n",
       "1            Moscow  14:07:09     Friday  \n",
       "2  Saint-Petersburg  20:58:07  Wednesday  \n",
       "3  Saint-Petersburg  08:37:09     Monday  \n",
       "4            Moscow  08:34:34     Monday  \n",
       "5  Saint-Petersburg  13:09:41     Friday  \n",
       "6            Moscow  13:00:07  Wednesday  \n",
       "7            Moscow  20:47:49  Wednesday  \n",
       "8            Moscow  09:17:40     Friday  \n",
       "9  Saint-Petersburg  21:20:49  Wednesday  "
      ]
     },
     "execution_count": 9,
     "metadata": {},
     "output_type": "execute_result"
    }
   ],
   "source": [
    "# получение первых 10 строк таблицы df\n",
    "df.head(10)"
   ]
  },
  {
   "cell_type": "markdown",
   "metadata": {
    "deletable": false,
    "editable": false,
    "id": "EO73Kwic_Zct",
    "tags": [
     "start_task"
    ]
   },
   "source": [
    "**Задание 4**"
   ]
  },
  {
   "cell_type": "code",
   "execution_count": 11,
   "metadata": {
    "deletable": false,
    "id": "DSf2kIb-_Zct"
   },
   "outputs": [
    {
     "name": "stdout",
     "output_type": "stream",
     "text": [
      "<class 'pandas.core.frame.DataFrame'>\n",
      "RangeIndex: 65079 entries, 0 to 65078\n",
      "Data columns (total 7 columns):\n",
      " #   Column    Non-Null Count  Dtype \n",
      "---  ------    --------------  ----- \n",
      " 0     userID  65079 non-null  object\n",
      " 1   Track     63848 non-null  object\n",
      " 2   artist    57876 non-null  object\n",
      " 3   genre     63881 non-null  object\n",
      " 4     City    65079 non-null  object\n",
      " 5   time      65079 non-null  object\n",
      " 6   Day       65079 non-null  object\n",
      "dtypes: object(7)\n",
      "memory usage: 3.5+ MB\n"
     ]
    }
   ],
   "source": [
    "# получение общей информации о данных в таблице df\n",
    "df.info()"
   ]
  },
  {
   "cell_type": "markdown",
   "metadata": {
    "deletable": false,
    "editable": false,
    "id": "TaQ2Iwbr_Zct"
   },
   "source": [
    "Количество значений в столбцах различается. Значит, в данных есть пропущенные значения."
   ]
  },
  {
   "cell_type": "markdown",
   "metadata": {
    "deletable": false,
    "editable": false,
    "id": "4P0UCWzswgEm",
    "tags": [
     "start_task"
    ]
   },
   "source": [
    "**Задание 5**"
   ]
  },
  {
   "cell_type": "code",
   "execution_count": 14,
   "metadata": {
    "id": "c137-ZstwgEm"
   },
   "outputs": [],
   "source": [
    "# Напишите ваш ответ здесь комментарием. Не удаляйте символ #. Не меняйте тип этой ячейки на Markdown.\n",
    "# В названиях колонок видны нарушения стиля:\n",
    "# 1. Строчные буквы сочетаются с прописными.\n",
    "# 2. Встречаются пробелы.\n",
    "# 3. Не разделены слова, например, userID."
   ]
  },
  {
   "cell_type": "markdown",
   "metadata": {
    "deletable": false,
    "editable": false,
    "id": "MCB6-dXG_Zct"
   },
   "source": [
    "**Выводы**\n",
    "\n",
    "В каждой строке таблицы — данные о прослушанном треке. Часть колонок описывает саму композицию: название, исполнителя и жанр. Остальные данные рассказывают о пользователе: из какого он города, когда он слушал музыку.\n",
    "\n",
    "Предварительно можно утверждать, что данных достаточно для проверки гипотез. Но встречаются пропуски в данных, а в названиях колонок — расхождения с хорошим стилем.\n",
    "\n",
    "Чтобы двигаться дальше, нужно устранить проблемы в данных."
   ]
  },
  {
   "cell_type": "markdown",
   "metadata": {
    "deletable": false,
    "editable": false,
    "id": "SjYF6Ub9_Zct"
   },
   "source": [
    "## Предобработка данных"
   ]
  },
  {
   "cell_type": "markdown",
   "metadata": {
    "deletable": false,
    "editable": false,
    "id": "dIaKXr29_Zct",
    "tags": [
     "start_task"
    ]
   },
   "source": [
    "### Переименование столбцов\n",
    "\n",
    "**Задание 6**"
   ]
  },
  {
   "cell_type": "code",
   "execution_count": 18,
   "metadata": {
    "deletable": false,
    "id": "oKOTdF_Q_Zct"
   },
   "outputs": [
    {
     "data": {
      "text/plain": [
       "Index(['  userID', 'Track', 'artist', 'genre', '  City  ', 'time', 'Day'], dtype='object')"
      ]
     },
     "execution_count": 18,
     "metadata": {},
     "output_type": "execute_result"
    }
   ],
   "source": [
    "# перечень названий столбцов таблицы df\n",
    "df.columns"
   ]
  },
  {
   "cell_type": "markdown",
   "metadata": {
    "deletable": false,
    "editable": false,
    "id": "zj5534cv_Zct",
    "tags": [
     "start_task"
    ]
   },
   "source": [
    "**Задание 7**"
   ]
  },
  {
   "cell_type": "code",
   "execution_count": 20,
   "metadata": {
    "deletable": false,
    "id": "ISlFqs5y_Zct"
   },
   "outputs": [],
   "source": [
    "# переименование столбцов\n",
    "df = df.rename(\n",
    "    columns={\n",
    "        '  userID': 'user_id',\n",
    "        'Track': 'track',\n",
    "        '  City  ': 'city',\n",
    "        'Day': 'day'\n",
    "    }\n",
    ")"
   ]
  },
  {
   "cell_type": "markdown",
   "metadata": {
    "deletable": false,
    "editable": false,
    "id": "1dqbh00J_Zct",
    "tags": [
     "start_task"
    ]
   },
   "source": [
    "**Задание 8**"
   ]
  },
  {
   "cell_type": "code",
   "execution_count": 22,
   "metadata": {
    "deletable": false,
    "id": "d4NOAmTW_Zct"
   },
   "outputs": [
    {
     "data": {
      "text/plain": [
       "Index(['user_id', 'track', 'artist', 'genre', 'city', 'time', 'day'], dtype='object')"
      ]
     },
     "execution_count": 22,
     "metadata": {},
     "output_type": "execute_result"
    }
   ],
   "source": [
    "# проверка результатов - перечень названий столбцов\n",
    "df.columns"
   ]
  },
  {
   "cell_type": "markdown",
   "metadata": {
    "deletable": false,
    "editable": false,
    "id": "5ISfbcfY_Zct",
    "tags": [
     "start_task"
    ]
   },
   "source": [
    "### Обработка пропущенных значений\n",
    "\n",
    "**Задание 9**"
   ]
  },
  {
   "cell_type": "code",
   "execution_count": 24,
   "metadata": {
    "deletable": false,
    "id": "RskX29qr_Zct"
   },
   "outputs": [
    {
     "data": {
      "text/plain": [
       "user_id       0\n",
       "track      1231\n",
       "artist     7203\n",
       "genre      1198\n",
       "city          0\n",
       "time          0\n",
       "day           0\n",
       "dtype: int64"
      ]
     },
     "execution_count": 24,
     "metadata": {},
     "output_type": "execute_result"
    }
   ],
   "source": [
    "# подсчёт пропусков\n",
    "df.isna().sum()"
   ]
  },
  {
   "cell_type": "markdown",
   "metadata": {
    "deletable": false,
    "editable": false,
    "id": "fSv2laPA_Zct",
    "tags": [
     "start_task"
    ]
   },
   "source": [
    "**Задание 10**"
   ]
  },
  {
   "cell_type": "code",
   "execution_count": 26,
   "metadata": {
    "deletable": false,
    "id": "KplB5qWs_Zct"
   },
   "outputs": [],
   "source": [
    "# замена пропущенных значений на 'unknown'\n",
    "columns_to_replace = ['track', 'artist', 'genre'];\n",
    "for column in columns_to_replace:\n",
    "    df[column] = df[column].fillna('unknown')"
   ]
  },
  {
   "cell_type": "markdown",
   "metadata": {
    "deletable": false,
    "editable": false,
    "id": "Ilsm-MZo_Zct",
    "tags": [
     "start_task"
    ]
   },
   "source": [
    "**Задание 11**"
   ]
  },
  {
   "cell_type": "code",
   "execution_count": 28,
   "metadata": {
    "deletable": false,
    "id": "Tq4nYRX4_Zct"
   },
   "outputs": [
    {
     "data": {
      "text/plain": [
       "user_id    0\n",
       "track      0\n",
       "artist     0\n",
       "genre      0\n",
       "city       0\n",
       "time       0\n",
       "day        0\n",
       "dtype: int64"
      ]
     },
     "execution_count": 28,
     "metadata": {},
     "output_type": "execute_result"
    }
   ],
   "source": [
    "# проверка на отсутствие пропусков\n",
    "df.isna().sum()"
   ]
  },
  {
   "cell_type": "markdown",
   "metadata": {
    "deletable": false,
    "editable": false,
    "id": "BWKRtBJ3_Zct",
    "tags": [
     "start_task"
    ]
   },
   "source": [
    "### Обработка дубликатов\n",
    "\n",
    "**Задание 12**"
   ]
  },
  {
   "cell_type": "code",
   "execution_count": 30,
   "metadata": {
    "deletable": false,
    "id": "36eES_S0_Zct"
   },
   "outputs": [
    {
     "data": {
      "text/plain": [
       "3826"
      ]
     },
     "execution_count": 30,
     "metadata": {},
     "output_type": "execute_result"
    }
   ],
   "source": [
    "# подсчёт явных дубликатов\n",
    "df.duplicated().sum()"
   ]
  },
  {
   "cell_type": "markdown",
   "metadata": {
    "deletable": false,
    "editable": false,
    "id": "Ot25h6XR_Zct",
    "tags": [
     "start_task"
    ]
   },
   "source": [
    "**Задание 13**"
   ]
  },
  {
   "cell_type": "code",
   "execution_count": 32,
   "metadata": {
    "deletable": false,
    "id": "exFHq6tt_Zct"
   },
   "outputs": [],
   "source": [
    "# удаление явных дубликатов, создание новых индексов и удаление старых\n",
    "df = df.drop_duplicates().reset_index(drop=True)"
   ]
  },
  {
   "cell_type": "markdown",
   "metadata": {
    "deletable": false,
    "editable": false,
    "id": "Im2YwBEG_Zct",
    "tags": [
     "start_task"
    ]
   },
   "source": [
    "**Задание 14**"
   ]
  },
  {
   "cell_type": "code",
   "execution_count": 34,
   "metadata": {
    "deletable": false,
    "id": "-8PuNWQ0_Zct"
   },
   "outputs": [
    {
     "data": {
      "text/plain": [
       "0"
      ]
     },
     "execution_count": 34,
     "metadata": {},
     "output_type": "execute_result"
    }
   ],
   "source": [
    "# проверка на отсутствие явных дубликатов\n",
    "df.duplicated().sum()"
   ]
  },
  {
   "cell_type": "markdown",
   "metadata": {
    "deletable": false,
    "editable": false,
    "id": "eSjWwsOh_Zct",
    "tags": [
     "start_task"
    ]
   },
   "source": [
    "**Задание 15**"
   ]
  },
  {
   "cell_type": "code",
   "execution_count": 36,
   "metadata": {
    "deletable": false,
    "id": "JIUcqzZN_Zct"
   },
   "outputs": [
    {
     "data": {
      "text/plain": [
       "\"acid, acoustic, action, adult, africa, afrikaans, alternative, alternativepunk, ambient, americana, animated, anime, arabesk, arabic, arena, argentinetango, art, audiobook, author, avantgarde, axé, baile, balkan, beats, bigroom, black, bluegrass, blues, bollywood, bossa, brazilian, breakbeat, breaks, broadway, cantautori, cantopop, canzone, caribbean, caucasian, celtic, chamber, chanson, children, chill, chinese, choral, christian, christmas, classical, classicmetal, club, colombian, comedy, conjazz, contemporary, country, cuban, dance, dancehall, dancepop, dark, death, deep, deutschrock, deutschspr, dirty, disco, dnb, documentary, downbeat, downtempo, drum, dub, dubstep, eastern, easy, electronic, electropop, emo, entehno, epicmetal, estrada, ethnic, eurofolk, european, experimental, extrememetal, fado, fairytail, film, fitness, flamenco, folk, folklore, folkmetal, folkrock, folktronica, forró, frankreich, französisch, french, funk, future, gangsta, garage, german, ghazal, gitarre, glitch, gospel, gothic, grime, grunge, gypsy, handsup, hard'n'heavy, hardcore, hardstyle, hardtechno, hip, hip-hop, hiphop, historisch, holiday, hop, horror, house, hymn, idm, independent, indian, indie, indipop, industrial, inspirational, instrumental, international, irish, jam, japanese, jazz, jewish, jpop, jungle, k-pop, karadeniz, karaoke, kayokyoku, korean, laiko, latin, latino, leftfield, local, lounge, loungeelectronic, lovers, malaysian, mandopop, marschmusik, meditative, mediterranean, melodic, metal, metalcore, mexican, middle, minimal, miscellaneous, modern, mood, mpb, muslim, native, neoklassik, neue, new, newage, newwave, nu, nujazz, numetal, oceania, old, opera, orchestral, other, piano, podcasts, pop, popdance, popelectronic, popeurodance, poprussian, post, posthardcore, postrock, power, progmetal, progressive, psychedelic, punjabi, punk, quebecois, ragga, ram, rancheras, rap, rave, reggae, reggaeton, regional, relax, religious, retro, rhythm, rnb, rnr, rock, rockabilly, rockalternative, rockindie, rockother, romance, roots, ruspop, rusrap, rusrock, russian, salsa, samba, scenic, schlager, self, sertanejo, shanson, shoegazing, showtunes, singer, ska, skarock, slow, smooth, soft, soul, soulful, sound, soundtrack, southern, specialty, speech, spiritual, sport, stonerrock, surf, swing, synthpop, synthrock, sängerportrait, tango, tanzorchester, taraftar, tatar, tech, techno, teen, thrash, top, traditional, tradjazz, trance, tribal, trip, triphop, tropical, türk, türkçe, ukrrock, unknown, urban, uzbek, variété, vi, videogame, vocal, western, world, worldbeat, ïîï, электроника\""
      ]
     },
     "execution_count": 36,
     "metadata": {},
     "output_type": "execute_result"
    }
   ],
   "source": [
    "# просмотр уникальных отсортированных названий жанров\n",
    "', '.join(sorted(df['genre'].unique()))\n",
    "\n",
    "# неявные дубликаты в названиях жанров:\n",
    "# hip, hip-hop, hiphop, hop\n",
    "# poprussian, ruspop\n",
    "# türk, türkçe\n",
    "# electronic, электроника"
   ]
  },
  {
   "cell_type": "markdown",
   "metadata": {
    "deletable": false,
    "editable": false,
    "id": "qej-Qmuo_Zct",
    "tags": [
     "start_task"
    ]
   },
   "source": [
    "**Задание 16**"
   ]
  },
  {
   "cell_type": "code",
   "execution_count": 38,
   "metadata": {
    "deletable": false,
    "id": "ErNDkmns_Zct"
   },
   "outputs": [],
   "source": [
    "# устранение неявных дубликатов\n",
    "df['genre'] = df['genre'].replace(['hip', 'hip-hop', 'hop'], 'hiphop')"
   ]
  },
  {
   "cell_type": "markdown",
   "metadata": {
    "deletable": false,
    "editable": false,
    "id": "zQKF16_RG15m",
    "tags": [
     "start_task"
    ]
   },
   "source": [
    "**Задание 17**"
   ]
  },
  {
   "cell_type": "code",
   "execution_count": 40,
   "metadata": {
    "deletable": false,
    "id": "wvixALnFG15m"
   },
   "outputs": [
    {
     "data": {
      "text/plain": [
       "\"acid, acoustic, action, adult, africa, afrikaans, alternative, alternativepunk, ambient, americana, animated, anime, arabesk, arabic, arena, argentinetango, art, audiobook, author, avantgarde, axé, baile, balkan, beats, bigroom, black, bluegrass, blues, bollywood, bossa, brazilian, breakbeat, breaks, broadway, cantautori, cantopop, canzone, caribbean, caucasian, celtic, chamber, chanson, children, chill, chinese, choral, christian, christmas, classical, classicmetal, club, colombian, comedy, conjazz, contemporary, country, cuban, dance, dancehall, dancepop, dark, death, deep, deutschrock, deutschspr, dirty, disco, dnb, documentary, downbeat, downtempo, drum, dub, dubstep, eastern, easy, electronic, electropop, emo, entehno, epicmetal, estrada, ethnic, eurofolk, european, experimental, extrememetal, fado, fairytail, film, fitness, flamenco, folk, folklore, folkmetal, folkrock, folktronica, forró, frankreich, französisch, french, funk, future, gangsta, garage, german, ghazal, gitarre, glitch, gospel, gothic, grime, grunge, gypsy, handsup, hard'n'heavy, hardcore, hardstyle, hardtechno, hiphop, historisch, holiday, horror, house, hymn, idm, independent, indian, indie, indipop, industrial, inspirational, instrumental, international, irish, jam, japanese, jazz, jewish, jpop, jungle, k-pop, karadeniz, karaoke, kayokyoku, korean, laiko, latin, latino, leftfield, local, lounge, loungeelectronic, lovers, malaysian, mandopop, marschmusik, meditative, mediterranean, melodic, metal, metalcore, mexican, middle, minimal, miscellaneous, modern, mood, mpb, muslim, native, neoklassik, neue, new, newage, newwave, nu, nujazz, numetal, oceania, old, opera, orchestral, other, piano, podcasts, pop, popdance, popelectronic, popeurodance, poprussian, post, posthardcore, postrock, power, progmetal, progressive, psychedelic, punjabi, punk, quebecois, ragga, ram, rancheras, rap, rave, reggae, reggaeton, regional, relax, religious, retro, rhythm, rnb, rnr, rock, rockabilly, rockalternative, rockindie, rockother, romance, roots, ruspop, rusrap, rusrock, russian, salsa, samba, scenic, schlager, self, sertanejo, shanson, shoegazing, showtunes, singer, ska, skarock, slow, smooth, soft, soul, soulful, sound, soundtrack, southern, specialty, speech, spiritual, sport, stonerrock, surf, swing, synthpop, synthrock, sängerportrait, tango, tanzorchester, taraftar, tatar, tech, techno, teen, thrash, top, traditional, tradjazz, trance, tribal, trip, triphop, tropical, türk, türkçe, ukrrock, unknown, urban, uzbek, variété, vi, videogame, vocal, western, world, worldbeat, ïîï, электроника\""
      ]
     },
     "execution_count": 40,
     "metadata": {},
     "output_type": "execute_result"
    }
   ],
   "source": [
    "# проверка на отсутствие неявных дубликатов\n",
    "', '.join(sorted(df['genre'].unique()))"
   ]
  },
  {
   "cell_type": "markdown",
   "metadata": {
    "deletable": false,
    "editable": false,
    "id": "jz6a9-7HQUDd"
   },
   "source": [
    "**Выводы**\n",
    "\n",
    "Предобработка обнаружила три проблемы в данных:\n",
    "\n",
    "- нарушения в стиле заголовков,\n",
    "- пропущенные значения,\n",
    "- дубликаты — явные и неявные.\n",
    "\n",
    "Вы исправили заголовки, чтобы упростить работу с таблицей. Без дубликатов исследование станет более точным.\n",
    "\n",
    "Пропущенные значения вы заменили на `'unknown'`. Ещё предстоит увидеть, не повредят ли исследованию пропуски в колонке `genre`.\n",
    "\n",
    "Теперь можно перейти к проверке гипотез."
   ]
  },
  {
   "cell_type": "markdown",
   "metadata": {
    "deletable": false,
    "editable": false,
    "id": "WttZHXH0SqKk"
   },
   "source": [
    "## Проверка гипотез"
   ]
  },
  {
   "cell_type": "markdown",
   "metadata": {
    "deletable": false,
    "editable": false,
    "id": "Im936VVi_Zcu"
   },
   "source": [
    "### Сравнение поведения пользователей двух столиц"
   ]
  },
  {
   "cell_type": "markdown",
   "metadata": {
    "deletable": false,
    "editable": false,
    "id": "nwt_MuaL_Zcu"
   },
   "source": [
    "Первая гипотеза утверждает, что пользователи по-разному слушают музыку в Москве и Санкт-Петербурге. Проверим это предположение по данным о трёх днях недели — понедельнике, среде и пятнице. Для этого:\n",
    "\n",
    "* Разделим пользователей Москвы и Санкт-Петербурга.\n",
    "* Сравним, сколько треков послушала каждая группа пользователей в понедельник, среду и пятницу.\n"
   ]
  },
  {
   "cell_type": "markdown",
   "metadata": {
    "deletable": false,
    "id": "8Dw_YMmT_Zcu",
    "tags": [
     "start_task"
    ]
   },
   "source": [
    "**Задание 18**\n",
    "\n"
   ]
  },
  {
   "cell_type": "code",
   "execution_count": 46,
   "metadata": {
    "deletable": false,
    "id": "0_Qs96oh_Zcu"
   },
   "outputs": [
    {
     "data": {
      "text/plain": [
       "city\n",
       "Moscow              42741\n",
       "Saint-Petersburg    18512\n",
       "Name: city, dtype: int64"
      ]
     },
     "execution_count": 46,
     "metadata": {},
     "output_type": "execute_result"
    }
   ],
   "source": [
    "# подсчёт прослушиваний в каждом городе\n",
    "df.groupby('city')['city'].count()"
   ]
  },
  {
   "cell_type": "markdown",
   "metadata": {
    "id": "dzli3w8o_Zcu",
    "tags": [
     "start_task"
    ]
   },
   "source": [
    "**Задание 19**\n"
   ]
  },
  {
   "cell_type": "code",
   "execution_count": 48,
   "metadata": {
    "deletable": false,
    "id": "uZMKjiJz_Zcu"
   },
   "outputs": [
    {
     "data": {
      "text/plain": [
       "day\n",
       "Friday       21840\n",
       "Monday       21354\n",
       "Wednesday    18059\n",
       "Name: day, dtype: int64"
      ]
     },
     "execution_count": 48,
     "metadata": {},
     "output_type": "execute_result"
    }
   ],
   "source": [
    "# подсчёт прослушиваний в каждый из трёх дней\n",
    "df.groupby('day')['day'].count()"
   ]
  },
  {
   "cell_type": "markdown",
   "metadata": {
    "deletable": false,
    "editable": false,
    "id": "POzs8bGa_Zcu",
    "tags": [
     "start_task"
    ]
   },
   "source": [
    "**Задание 20**"
   ]
  },
  {
   "cell_type": "code",
   "execution_count": 50,
   "metadata": {
    "deletable": false,
    "id": "Nz3GdQB1_Zcu"
   },
   "outputs": [],
   "source": [
    "def number_tracks(day, city):\n",
    "    # выберите только строки df со значением переменной day в столбце day\n",
    "    track_list = df[df['day'] == day]\n",
    "    \n",
    "    # выберите только строки track_list со значением переменной city в столбце city\n",
    "    track_list = track_list[track_list['city'] == city]\n",
    "    \n",
    "    # вызовите метод подсчета строк для track_list и выберите столбец user_id\n",
    "    track_list_count = track_list['user_id'].count()\n",
    "    \n",
    "    # верните значение track_list_count из функции\n",
    "    return track_list_count"
   ]
  },
  {
   "cell_type": "markdown",
   "metadata": {
    "deletable": false,
    "editable": false,
    "id": "ytf7xFrFJQ2r",
    "tags": [
     "start_task"
    ]
   },
   "source": [
    "**Задание 21**"
   ]
  },
  {
   "cell_type": "code",
   "execution_count": 52,
   "metadata": {
    "deletable": false,
    "id": "rJcRATNQ_Zcu"
   },
   "outputs": [
    {
     "data": {
      "text/plain": [
       "15740"
      ]
     },
     "execution_count": 52,
     "metadata": {},
     "output_type": "execute_result"
    }
   ],
   "source": [
    "# количество прослушиваний в Москве по понедельникам\n",
    "number_tracks('Monday', 'Moscow')"
   ]
  },
  {
   "cell_type": "code",
   "execution_count": 53,
   "metadata": {
    "deletable": false,
    "id": "hq_ncZ5T_Zcu"
   },
   "outputs": [
    {
     "data": {
      "text/plain": [
       "5614"
      ]
     },
     "execution_count": 53,
     "metadata": {},
     "output_type": "execute_result"
    }
   ],
   "source": [
    "# количество прослушиваний в Санкт-Петербурге по понедельникам\n",
    "number_tracks('Monday', 'Saint-Petersburg')"
   ]
  },
  {
   "cell_type": "code",
   "execution_count": 54,
   "metadata": {
    "deletable": false,
    "id": "_NTy2VPU_Zcu"
   },
   "outputs": [
    {
     "data": {
      "text/plain": [
       "11056"
      ]
     },
     "execution_count": 54,
     "metadata": {},
     "output_type": "execute_result"
    }
   ],
   "source": [
    "# количество прослушиваний в Москве по средам\n",
    "number_tracks('Wednesday', 'Moscow')"
   ]
  },
  {
   "cell_type": "code",
   "execution_count": 55,
   "metadata": {
    "deletable": false,
    "id": "j2y3TAwo_Zcu"
   },
   "outputs": [
    {
     "data": {
      "text/plain": [
       "7003"
      ]
     },
     "execution_count": 55,
     "metadata": {},
     "output_type": "execute_result"
    }
   ],
   "source": [
    "# количество прослушиваний в Санкт-Петербурге по средам\n",
    "number_tracks('Wednesday', 'Saint-Petersburg')"
   ]
  },
  {
   "cell_type": "code",
   "execution_count": 56,
   "metadata": {
    "deletable": false,
    "id": "vYDw5u_K_Zcu"
   },
   "outputs": [
    {
     "data": {
      "text/plain": [
       "15945"
      ]
     },
     "execution_count": 56,
     "metadata": {},
     "output_type": "execute_result"
    }
   ],
   "source": [
    "# количество прослушиваний в Москве по пятницам\n",
    "number_tracks('Friday', 'Moscow')"
   ]
  },
  {
   "cell_type": "code",
   "execution_count": 57,
   "metadata": {
    "deletable": false,
    "id": "8_yzFtW3_Zcu"
   },
   "outputs": [
    {
     "data": {
      "text/plain": [
       "5895"
      ]
     },
     "execution_count": 57,
     "metadata": {},
     "output_type": "execute_result"
    }
   ],
   "source": [
    "# количество прослушиваний в Санкт-Петербурге по пятницам\n",
    "number_tracks('Friday', 'Saint-Petersburg')"
   ]
  },
  {
   "cell_type": "markdown",
   "metadata": {
    "deletable": false,
    "editable": false,
    "id": "7QXffbO-_Zcu",
    "tags": [
     "start_task"
    ]
   },
   "source": [
    "**Задание 22**"
   ]
  },
  {
   "cell_type": "code",
   "execution_count": 59,
   "metadata": {
    "deletable": false,
    "id": "APAcLpOr_Zcu"
   },
   "outputs": [
    {
     "data": {
      "text/html": [
       "<div>\n",
       "<style scoped>\n",
       "    .dataframe tbody tr th:only-of-type {\n",
       "        vertical-align: middle;\n",
       "    }\n",
       "\n",
       "    .dataframe tbody tr th {\n",
       "        vertical-align: top;\n",
       "    }\n",
       "\n",
       "    .dataframe thead th {\n",
       "        text-align: right;\n",
       "    }\n",
       "</style>\n",
       "<table border=\"1\" class=\"dataframe\">\n",
       "  <thead>\n",
       "    <tr style=\"text-align: right;\">\n",
       "      <th></th>\n",
       "      <th>city</th>\n",
       "      <th>monday</th>\n",
       "      <th>wednesday</th>\n",
       "      <th>friday</th>\n",
       "    </tr>\n",
       "  </thead>\n",
       "  <tbody>\n",
       "    <tr>\n",
       "      <th>0</th>\n",
       "      <td>Moscow</td>\n",
       "      <td>15740</td>\n",
       "      <td>11056</td>\n",
       "      <td>15945</td>\n",
       "    </tr>\n",
       "    <tr>\n",
       "      <th>1</th>\n",
       "      <td>Saint-Petersburg</td>\n",
       "      <td>5614</td>\n",
       "      <td>7003</td>\n",
       "      <td>5895</td>\n",
       "    </tr>\n",
       "  </tbody>\n",
       "</table>\n",
       "</div>"
      ],
      "text/plain": [
       "               city  monday  wednesday  friday\n",
       "0            Moscow   15740      11056   15945\n",
       "1  Saint-Petersburg    5614       7003    5895"
      ]
     },
     "execution_count": 59,
     "metadata": {},
     "output_type": "execute_result"
    }
   ],
   "source": [
    "# создание таблицы с результатами\n",
    "research_result = pd.DataFrame({\n",
    "    'city': ['Moscow', 'Saint-Petersburg'],\n",
    "    'monday': [15740, 5614],\n",
    "    'wednesday': [11056, 7003],\n",
    "    'friday': [15945, 5895]\n",
    "})\n",
    "\n",
    "# вывод таблицы на экран\n",
    "research_result"
   ]
  },
  {
   "cell_type": "markdown",
   "metadata": {
    "deletable": false,
    "editable": false,
    "id": "-EgPIHYu_Zcu"
   },
   "source": [
    "**Выводы**\n",
    "\n",
    "Данные показывают разницу поведения пользователей:\n",
    "\n",
    "- В Москве пик прослушиваний приходится на понедельник и пятницу, а в среду заметен спад.\n",
    "- В Петербурге, наоборот, больше слушают музыку по средам. Активность в понедельник и пятницу здесь почти в равной мере уступает среде.\n",
    "\n",
    "Значит, данные говорят в пользу первой гипотезы."
   ]
  },
  {
   "cell_type": "markdown",
   "metadata": {
    "deletable": false,
    "editable": false,
    "id": "atZAxtq4_Zcu"
   },
   "source": [
    "### Музыка в начале и в конце недели"
   ]
  },
  {
   "cell_type": "markdown",
   "metadata": {
    "deletable": false,
    "editable": false,
    "id": "eXrQqXFH_Zcu"
   },
   "source": [
    "Согласно второй гипотезе, утром в понедельник в Москве преобладают одни жанры, а в Петербурге — другие. Так же и вечером пятницы преобладают разные жанры — в зависимости от города."
   ]
  },
  {
   "cell_type": "markdown",
   "metadata": {
    "deletable": false,
    "editable": false,
    "id": "S8UcW6Hw_Zcu",
    "tags": [
     "start_task"
    ]
   },
   "source": [
    "**Задание 23**"
   ]
  },
  {
   "cell_type": "code",
   "execution_count": 64,
   "metadata": {
    "deletable": false,
    "id": "qeaFfM_P_Zcu"
   },
   "outputs": [],
   "source": [
    "# получение таблицы moscow_general из тех строк таблицы df, для которых значение в столбце 'city' равно 'Moscow'\n",
    "moscow_general = df[df['city'] == 'Moscow']"
   ]
  },
  {
   "cell_type": "code",
   "execution_count": 65,
   "metadata": {
    "deletable": false,
    "id": "ORaVRKto_Zcu"
   },
   "outputs": [],
   "source": [
    "# получение таблицы spb_general из тех строк таблицы df, для которых значение в столбце 'city' равно 'Saint-Petersburg'\n",
    "spb_general = df[df['city'] == 'Saint-Petersburg']"
   ]
  },
  {
   "cell_type": "markdown",
   "metadata": {
    "deletable": false,
    "editable": false,
    "id": "MEJV-CX2_Zcu",
    "tags": [
     "start_task"
    ]
   },
   "source": [
    "**Задание 24**"
   ]
  },
  {
   "cell_type": "code",
   "execution_count": 67,
   "metadata": {
    "deletable": false,
    "id": "laJT9BYl_Zcu"
   },
   "outputs": [],
   "source": [
    "def genre_weekday(df, day, time1, time2):\n",
    "    # последовательная фильтрация\n",
    "    \n",
    "    # оставляем в genre_df только те строки df, у которых день равен day\n",
    "    genre_df = df[df['day'] == day]\n",
    "    \n",
    "    # оставляем в genre_df только те строки genre_df, у которых время меньше time2\n",
    "    genre_df = genre_df[genre_df['time'] < time2]\n",
    "    \n",
    "    # оставляем в genre_df только те строки genre_df, у которых время больше time1\n",
    "    genre_df = genre_df[genre_df['time'] > time1]\n",
    "    \n",
    "    # сгруппируем отфильтрованный датафрейм по столбцу с названиями жанров, возьмём столбец genre и посчитаем кол-во строк для каждого жанра методом count()\n",
    "    genre_df_grouped = genre_df.groupby('genre')['genre'].count()\n",
    "    \n",
    "    # отсортируем результат по убыванию (чтобы в начале Series оказались самые популярные жанры)\n",
    "    genre_df_sorted = genre_df_grouped.sort_values(ascending=False)\n",
    "    \n",
    "    # вернём Series с 10 самыми популярными жанрами в указанный отрезок времени заданного дня\n",
    "    return genre_df_sorted[:10]"
   ]
  },
  {
   "cell_type": "markdown",
   "metadata": {
    "deletable": false,
    "editable": false,
    "id": "la2s2_PF_Zcu",
    "tags": [
     "start_task"
    ]
   },
   "source": [
    "**Задание 25**"
   ]
  },
  {
   "cell_type": "code",
   "execution_count": 69,
   "metadata": {
    "deletable": false,
    "id": "yz7itPUQ_Zcu"
   },
   "outputs": [
    {
     "data": {
      "text/plain": [
       "genre\n",
       "pop            781\n",
       "dance          549\n",
       "electronic     480\n",
       "rock           474\n",
       "hiphop         286\n",
       "ruspop         186\n",
       "world          181\n",
       "rusrap         175\n",
       "alternative    164\n",
       "unknown        161\n",
       "Name: genre, dtype: int64"
      ]
     },
     "execution_count": 69,
     "metadata": {},
     "output_type": "execute_result"
    }
   ],
   "source": [
    "# вызов функции для утра понедельника в Москве (вместо df — таблица moscow_general)\n",
    "genre_weekday(moscow_general, 'Monday', '07:00', '11:00')"
   ]
  },
  {
   "cell_type": "code",
   "execution_count": 70,
   "metadata": {
    "deletable": false,
    "id": "kwUcHPdy_Zcu"
   },
   "outputs": [
    {
     "data": {
      "text/plain": [
       "genre\n",
       "pop            218\n",
       "dance          182\n",
       "rock           162\n",
       "electronic     147\n",
       "hiphop          80\n",
       "ruspop          64\n",
       "alternative     58\n",
       "rusrap          55\n",
       "jazz            44\n",
       "classical       40\n",
       "Name: genre, dtype: int64"
      ]
     },
     "execution_count": 70,
     "metadata": {},
     "output_type": "execute_result"
    }
   ],
   "source": [
    "# вызов функции для утра понедельника в Петербурге (вместо df — таблица spb_general)\n",
    "genre_weekday(spb_general, 'Monday', '07:00', '11:00')"
   ]
  },
  {
   "cell_type": "code",
   "execution_count": 71,
   "metadata": {
    "deletable": false,
    "id": "EzXVRE1o_Zcu"
   },
   "outputs": [
    {
     "data": {
      "text/plain": [
       "genre\n",
       "pop            713\n",
       "rock           517\n",
       "dance          495\n",
       "electronic     482\n",
       "hiphop         273\n",
       "world          208\n",
       "ruspop         170\n",
       "alternative    163\n",
       "classical      163\n",
       "rusrap         142\n",
       "Name: genre, dtype: int64"
      ]
     },
     "execution_count": 71,
     "metadata": {},
     "output_type": "execute_result"
    }
   ],
   "source": [
    "# вызов функции для вечера пятницы в Москве\n",
    "genre_weekday(moscow_general, 'Friday', '17:00', '23:00')"
   ]
  },
  {
   "cell_type": "code",
   "execution_count": 72,
   "metadata": {
    "deletable": false,
    "id": "JZaEKu5v_Zcu"
   },
   "outputs": [
    {
     "data": {
      "text/plain": [
       "genre\n",
       "pop            256\n",
       "electronic     216\n",
       "rock           216\n",
       "dance          210\n",
       "hiphop          97\n",
       "alternative     63\n",
       "jazz            61\n",
       "classical       60\n",
       "rusrap          59\n",
       "world           54\n",
       "Name: genre, dtype: int64"
      ]
     },
     "execution_count": 72,
     "metadata": {},
     "output_type": "execute_result"
    }
   ],
   "source": [
    "# вызов функции для вечера пятницы в Петербурге\n",
    "genre_weekday(spb_general, 'Friday', '17:00', '23:00')"
   ]
  },
  {
   "cell_type": "markdown",
   "metadata": {
    "deletable": false,
    "editable": false,
    "id": "wrCe4MNX_Zcu"
   },
   "source": [
    "**Выводы**\n",
    "\n",
    "Если сравнить топ-10 жанров в понедельник утром, можно сделать такие выводы:\n",
    "\n",
    "1. В Москве и Петербурге слушают похожую музыку. Единственное различие — в московский рейтинг вошёл жанр “world”, а в петербургский — джаз и классика.\n",
    "\n",
    "2. В Москве пропущенных значений оказалось так много, что значение `'unknown'` заняло десятое место среди самых популярных жанров. Значит, пропущенные значения занимают существенную долю в данных и угрожают достоверности исследования.\n",
    "\n",
    "Вечер пятницы не меняет эту картину. Некоторые жанры поднимаются немного выше, другие спускаются, но в целом топ-10 остаётся тем же самым.\n",
    "\n",
    "Таким образом, вторая гипотеза подтвердилась лишь частично:\n",
    "* Пользователи слушают похожую музыку в начале недели и в конце.\n",
    "* Разница между Москвой и Петербургом не слишком выражена. В Москве чаще слушают русскую популярную музыку, в Петербурге — джаз.\n",
    "\n",
    "Однако пропуски в данных ставят под сомнение этот результат. В Москве их так много, что рейтинг топ-10 мог бы выглядеть иначе, если бы не утерянные  данные о жанрах."
   ]
  },
  {
   "cell_type": "markdown",
   "metadata": {
    "deletable": false,
    "editable": false,
    "id": "JolODAqr_Zcu"
   },
   "source": [
    "### Жанровые предпочтения в Москве и Петербурге\n",
    "\n",
    "Гипотеза: Петербург — столица рэпа, музыку этого жанра там слушают чаще, чем в Москве.  А Москва — город контрастов, в котором, тем не менее, преобладает поп-музыка."
   ]
  },
  {
   "cell_type": "markdown",
   "metadata": {
    "deletable": false,
    "editable": false,
    "id": "DlegSvaT_Zcu",
    "tags": [
     "start_task"
    ]
   },
   "source": [
    "**Задание 26**"
   ]
  },
  {
   "cell_type": "code",
   "execution_count": 76,
   "metadata": {
    "deletable": false,
    "id": "r19lIPke_Zcu"
   },
   "outputs": [],
   "source": [
    "# одной строкой: группировка таблицы moscow_general по столбцу 'genre', выбор столбца `genre`, подсчёт числа значений 'genre' методом count(), сохранение в moscow_genres\n",
    "moscow_genres = moscow_general.groupby('genre')['genre'].count()\n",
    "\n",
    "# сортировка получившегося Series в порядке убывания и сохранение обратно в moscow_genres\n",
    "moscow_genres = moscow_genres.sort_values(ascending=False)"
   ]
  },
  {
   "cell_type": "markdown",
   "metadata": {
    "deletable": false,
    "editable": false,
    "id": "6kMuomxTiIr8",
    "tags": [
     "start_task"
    ]
   },
   "source": [
    "**Задание 27**"
   ]
  },
  {
   "cell_type": "code",
   "execution_count": 78,
   "metadata": {
    "deletable": false,
    "id": "WhCSooF8_Zcv"
   },
   "outputs": [
    {
     "data": {
      "text/plain": [
       "genre\n",
       "pop            5892\n",
       "dance          4435\n",
       "rock           3965\n",
       "electronic     3786\n",
       "hiphop         2096\n",
       "classical      1616\n",
       "world          1432\n",
       "alternative    1379\n",
       "ruspop         1372\n",
       "rusrap         1161\n",
       "Name: genre, dtype: int64"
      ]
     },
     "execution_count": 78,
     "metadata": {},
     "output_type": "execute_result"
    }
   ],
   "source": [
    "# просмотр первых 10 строк moscow_genres\n",
    "moscow_genres.head(10)"
   ]
  },
  {
   "cell_type": "markdown",
   "metadata": {
    "deletable": false,
    "editable": false,
    "id": "cnPG2vnN_Zcv",
    "tags": [
     "start_task"
    ]
   },
   "source": [
    "**Задание 28**"
   ]
  },
  {
   "cell_type": "code",
   "execution_count": 80,
   "metadata": {
    "deletable": false,
    "id": "gluLIpE7_Zcv"
   },
   "outputs": [],
   "source": [
    "# одной строкой: группировка таблицы spb_general по столбцу 'genre', выбор столбца `genre`, подсчёт числа значений 'genre' методом count(), сохранение в spb_genres\n",
    "spb_genres = spb_general.groupby('genre')['genre'].count()\n",
    "\n",
    "# сортировка получившегося Series в порядке убывания и сохранение обратно в spb_genres\n",
    "spb_genres = spb_genres.sort_values(ascending=False)"
   ]
  },
  {
   "cell_type": "markdown",
   "metadata": {
    "deletable": false,
    "editable": false,
    "id": "5Doha_ODgyQ8",
    "tags": [
     "start_task"
    ]
   },
   "source": [
    "**Задание 29**"
   ]
  },
  {
   "cell_type": "code",
   "execution_count": 82,
   "metadata": {
    "deletable": false,
    "id": "uaGJHjVU_Zcv"
   },
   "outputs": [
    {
     "data": {
      "text/plain": [
       "genre\n",
       "pop            2431\n",
       "dance          1932\n",
       "rock           1879\n",
       "electronic     1736\n",
       "hiphop          960\n",
       "alternative     649\n",
       "classical       646\n",
       "rusrap          564\n",
       "ruspop          538\n",
       "world           515\n",
       "Name: genre, dtype: int64"
      ]
     },
     "execution_count": 82,
     "metadata": {},
     "output_type": "execute_result"
    }
   ],
   "source": [
    "# просмотр первых 10 строк spb_genres\n",
    "spb_genres.head(10)"
   ]
  },
  {
   "cell_type": "markdown",
   "metadata": {
    "deletable": false,
    "editable": false,
    "id": "RY51YJYu_Zcv"
   },
   "source": [
    "**Выводы**"
   ]
  },
  {
   "cell_type": "markdown",
   "metadata": {
    "deletable": false,
    "editable": false,
    "id": "nVhnJEm__Zcv"
   },
   "source": [
    "Гипотеза частично подтвердилась:\n",
    "* Поп-музыка — самый популярный жанр в Москве, как и предполагала гипотеза. Более того, в топ-10 жанров встречается близкий жанр — русская популярная музыка.\n",
    "* Вопреки ожиданиям, рэп одинаково популярен в Москве и Петербурге.\n"
   ]
  },
  {
   "cell_type": "markdown",
   "metadata": {
    "deletable": false,
    "editable": false,
    "id": "ykKQ0N65_Zcv"
   },
   "source": [
    "## Итоги исследования"
   ]
  },
  {
   "cell_type": "markdown",
   "metadata": {
    "deletable": false,
    "editable": false,
    "id": "tjUwbHb3_Zcv"
   },
   "source": [
    "Вы проверили три гипотезы и установили:\n",
    "\n",
    "1. День недели по-разному влияет на активность пользователей в Москве и Петербурге.\n",
    "\n",
    "Первая гипотеза полностью подтвердилась.\n",
    "\n",
    "2. Музыкальные предпочтения не сильно меняются в течение недели — будь то Москва или Петербург. Небольшие различия заметны в начале недели, по понедельникам:\n",
    "* в Москве слушают музыку жанра “world”,\n",
    "* в Петербурге — джаз и классику.\n",
    "\n",
    "Таким образом, вторая гипотеза подтвердилась лишь отчасти. Этот результат мог оказаться иным, если бы не пропуски в данных.\n",
    "\n",
    "3. Во вкусах пользователей Москвы и Петербурга больше общего, чем различий. Вопреки ожиданиям, предпочтения жанров в Петербурге напоминают московские.\n",
    "\n",
    "Третья гипотеза не подтвердилась. Если различия в предпочтениях и существуют, на основной массе пользователей они незаметны.\n",
    "\n",
    "**На практике исследования содержат проверки статистических гипотез.**\n",
    "Из части данных одного сервиса невозможно сделать какие-то выводы о всех пользователях сервиса без методов статистики.\n",
    "Проверки статистических гипотез покажут, насколько они достоверны, исходя из имеющихся данных.\n",
    "С методами проверок гипотез вы ещё познакомитесь в следующих темах."
   ]
  },
  {
   "cell_type": "code",
   "execution_count": null,
   "metadata": {},
   "outputs": [],
   "source": []
  }
 ],
 "metadata": {
  "ExecuteTimeLog": [
   {
    "duration": 393,
    "start_time": "2024-08-09T18:17:28.880Z"
   },
   {
    "duration": 436,
    "start_time": "2024-08-09T18:18:26.226Z"
   },
   {
    "duration": 17,
    "start_time": "2024-08-09T18:18:53.195Z"
   },
   {
    "duration": 22,
    "start_time": "2024-08-09T18:19:20.883Z"
   },
   {
    "duration": 5,
    "start_time": "2024-08-09T18:23:04.350Z"
   },
   {
    "duration": 2,
    "start_time": "2024-08-09T18:26:08.076Z"
   },
   {
    "duration": 9,
    "start_time": "2024-08-09T18:26:57.202Z"
   },
   {
    "duration": 3,
    "start_time": "2024-08-09T18:27:12.855Z"
   },
   {
    "duration": 18,
    "start_time": "2024-08-09T18:29:08.195Z"
   },
   {
    "duration": 9,
    "start_time": "2024-08-09T18:29:55.344Z"
   },
   {
    "duration": 4,
    "start_time": "2024-08-09T18:30:15.290Z"
   },
   {
    "duration": 28,
    "start_time": "2024-08-09T18:31:38.886Z"
   },
   {
    "duration": 20,
    "start_time": "2024-08-09T18:31:50.324Z"
   },
   {
    "duration": 20,
    "start_time": "2024-08-09T18:31:56.702Z"
   },
   {
    "duration": 32,
    "start_time": "2024-08-09T18:34:14.986Z"
   },
   {
    "duration": 9,
    "start_time": "2024-08-09T18:34:25.275Z"
   },
   {
    "duration": 38,
    "start_time": "2024-08-09T18:34:48.588Z"
   },
   {
    "duration": 11,
    "start_time": "2024-08-09T18:35:03.829Z"
   },
   {
    "duration": 2,
    "start_time": "2024-08-09T18:35:13.380Z"
   },
   {
    "duration": 30,
    "start_time": "2024-08-09T18:35:18.851Z"
   },
   {
    "duration": 15,
    "start_time": "2024-08-09T18:38:19.842Z"
   },
   {
    "duration": 15,
    "start_time": "2024-08-09T18:38:27.971Z"
   },
   {
    "duration": 30,
    "start_time": "2024-08-09T18:39:07.208Z"
   },
   {
    "duration": 57,
    "start_time": "2024-08-09T18:39:39.759Z"
   },
   {
    "duration": 55,
    "start_time": "2024-08-09T18:39:49.926Z"
   },
   {
    "duration": 57,
    "start_time": "2024-08-09T18:39:54.646Z"
   },
   {
    "duration": 57,
    "start_time": "2024-08-09T18:41:52.372Z"
   },
   {
    "duration": 64,
    "start_time": "2024-08-09T18:41:59.682Z"
   },
   {
    "duration": 87,
    "start_time": "2024-08-09T18:42:09.655Z"
   },
   {
    "duration": 60,
    "start_time": "2024-08-09T18:42:34.324Z"
   },
   {
    "duration": 63,
    "start_time": "2024-08-09T18:42:55.576Z"
   },
   {
    "duration": 8,
    "start_time": "2024-08-09T18:43:23.413Z"
   },
   {
    "duration": 9,
    "start_time": "2024-08-09T18:43:40.210Z"
   },
   {
    "duration": 9,
    "start_time": "2024-08-09T18:46:28.446Z"
   },
   {
    "duration": 8,
    "start_time": "2024-08-09T18:48:40.537Z"
   },
   {
    "duration": 9,
    "start_time": "2024-08-09T18:53:04.758Z"
   },
   {
    "duration": 9,
    "start_time": "2024-08-09T18:55:50.610Z"
   },
   {
    "duration": 10,
    "start_time": "2024-08-09T18:56:14.713Z"
   },
   {
    "duration": 15,
    "start_time": "2024-08-09T18:56:19.367Z"
   },
   {
    "duration": 19,
    "start_time": "2024-08-09T18:57:18.324Z"
   },
   {
    "duration": 8,
    "start_time": "2024-08-09T18:57:23.632Z"
   },
   {
    "duration": 15,
    "start_time": "2024-08-09T18:57:39.271Z"
   },
   {
    "duration": 14,
    "start_time": "2024-08-09T18:58:03.343Z"
   },
   {
    "duration": 9,
    "start_time": "2024-08-09T18:58:21.018Z"
   },
   {
    "duration": 4,
    "start_time": "2024-08-09T19:00:01.098Z"
   },
   {
    "duration": 3,
    "start_time": "2024-08-09T19:00:17.534Z"
   },
   {
    "duration": 9,
    "start_time": "2024-08-09T19:00:27.079Z"
   },
   {
    "duration": 17,
    "start_time": "2024-08-09T19:01:09.356Z"
   },
   {
    "duration": 10,
    "start_time": "2024-08-09T19:01:16.521Z"
   },
   {
    "duration": 15,
    "start_time": "2024-08-09T19:01:21.961Z"
   },
   {
    "duration": 9,
    "start_time": "2024-08-09T19:01:28.599Z"
   },
   {
    "duration": 10,
    "start_time": "2024-08-09T19:02:30.540Z"
   },
   {
    "duration": 82,
    "start_time": "2024-08-09T19:05:34.555Z"
   },
   {
    "duration": 61,
    "start_time": "2024-08-09T19:06:05.421Z"
   },
   {
    "duration": 3,
    "start_time": "2024-08-09T19:06:12.538Z"
   },
   {
    "duration": 3,
    "start_time": "2024-08-09T19:06:31.078Z"
   },
   {
    "duration": 14,
    "start_time": "2024-08-09T19:07:22.084Z"
   },
   {
    "duration": 17,
    "start_time": "2024-08-09T19:08:00.669Z"
   },
   {
    "duration": 14,
    "start_time": "2024-08-09T19:08:05.452Z"
   },
   {
    "duration": 11,
    "start_time": "2024-08-09T19:08:09.494Z"
   },
   {
    "duration": 11,
    "start_time": "2024-08-09T19:08:14.393Z"
   },
   {
    "duration": 20,
    "start_time": "2024-08-09T19:08:15.250Z"
   },
   {
    "duration": 13,
    "start_time": "2024-08-09T19:08:16.143Z"
   },
   {
    "duration": 8,
    "start_time": "2024-08-09T19:27:03.854Z"
   },
   {
    "duration": 8,
    "start_time": "2024-08-09T19:27:53.986Z"
   },
   {
    "duration": 8,
    "start_time": "2024-08-09T19:29:58.668Z"
   },
   {
    "duration": 8,
    "start_time": "2024-08-09T19:31:05.812Z"
   },
   {
    "duration": 17,
    "start_time": "2024-08-09T19:31:14.738Z"
   },
   {
    "duration": 7,
    "start_time": "2024-08-09T19:31:45.769Z"
   },
   {
    "duration": 9,
    "start_time": "2024-08-09T19:31:52.405Z"
   },
   {
    "duration": 15,
    "start_time": "2024-08-09T19:31:59.087Z"
   },
   {
    "duration": 7,
    "start_time": "2024-08-09T19:32:06.648Z"
   },
   {
    "duration": 4,
    "start_time": "2024-08-09T19:36:50.577Z"
   },
   {
    "duration": 3,
    "start_time": "2024-08-09T19:38:37.778Z"
   },
   {
    "duration": 68,
    "start_time": "2024-08-09T19:39:41.725Z"
   },
   {
    "duration": 17,
    "start_time": "2024-08-09T19:40:18.778Z"
   },
   {
    "duration": 3,
    "start_time": "2024-08-09T19:40:30.790Z"
   },
   {
    "duration": 13,
    "start_time": "2024-08-09T19:41:03.221Z"
   },
   {
    "duration": 17,
    "start_time": "2024-08-09T19:42:14.864Z"
   },
   {
    "duration": 9,
    "start_time": "2024-08-09T19:42:19.031Z"
   },
   {
    "duration": 10,
    "start_time": "2024-08-09T19:42:30.082Z"
   },
   {
    "duration": 14,
    "start_time": "2024-08-09T19:42:36.492Z"
   },
   {
    "duration": 10,
    "start_time": "2024-08-09T19:42:56.719Z"
   },
   {
    "duration": 14,
    "start_time": "2024-08-09T19:43:05.059Z"
   },
   {
    "duration": 9,
    "start_time": "2024-08-09T19:43:06.564Z"
   },
   {
    "duration": 13,
    "start_time": "2024-08-09T19:43:07.659Z"
   },
   {
    "duration": 9,
    "start_time": "2024-08-09T19:43:08.843Z"
   },
   {
    "duration": 7,
    "start_time": "2024-08-09T19:49:31.868Z"
   },
   {
    "duration": 10,
    "start_time": "2024-08-09T19:49:37.876Z"
   },
   {
    "duration": 7,
    "start_time": "2024-08-09T19:49:47.781Z"
   },
   {
    "duration": 4,
    "start_time": "2024-08-09T19:49:59.917Z"
   },
   {
    "duration": 7,
    "start_time": "2024-08-09T19:51:09.668Z"
   },
   {
    "duration": 7,
    "start_time": "2024-08-09T19:51:23.531Z"
   },
   {
    "duration": 8,
    "start_time": "2024-08-09T19:51:52.565Z"
   },
   {
    "duration": 6,
    "start_time": "2024-08-09T19:52:09.295Z"
   },
   {
    "duration": 5,
    "start_time": "2024-08-09T19:52:13.571Z"
   },
   {
    "duration": 7,
    "start_time": "2024-08-09T19:52:19.765Z"
   },
   {
    "duration": 4,
    "start_time": "2024-08-09T19:52:28.696Z"
   },
   {
    "duration": 69,
    "start_time": "2024-08-11T11:43:28.872Z"
   },
   {
    "duration": 3,
    "start_time": "2024-08-11T11:43:44.078Z"
   },
   {
    "duration": 8,
    "start_time": "2024-08-11T11:43:47.570Z"
   },
   {
    "duration": 393,
    "start_time": "2024-08-11T11:44:21.328Z"
   },
   {
    "duration": 513,
    "start_time": "2024-08-11T11:44:23.911Z"
   },
   {
    "duration": 15,
    "start_time": "2024-08-11T11:44:28.511Z"
   },
   {
    "duration": 50,
    "start_time": "2024-08-11T11:44:31.996Z"
   },
   {
    "duration": 3,
    "start_time": "2024-08-11T11:44:36.089Z"
   },
   {
    "duration": 5,
    "start_time": "2024-08-11T11:44:38.073Z"
   },
   {
    "duration": 11,
    "start_time": "2024-08-11T11:44:39.488Z"
   },
   {
    "duration": 3,
    "start_time": "2024-08-11T11:44:40.235Z"
   },
   {
    "duration": 28,
    "start_time": "2024-08-11T11:44:40.825Z"
   },
   {
    "duration": 21,
    "start_time": "2024-08-11T11:44:41.294Z"
   },
   {
    "duration": 27,
    "start_time": "2024-08-11T11:44:41.958Z"
   },
   {
    "duration": 73,
    "start_time": "2024-08-11T11:44:43.089Z"
   },
   {
    "duration": 79,
    "start_time": "2024-08-11T11:44:43.944Z"
   },
   {
    "duration": 61,
    "start_time": "2024-08-11T11:44:44.891Z"
   },
   {
    "duration": 15,
    "start_time": "2024-08-11T11:44:45.929Z"
   },
   {
    "duration": 11,
    "start_time": "2024-08-11T11:44:46.557Z"
   },
   {
    "duration": 10,
    "start_time": "2024-08-11T11:44:47.334Z"
   },
   {
    "duration": 13,
    "start_time": "2024-08-11T11:44:50.481Z"
   },
   {
    "duration": 13,
    "start_time": "2024-08-11T11:44:51.964Z"
   },
   {
    "duration": 4,
    "start_time": "2024-08-11T11:44:53.796Z"
   },
   {
    "duration": 81,
    "start_time": "2024-08-11T11:44:56.360Z"
   },
   {
    "duration": 17,
    "start_time": "2024-08-11T11:45:01.579Z"
   },
   {
    "duration": 17,
    "start_time": "2024-08-11T11:45:02.131Z"
   },
   {
    "duration": 19,
    "start_time": "2024-08-11T11:45:02.801Z"
   },
   {
    "duration": 19,
    "start_time": "2024-08-11T11:45:03.463Z"
   },
   {
    "duration": 19,
    "start_time": "2024-08-11T11:45:04.796Z"
   },
   {
    "duration": 9,
    "start_time": "2024-08-11T11:46:15.727Z"
   },
   {
    "duration": 107,
    "start_time": "2024-08-11T11:49:04.799Z"
   },
   {
    "duration": 85,
    "start_time": "2024-08-11T11:53:23.666Z"
   },
   {
    "duration": 77,
    "start_time": "2024-08-11T11:53:54.578Z"
   },
   {
    "duration": 80,
    "start_time": "2024-08-11T11:55:38.920Z"
   },
   {
    "duration": 451,
    "start_time": "2024-08-23T18:00:57.360Z"
   },
   {
    "duration": 339,
    "start_time": "2024-08-23T18:00:57.818Z"
   },
   {
    "duration": 20,
    "start_time": "2024-08-23T18:00:58.158Z"
   },
   {
    "duration": 44,
    "start_time": "2024-08-23T18:00:58.180Z"
   },
   {
    "duration": 3,
    "start_time": "2024-08-23T18:00:58.227Z"
   },
   {
    "duration": 7,
    "start_time": "2024-08-23T18:00:58.232Z"
   },
   {
    "duration": 14,
    "start_time": "2024-08-23T18:00:58.242Z"
   },
   {
    "duration": 4,
    "start_time": "2024-08-23T18:00:58.261Z"
   },
   {
    "duration": 83,
    "start_time": "2024-08-23T18:00:58.267Z"
   },
   {
    "duration": 29,
    "start_time": "2024-08-23T18:00:58.352Z"
   },
   {
    "duration": 88,
    "start_time": "2024-08-23T18:00:58.384Z"
   },
   {
    "duration": 121,
    "start_time": "2024-08-23T18:00:58.475Z"
   },
   {
    "duration": 101,
    "start_time": "2024-08-23T18:00:58.600Z"
   },
   {
    "duration": 81,
    "start_time": "2024-08-23T18:00:58.708Z"
   },
   {
    "duration": 33,
    "start_time": "2024-08-23T18:00:58.791Z"
   },
   {
    "duration": 16,
    "start_time": "2024-08-23T18:00:58.834Z"
   },
   {
    "duration": 13,
    "start_time": "2024-08-23T18:00:58.852Z"
   },
   {
    "duration": 12,
    "start_time": "2024-08-23T18:00:58.866Z"
   },
   {
    "duration": 29,
    "start_time": "2024-08-23T18:00:58.880Z"
   },
   {
    "duration": 7,
    "start_time": "2024-08-23T18:00:58.914Z"
   },
   {
    "duration": 68,
    "start_time": "2024-08-23T18:00:58.923Z"
   },
   {
    "duration": 27,
    "start_time": "2024-08-23T18:00:58.993Z"
   },
   {
    "duration": 25,
    "start_time": "2024-08-23T18:00:59.022Z"
   },
   {
    "duration": 14,
    "start_time": "2024-08-23T18:00:59.049Z"
   },
   {
    "duration": 37,
    "start_time": "2024-08-23T18:00:59.064Z"
   },
   {
    "duration": 29,
    "start_time": "2024-08-23T18:00:59.105Z"
   },
   {
    "duration": 18,
    "start_time": "2024-08-23T18:00:59.136Z"
   },
   {
    "duration": 14,
    "start_time": "2024-08-23T18:00:59.157Z"
   },
   {
    "duration": 19,
    "start_time": "2024-08-23T18:00:59.172Z"
   },
   {
    "duration": 12,
    "start_time": "2024-08-23T18:00:59.203Z"
   },
   {
    "duration": 33,
    "start_time": "2024-08-23T18:00:59.217Z"
   },
   {
    "duration": 17,
    "start_time": "2024-08-23T18:00:59.251Z"
   },
   {
    "duration": 64,
    "start_time": "2024-08-23T18:00:59.270Z"
   },
   {
    "duration": 21,
    "start_time": "2024-08-23T18:00:59.335Z"
   },
   {
    "duration": 13,
    "start_time": "2024-08-23T18:00:59.358Z"
   },
   {
    "duration": 6,
    "start_time": "2024-08-23T18:00:59.372Z"
   },
   {
    "duration": 6,
    "start_time": "2024-08-23T18:00:59.380Z"
   },
   {
    "duration": 15,
    "start_time": "2024-08-23T18:00:59.388Z"
   }
  ],
  "celltoolbar": "Отсутствует",
  "colab": {
   "collapsed_sections": [
    "E0vqbgi9ay0H",
    "VUC88oWjTJw2"
   ],
   "provenance": []
  },
  "kernelspec": {
   "display_name": "Python 3 (ipykernel)",
   "language": "python",
   "name": "python3"
  },
  "language_info": {
   "codemirror_mode": {
    "name": "ipython",
    "version": 3
   },
   "file_extension": ".py",
   "mimetype": "text/x-python",
   "name": "python",
   "nbconvert_exporter": "python",
   "pygments_lexer": "ipython3",
   "version": "3.12.4"
  },
  "toc": {
   "base_numbering": 1,
   "nav_menu": {
    "height": "215px",
    "width": "403px"
   },
   "number_sections": true,
   "sideBar": true,
   "skip_h1_title": true,
   "title_cell": "Table of Contents",
   "title_sidebar": "Contents",
   "toc_cell": false,
   "toc_position": {
    "height": "calc(100% - 180px)",
    "left": "10px",
    "top": "150px",
    "width": "387.812px"
   },
   "toc_section_display": true,
   "toc_window_display": false
  }
 },
 "nbformat": 4,
 "nbformat_minor": 4
}
