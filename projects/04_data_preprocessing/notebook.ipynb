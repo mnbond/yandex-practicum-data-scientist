{
 "cells": [
  {
   "cell_type": "markdown",
   "id": "5f1cc0a8",
   "metadata": {
    "deletable": false,
    "editable": false,
    "id": "c81daeeb"
   },
   "source": [
    "# Исследование надёжности заёмщиков"
   ]
  },
  {
   "cell_type": "markdown",
   "id": "db336e4d-c8ba-439d-a58b-170c4fa2e55b",
   "metadata": {},
   "source": [
    "Заказчик — кредитный отдел банка. Нужно разобраться, влияет ли семейное положение и количество детей клиента на факт погашения кредита в срок. Входные данные от банка — статистика о платёжеспособности клиентов.\n",
    "\n",
    "Результаты исследования будут учтены при построении модели *кредитного скоринга* — специальной системы, которая оценивает способность потенциального заёмщика вернуть кредит банку.\n",
    "\n",
    "**Описание данных**\n",
    "\n",
    "- `children` — количество детей в семье;\n",
    "- `days_employed` — общий трудовой стаж в днях;\n",
    "- `dob_years` — возраст клиента в годах;\n",
    "- `education` — уровень образования клиента;\n",
    "- `education_id` — идентификатор уровня образования;\n",
    "- `family_status` — семейное положение;\n",
    "- `family_status_id` — идентификатор семейного положения;\n",
    "- `gender` — пол клиента;\n",
    "- `income_type` — тип занятости;\n",
    "- `debt` — имел ли задолженность по возврату кредитов;\n",
    "- `total_income` — ежемесячный доход;\n",
    "- `purpose` — цель получения кредита."
   ]
  },
  {
   "cell_type": "markdown",
   "id": "5dc43a6d",
   "metadata": {
    "deletable": false,
    "id": "744d7639"
   },
   "source": [
    "## Обзор данных\n",
    "\n",
    "Шаг 1. Откройте таблицу и изучите общую информацию о данных"
   ]
  },
  {
   "cell_type": "markdown",
   "id": "3af30107",
   "metadata": {
    "deletable": false,
    "editable": false,
    "id": "e7a14c31"
   },
   "source": [
    "**Задание 1. Импортируйте библиотеку pandas. Считайте данные из csv-файла в датафрейм и сохраните в переменную `data`. Путь к файлу:**\n",
    "\n",
    "`/datasets/data.csv`"
   ]
  },
  {
   "cell_type": "code",
   "execution_count": 5,
   "id": "f3e439c3",
   "metadata": {
    "deletable": false,
    "id": "7bcf75c9"
   },
   "outputs": [],
   "source": [
    "import pandas as pd\n",
    "\n",
    "data = pd.read_csv('../datasets/data.csv')"
   ]
  },
  {
   "cell_type": "markdown",
   "id": "4723e2ac",
   "metadata": {
    "deletable": false,
    "editable": false,
    "id": "b8038fe3"
   },
   "source": [
    "**Задание 2. Выведите первые 20 строчек датафрейма `data` на экран.**"
   ]
  },
  {
   "cell_type": "code",
   "execution_count": 7,
   "id": "da56e2f9",
   "metadata": {
    "deletable": false,
    "id": "2a7cab99",
    "outputId": "1a8f3ef2-d323-4ec2-ddf7-89670b5944c4"
   },
   "outputs": [
    {
     "data": {
      "text/html": [
       "<div>\n",
       "<style scoped>\n",
       "    .dataframe tbody tr th:only-of-type {\n",
       "        vertical-align: middle;\n",
       "    }\n",
       "\n",
       "    .dataframe tbody tr th {\n",
       "        vertical-align: top;\n",
       "    }\n",
       "\n",
       "    .dataframe thead th {\n",
       "        text-align: right;\n",
       "    }\n",
       "</style>\n",
       "<table border=\"1\" class=\"dataframe\">\n",
       "  <thead>\n",
       "    <tr style=\"text-align: right;\">\n",
       "      <th></th>\n",
       "      <th>children</th>\n",
       "      <th>days_employed</th>\n",
       "      <th>dob_years</th>\n",
       "      <th>education</th>\n",
       "      <th>education_id</th>\n",
       "      <th>family_status</th>\n",
       "      <th>family_status_id</th>\n",
       "      <th>gender</th>\n",
       "      <th>income_type</th>\n",
       "      <th>debt</th>\n",
       "      <th>total_income</th>\n",
       "      <th>purpose</th>\n",
       "    </tr>\n",
       "  </thead>\n",
       "  <tbody>\n",
       "    <tr>\n",
       "      <th>0</th>\n",
       "      <td>1</td>\n",
       "      <td>-8437.673028</td>\n",
       "      <td>42</td>\n",
       "      <td>высшее</td>\n",
       "      <td>0</td>\n",
       "      <td>женат / замужем</td>\n",
       "      <td>0</td>\n",
       "      <td>F</td>\n",
       "      <td>сотрудник</td>\n",
       "      <td>0</td>\n",
       "      <td>253875.639453</td>\n",
       "      <td>покупка жилья</td>\n",
       "    </tr>\n",
       "    <tr>\n",
       "      <th>1</th>\n",
       "      <td>1</td>\n",
       "      <td>-4024.803754</td>\n",
       "      <td>36</td>\n",
       "      <td>среднее</td>\n",
       "      <td>1</td>\n",
       "      <td>женат / замужем</td>\n",
       "      <td>0</td>\n",
       "      <td>F</td>\n",
       "      <td>сотрудник</td>\n",
       "      <td>0</td>\n",
       "      <td>112080.014102</td>\n",
       "      <td>приобретение автомобиля</td>\n",
       "    </tr>\n",
       "    <tr>\n",
       "      <th>2</th>\n",
       "      <td>0</td>\n",
       "      <td>-5623.422610</td>\n",
       "      <td>33</td>\n",
       "      <td>Среднее</td>\n",
       "      <td>1</td>\n",
       "      <td>женат / замужем</td>\n",
       "      <td>0</td>\n",
       "      <td>M</td>\n",
       "      <td>сотрудник</td>\n",
       "      <td>0</td>\n",
       "      <td>145885.952297</td>\n",
       "      <td>покупка жилья</td>\n",
       "    </tr>\n",
       "    <tr>\n",
       "      <th>3</th>\n",
       "      <td>3</td>\n",
       "      <td>-4124.747207</td>\n",
       "      <td>32</td>\n",
       "      <td>среднее</td>\n",
       "      <td>1</td>\n",
       "      <td>женат / замужем</td>\n",
       "      <td>0</td>\n",
       "      <td>M</td>\n",
       "      <td>сотрудник</td>\n",
       "      <td>0</td>\n",
       "      <td>267628.550329</td>\n",
       "      <td>дополнительное образование</td>\n",
       "    </tr>\n",
       "    <tr>\n",
       "      <th>4</th>\n",
       "      <td>0</td>\n",
       "      <td>340266.072047</td>\n",
       "      <td>53</td>\n",
       "      <td>среднее</td>\n",
       "      <td>1</td>\n",
       "      <td>гражданский брак</td>\n",
       "      <td>1</td>\n",
       "      <td>F</td>\n",
       "      <td>пенсионер</td>\n",
       "      <td>0</td>\n",
       "      <td>158616.077870</td>\n",
       "      <td>сыграть свадьбу</td>\n",
       "    </tr>\n",
       "    <tr>\n",
       "      <th>5</th>\n",
       "      <td>0</td>\n",
       "      <td>-926.185831</td>\n",
       "      <td>27</td>\n",
       "      <td>высшее</td>\n",
       "      <td>0</td>\n",
       "      <td>гражданский брак</td>\n",
       "      <td>1</td>\n",
       "      <td>M</td>\n",
       "      <td>компаньон</td>\n",
       "      <td>0</td>\n",
       "      <td>255763.565419</td>\n",
       "      <td>покупка жилья</td>\n",
       "    </tr>\n",
       "    <tr>\n",
       "      <th>6</th>\n",
       "      <td>0</td>\n",
       "      <td>-2879.202052</td>\n",
       "      <td>43</td>\n",
       "      <td>высшее</td>\n",
       "      <td>0</td>\n",
       "      <td>женат / замужем</td>\n",
       "      <td>0</td>\n",
       "      <td>F</td>\n",
       "      <td>компаньон</td>\n",
       "      <td>0</td>\n",
       "      <td>240525.971920</td>\n",
       "      <td>операции с жильем</td>\n",
       "    </tr>\n",
       "    <tr>\n",
       "      <th>7</th>\n",
       "      <td>0</td>\n",
       "      <td>-152.779569</td>\n",
       "      <td>50</td>\n",
       "      <td>СРЕДНЕЕ</td>\n",
       "      <td>1</td>\n",
       "      <td>женат / замужем</td>\n",
       "      <td>0</td>\n",
       "      <td>M</td>\n",
       "      <td>сотрудник</td>\n",
       "      <td>0</td>\n",
       "      <td>135823.934197</td>\n",
       "      <td>образование</td>\n",
       "    </tr>\n",
       "    <tr>\n",
       "      <th>8</th>\n",
       "      <td>2</td>\n",
       "      <td>-6929.865299</td>\n",
       "      <td>35</td>\n",
       "      <td>ВЫСШЕЕ</td>\n",
       "      <td>0</td>\n",
       "      <td>гражданский брак</td>\n",
       "      <td>1</td>\n",
       "      <td>F</td>\n",
       "      <td>сотрудник</td>\n",
       "      <td>0</td>\n",
       "      <td>95856.832424</td>\n",
       "      <td>на проведение свадьбы</td>\n",
       "    </tr>\n",
       "    <tr>\n",
       "      <th>9</th>\n",
       "      <td>0</td>\n",
       "      <td>-2188.756445</td>\n",
       "      <td>41</td>\n",
       "      <td>среднее</td>\n",
       "      <td>1</td>\n",
       "      <td>женат / замужем</td>\n",
       "      <td>0</td>\n",
       "      <td>M</td>\n",
       "      <td>сотрудник</td>\n",
       "      <td>0</td>\n",
       "      <td>144425.938277</td>\n",
       "      <td>покупка жилья для семьи</td>\n",
       "    </tr>\n",
       "    <tr>\n",
       "      <th>10</th>\n",
       "      <td>2</td>\n",
       "      <td>-4171.483647</td>\n",
       "      <td>36</td>\n",
       "      <td>высшее</td>\n",
       "      <td>0</td>\n",
       "      <td>женат / замужем</td>\n",
       "      <td>0</td>\n",
       "      <td>M</td>\n",
       "      <td>компаньон</td>\n",
       "      <td>0</td>\n",
       "      <td>113943.491460</td>\n",
       "      <td>покупка недвижимости</td>\n",
       "    </tr>\n",
       "    <tr>\n",
       "      <th>11</th>\n",
       "      <td>0</td>\n",
       "      <td>-792.701887</td>\n",
       "      <td>40</td>\n",
       "      <td>среднее</td>\n",
       "      <td>1</td>\n",
       "      <td>женат / замужем</td>\n",
       "      <td>0</td>\n",
       "      <td>F</td>\n",
       "      <td>сотрудник</td>\n",
       "      <td>0</td>\n",
       "      <td>77069.234271</td>\n",
       "      <td>покупка коммерческой недвижимости</td>\n",
       "    </tr>\n",
       "    <tr>\n",
       "      <th>12</th>\n",
       "      <td>0</td>\n",
       "      <td>NaN</td>\n",
       "      <td>65</td>\n",
       "      <td>среднее</td>\n",
       "      <td>1</td>\n",
       "      <td>гражданский брак</td>\n",
       "      <td>1</td>\n",
       "      <td>M</td>\n",
       "      <td>пенсионер</td>\n",
       "      <td>0</td>\n",
       "      <td>NaN</td>\n",
       "      <td>сыграть свадьбу</td>\n",
       "    </tr>\n",
       "    <tr>\n",
       "      <th>13</th>\n",
       "      <td>0</td>\n",
       "      <td>-1846.641941</td>\n",
       "      <td>54</td>\n",
       "      <td>неоконченное высшее</td>\n",
       "      <td>2</td>\n",
       "      <td>женат / замужем</td>\n",
       "      <td>0</td>\n",
       "      <td>F</td>\n",
       "      <td>сотрудник</td>\n",
       "      <td>0</td>\n",
       "      <td>130458.228857</td>\n",
       "      <td>приобретение автомобиля</td>\n",
       "    </tr>\n",
       "    <tr>\n",
       "      <th>14</th>\n",
       "      <td>0</td>\n",
       "      <td>-1844.956182</td>\n",
       "      <td>56</td>\n",
       "      <td>высшее</td>\n",
       "      <td>0</td>\n",
       "      <td>гражданский брак</td>\n",
       "      <td>1</td>\n",
       "      <td>F</td>\n",
       "      <td>компаньон</td>\n",
       "      <td>1</td>\n",
       "      <td>165127.911772</td>\n",
       "      <td>покупка жилой недвижимости</td>\n",
       "    </tr>\n",
       "    <tr>\n",
       "      <th>15</th>\n",
       "      <td>1</td>\n",
       "      <td>-972.364419</td>\n",
       "      <td>26</td>\n",
       "      <td>среднее</td>\n",
       "      <td>1</td>\n",
       "      <td>женат / замужем</td>\n",
       "      <td>0</td>\n",
       "      <td>F</td>\n",
       "      <td>сотрудник</td>\n",
       "      <td>0</td>\n",
       "      <td>116820.904450</td>\n",
       "      <td>строительство собственной недвижимости</td>\n",
       "    </tr>\n",
       "    <tr>\n",
       "      <th>16</th>\n",
       "      <td>0</td>\n",
       "      <td>-1719.934226</td>\n",
       "      <td>35</td>\n",
       "      <td>среднее</td>\n",
       "      <td>1</td>\n",
       "      <td>женат / замужем</td>\n",
       "      <td>0</td>\n",
       "      <td>F</td>\n",
       "      <td>сотрудник</td>\n",
       "      <td>0</td>\n",
       "      <td>289202.704229</td>\n",
       "      <td>недвижимость</td>\n",
       "    </tr>\n",
       "    <tr>\n",
       "      <th>17</th>\n",
       "      <td>0</td>\n",
       "      <td>-2369.999720</td>\n",
       "      <td>33</td>\n",
       "      <td>высшее</td>\n",
       "      <td>0</td>\n",
       "      <td>гражданский брак</td>\n",
       "      <td>1</td>\n",
       "      <td>M</td>\n",
       "      <td>сотрудник</td>\n",
       "      <td>0</td>\n",
       "      <td>90410.586745</td>\n",
       "      <td>строительство недвижимости</td>\n",
       "    </tr>\n",
       "    <tr>\n",
       "      <th>18</th>\n",
       "      <td>0</td>\n",
       "      <td>400281.136913</td>\n",
       "      <td>53</td>\n",
       "      <td>среднее</td>\n",
       "      <td>1</td>\n",
       "      <td>вдовец / вдова</td>\n",
       "      <td>2</td>\n",
       "      <td>F</td>\n",
       "      <td>пенсионер</td>\n",
       "      <td>0</td>\n",
       "      <td>56823.777243</td>\n",
       "      <td>на покупку подержанного автомобиля</td>\n",
       "    </tr>\n",
       "    <tr>\n",
       "      <th>19</th>\n",
       "      <td>0</td>\n",
       "      <td>-10038.818549</td>\n",
       "      <td>48</td>\n",
       "      <td>СРЕДНЕЕ</td>\n",
       "      <td>1</td>\n",
       "      <td>в разводе</td>\n",
       "      <td>3</td>\n",
       "      <td>F</td>\n",
       "      <td>сотрудник</td>\n",
       "      <td>0</td>\n",
       "      <td>242831.107982</td>\n",
       "      <td>на покупку своего автомобиля</td>\n",
       "    </tr>\n",
       "  </tbody>\n",
       "</table>\n",
       "</div>"
      ],
      "text/plain": [
       "    children  days_employed  dob_years            education  education_id  \\\n",
       "0          1   -8437.673028         42               высшее             0   \n",
       "1          1   -4024.803754         36              среднее             1   \n",
       "2          0   -5623.422610         33              Среднее             1   \n",
       "3          3   -4124.747207         32              среднее             1   \n",
       "4          0  340266.072047         53              среднее             1   \n",
       "5          0    -926.185831         27               высшее             0   \n",
       "6          0   -2879.202052         43               высшее             0   \n",
       "7          0    -152.779569         50              СРЕДНЕЕ             1   \n",
       "8          2   -6929.865299         35               ВЫСШЕЕ             0   \n",
       "9          0   -2188.756445         41              среднее             1   \n",
       "10         2   -4171.483647         36               высшее             0   \n",
       "11         0    -792.701887         40              среднее             1   \n",
       "12         0            NaN         65              среднее             1   \n",
       "13         0   -1846.641941         54  неоконченное высшее             2   \n",
       "14         0   -1844.956182         56               высшее             0   \n",
       "15         1    -972.364419         26              среднее             1   \n",
       "16         0   -1719.934226         35              среднее             1   \n",
       "17         0   -2369.999720         33               высшее             0   \n",
       "18         0  400281.136913         53              среднее             1   \n",
       "19         0  -10038.818549         48              СРЕДНЕЕ             1   \n",
       "\n",
       "       family_status  family_status_id gender income_type  debt  \\\n",
       "0    женат / замужем                 0      F   сотрудник     0   \n",
       "1    женат / замужем                 0      F   сотрудник     0   \n",
       "2    женат / замужем                 0      M   сотрудник     0   \n",
       "3    женат / замужем                 0      M   сотрудник     0   \n",
       "4   гражданский брак                 1      F   пенсионер     0   \n",
       "5   гражданский брак                 1      M   компаньон     0   \n",
       "6    женат / замужем                 0      F   компаньон     0   \n",
       "7    женат / замужем                 0      M   сотрудник     0   \n",
       "8   гражданский брак                 1      F   сотрудник     0   \n",
       "9    женат / замужем                 0      M   сотрудник     0   \n",
       "10   женат / замужем                 0      M   компаньон     0   \n",
       "11   женат / замужем                 0      F   сотрудник     0   \n",
       "12  гражданский брак                 1      M   пенсионер     0   \n",
       "13   женат / замужем                 0      F   сотрудник     0   \n",
       "14  гражданский брак                 1      F   компаньон     1   \n",
       "15   женат / замужем                 0      F   сотрудник     0   \n",
       "16   женат / замужем                 0      F   сотрудник     0   \n",
       "17  гражданский брак                 1      M   сотрудник     0   \n",
       "18    вдовец / вдова                 2      F   пенсионер     0   \n",
       "19         в разводе                 3      F   сотрудник     0   \n",
       "\n",
       "     total_income                                 purpose  \n",
       "0   253875.639453                           покупка жилья  \n",
       "1   112080.014102                 приобретение автомобиля  \n",
       "2   145885.952297                           покупка жилья  \n",
       "3   267628.550329              дополнительное образование  \n",
       "4   158616.077870                         сыграть свадьбу  \n",
       "5   255763.565419                           покупка жилья  \n",
       "6   240525.971920                       операции с жильем  \n",
       "7   135823.934197                             образование  \n",
       "8    95856.832424                   на проведение свадьбы  \n",
       "9   144425.938277                 покупка жилья для семьи  \n",
       "10  113943.491460                    покупка недвижимости  \n",
       "11   77069.234271       покупка коммерческой недвижимости  \n",
       "12            NaN                         сыграть свадьбу  \n",
       "13  130458.228857                 приобретение автомобиля  \n",
       "14  165127.911772              покупка жилой недвижимости  \n",
       "15  116820.904450  строительство собственной недвижимости  \n",
       "16  289202.704229                            недвижимость  \n",
       "17   90410.586745              строительство недвижимости  \n",
       "18   56823.777243      на покупку подержанного автомобиля  \n",
       "19  242831.107982            на покупку своего автомобиля  "
      ]
     },
     "execution_count": 7,
     "metadata": {},
     "output_type": "execute_result"
    }
   ],
   "source": [
    "data.head(20)"
   ]
  },
  {
   "cell_type": "markdown",
   "id": "12fcc172",
   "metadata": {
    "deletable": false,
    "editable": false,
    "id": "1c12e233"
   },
   "source": [
    "**Задание 3. Выведите основную информацию о датафрейме с помощью метода `info()`.**"
   ]
  },
  {
   "cell_type": "code",
   "execution_count": 9,
   "id": "9b5da718",
   "metadata": {
    "deletable": false,
    "id": "2b757bca",
    "outputId": "15376089-8dad-46c9-b520-c05248d43158"
   },
   "outputs": [
    {
     "name": "stdout",
     "output_type": "stream",
     "text": [
      "<class 'pandas.core.frame.DataFrame'>\n",
      "RangeIndex: 21525 entries, 0 to 21524\n",
      "Data columns (total 12 columns):\n",
      " #   Column            Non-Null Count  Dtype  \n",
      "---  ------            --------------  -----  \n",
      " 0   children          21525 non-null  int64  \n",
      " 1   days_employed     19351 non-null  float64\n",
      " 2   dob_years         21525 non-null  int64  \n",
      " 3   education         21525 non-null  object \n",
      " 4   education_id      21525 non-null  int64  \n",
      " 5   family_status     21525 non-null  object \n",
      " 6   family_status_id  21525 non-null  int64  \n",
      " 7   gender            21525 non-null  object \n",
      " 8   income_type       21525 non-null  object \n",
      " 9   debt              21525 non-null  int64  \n",
      " 10  total_income      19351 non-null  float64\n",
      " 11  purpose           21525 non-null  object \n",
      "dtypes: float64(2), int64(5), object(5)\n",
      "memory usage: 2.0+ MB\n"
     ]
    }
   ],
   "source": [
    "data.info()"
   ]
  },
  {
   "cell_type": "markdown",
   "id": "3bc50ca8",
   "metadata": {
    "deletable": false,
    "editable": false,
    "id": "333ec665"
   },
   "source": [
    "## Предобработка данных\n",
    "\n",
    "Шаг 2. Выполните предобработку данных"
   ]
  },
  {
   "cell_type": "markdown",
   "id": "1310e809",
   "metadata": {
    "deletable": false,
    "editable": false,
    "id": "02d92d53"
   },
   "source": [
    "### Удаление пропусков"
   ]
  },
  {
   "cell_type": "markdown",
   "id": "668b5f67",
   "metadata": {
    "deletable": false,
    "editable": false,
    "id": "cd84967c"
   },
   "source": [
    "**Задание 4. Выведите количество пропущенных значений для каждого столбца. Используйте комбинацию двух методов.**"
   ]
  },
  {
   "cell_type": "code",
   "execution_count": 13,
   "id": "d399b29c",
   "metadata": {
    "deletable": false,
    "id": "7f9b2309",
    "outputId": "81f4d817-781c-465c-ed15-91ce4446810d"
   },
   "outputs": [
    {
     "data": {
      "text/plain": [
       "children               0\n",
       "days_employed       2174\n",
       "dob_years              0\n",
       "education              0\n",
       "education_id           0\n",
       "family_status          0\n",
       "family_status_id       0\n",
       "gender                 0\n",
       "income_type            0\n",
       "debt                   0\n",
       "total_income        2174\n",
       "purpose                0\n",
       "dtype: int64"
      ]
     },
     "execution_count": 13,
     "metadata": {},
     "output_type": "execute_result"
    }
   ],
   "source": [
    "data.isna().sum()"
   ]
  },
  {
   "cell_type": "markdown",
   "id": "35343690",
   "metadata": {
    "deletable": false,
    "editable": false,
    "id": "db86e27b"
   },
   "source": [
    "**Задание 5. В двух столбцах есть пропущенные значения. Один из них — `days_employed`. Пропуски в этом столбце вы обработаете на следующем этапе. Другой столбец с пропущенными значениями — `total_income` — хранит данные о доходах. На сумму дохода сильнее всего влияет тип занятости, поэтому заполнить пропуски в этом столбце нужно медианным значением по каждому типу из столбца `income_type`. Например, у человека с типом занятости `сотрудник` пропуск в столбце `total_income` должен быть заполнен медианным доходом среди всех записей с тем же типом.**"
   ]
  },
  {
   "cell_type": "code",
   "execution_count": 15,
   "id": "0fe7cb8a",
   "metadata": {
    "deletable": false,
    "id": "42006a93"
   },
   "outputs": [],
   "source": [
    "for t in data['income_type'].unique():\n",
    "    data.loc[(data['income_type'] == t) & (data['total_income'].isna()), 'total_income'] = \\\n",
    "    data.loc[(data['income_type'] == t), 'total_income'].median()"
   ]
  },
  {
   "cell_type": "markdown",
   "id": "d718749d",
   "metadata": {
    "deletable": false,
    "editable": false,
    "id": "89da5ece"
   },
   "source": [
    "### Обработка аномальных значений"
   ]
  },
  {
   "cell_type": "markdown",
   "id": "2462662c",
   "metadata": {
    "deletable": false,
    "editable": false,
    "id": "57964554"
   },
   "source": [
    "**Задание 6. В данных могут встречаться артефакты (аномалии) — значения, которые не отражают действительность и появились по какой-то ошибке. таким артефактом будет отрицательное количество дней трудового стажа в столбце `days_employed`. Для реальных данных это нормально. Обработайте значения в этом столбце: замените все отрицательные значения положительными с помощью метода `abs()`.**"
   ]
  },
  {
   "cell_type": "code",
   "execution_count": 18,
   "id": "46a53cd9",
   "metadata": {
    "deletable": false,
    "id": "f6f055bf"
   },
   "outputs": [],
   "source": [
    "data['days_employed'] = data['days_employed'].abs()"
   ]
  },
  {
   "cell_type": "markdown",
   "id": "166c7e7f",
   "metadata": {
    "deletable": false,
    "editable": false,
    "id": "6107dd2f"
   },
   "source": [
    "**Задание 7. Для каждого типа занятости выведите медианное значение трудового стажа `days_employed` в днях.**"
   ]
  },
  {
   "cell_type": "code",
   "execution_count": 20,
   "id": "ce693acf",
   "metadata": {
    "deletable": false,
    "id": "85a5faf6",
    "outputId": "801ef80e-522b-4668-f34e-565af7432bcf"
   },
   "outputs": [
    {
     "data": {
      "text/plain": [
       "income_type\n",
       "безработный        366413.652744\n",
       "в декрете            3296.759962\n",
       "госслужащий          2689.368353\n",
       "компаньон            1547.382223\n",
       "пенсионер          365213.306266\n",
       "предприниматель       520.848083\n",
       "сотрудник            1574.202821\n",
       "студент               578.751554\n",
       "Name: days_employed, dtype: float64"
      ]
     },
     "execution_count": 20,
     "metadata": {},
     "output_type": "execute_result"
    }
   ],
   "source": [
    "data.groupby('income_type')['days_employed'].agg('median')"
   ]
  },
  {
   "cell_type": "markdown",
   "id": "ca27eaf6",
   "metadata": {
    "deletable": false,
    "editable": false,
    "id": "38d1a030"
   },
   "source": [
    "У двух типов (безработные и пенсионеры) получатся аномально большие значения. Исправить такие значения сложно, поэтому оставьте их как есть. Тем более этот столбец не понадобится вам для исследования."
   ]
  },
  {
   "cell_type": "markdown",
   "id": "f187c8b4",
   "metadata": {
    "deletable": false,
    "editable": false,
    "id": "d8a9f147"
   },
   "source": [
    "**Задание 8. Выведите перечень уникальных значений столбца `children`.**"
   ]
  },
  {
   "cell_type": "code",
   "execution_count": 23,
   "id": "167c610e",
   "metadata": {
    "deletable": false,
    "id": "ef5056eb",
    "outputId": "6975b15c-7f95-4697-d16d-a0c79b657b03"
   },
   "outputs": [
    {
     "data": {
      "text/plain": [
       "array([ 1,  0,  3,  2, -1,  4, 20,  5], dtype=int64)"
      ]
     },
     "execution_count": 23,
     "metadata": {},
     "output_type": "execute_result"
    }
   ],
   "source": [
    "data['children'].unique()"
   ]
  },
  {
   "cell_type": "markdown",
   "id": "4966bea9",
   "metadata": {
    "deletable": false,
    "editable": false,
    "id": "40b9ebf2"
   },
   "source": [
    "**Задание 9. В столбце `children` есть два аномальных значения. Удалите строки, в которых встречаются такие аномальные значения из датафрейма `data`.**"
   ]
  },
  {
   "cell_type": "code",
   "execution_count": 25,
   "id": "20decf9c",
   "metadata": {
    "deletable": false,
    "id": "3ff9801d"
   },
   "outputs": [],
   "source": [
    "data = data[(data['children'] != -1) & (data['children'] != 20)]"
   ]
  },
  {
   "cell_type": "markdown",
   "id": "bde1636a",
   "metadata": {
    "deletable": false,
    "editable": false,
    "id": "bbc4d0ce"
   },
   "source": [
    "**Задание 10. Ещё раз выведите перечень уникальных значений столбца `children`, чтобы убедиться, что артефакты удалены.**"
   ]
  },
  {
   "cell_type": "code",
   "execution_count": 27,
   "id": "3d72beb5",
   "metadata": {
    "deletable": false,
    "id": "ad4fa8b7",
    "outputId": "b2097101-d49d-44d9-901b-32a65c9463d1"
   },
   "outputs": [
    {
     "data": {
      "text/plain": [
       "array([1, 0, 3, 2, 4, 5], dtype=int64)"
      ]
     },
     "execution_count": 27,
     "metadata": {},
     "output_type": "execute_result"
    }
   ],
   "source": [
    "data['children'].unique()"
   ]
  },
  {
   "cell_type": "markdown",
   "id": "1d38e764",
   "metadata": {
    "deletable": false,
    "editable": false,
    "id": "75440b63"
   },
   "source": [
    "### Удаление пропусков (продолжение)"
   ]
  },
  {
   "cell_type": "markdown",
   "id": "2bd54c4f",
   "metadata": {
    "deletable": false,
    "editable": false,
    "id": "f4ea573f"
   },
   "source": [
    "**Задание 11. Заполните пропуски в столбце `days_employed` медианными значениями по каждого типа занятости `income_type`.**"
   ]
  },
  {
   "cell_type": "code",
   "execution_count": 30,
   "id": "54e0a992",
   "metadata": {
    "deletable": false,
    "id": "af6b1a7e"
   },
   "outputs": [],
   "source": [
    "for t in data['income_type'].unique():\n",
    "    data.loc[(data['income_type'] == t) & (data['days_employed'].isna()), 'days_employed'] = \\\n",
    "    data.loc[(data['income_type'] == t), 'days_employed'].median()"
   ]
  },
  {
   "cell_type": "markdown",
   "id": "1630fe13",
   "metadata": {
    "deletable": false,
    "editable": false,
    "id": "2753f40d"
   },
   "source": [
    "**Задание 12. Убедитесь, что все пропуски заполнены. Проверьте себя и ещё раз выведите количество пропущенных значений для каждого столбца с помощью двух методов.**"
   ]
  },
  {
   "cell_type": "code",
   "execution_count": 32,
   "id": "87675946",
   "metadata": {
    "deletable": false,
    "id": "55f78bc2",
    "outputId": "8da1e4e1-358e-4e87-98c9-f261bce0a7b2"
   },
   "outputs": [
    {
     "data": {
      "text/plain": [
       "children            0\n",
       "days_employed       0\n",
       "dob_years           0\n",
       "education           0\n",
       "education_id        0\n",
       "family_status       0\n",
       "family_status_id    0\n",
       "gender              0\n",
       "income_type         0\n",
       "debt                0\n",
       "total_income        0\n",
       "purpose             0\n",
       "dtype: int64"
      ]
     },
     "execution_count": 32,
     "metadata": {},
     "output_type": "execute_result"
    }
   ],
   "source": [
    "data.isna().sum()"
   ]
  },
  {
   "cell_type": "markdown",
   "id": "b95d6cfc",
   "metadata": {
    "deletable": false,
    "editable": false,
    "id": "ddc81e43"
   },
   "source": [
    "### Изменение типов данных"
   ]
  },
  {
   "cell_type": "markdown",
   "id": "24972eac",
   "metadata": {
    "deletable": false,
    "editable": false,
    "id": "42d19d24"
   },
   "source": [
    "**Задание 13. Замените вещественный тип данных в столбце `total_income` на целочисленный с помощью метода `astype()`.**"
   ]
  },
  {
   "cell_type": "code",
   "execution_count": 35,
   "id": "069485bf",
   "metadata": {
    "deletable": false,
    "id": "920b65ad"
   },
   "outputs": [],
   "source": [
    "data['total_income'] = data['total_income'].astype(int)"
   ]
  },
  {
   "cell_type": "markdown",
   "id": "dfc9cdea",
   "metadata": {
    "deletable": false,
    "editable": false,
    "id": "80c420ba"
   },
   "source": [
    "### Обработка дубликатов"
   ]
  },
  {
   "cell_type": "markdown",
   "id": "e6b86781",
   "metadata": {
    "deletable": false,
    "editable": false
   },
   "source": [
    "**Задание 14. Обработайте неявные дубликаты в столбце `education`. В этом столбце есть одни и те же значения, но записанные по-разному: с использованием заглавных и строчных букв. Приведите их к нижнему регистру. Проверьте остальные столбцы.**"
   ]
  },
  {
   "cell_type": "code",
   "execution_count": 38,
   "id": "698b2251",
   "metadata": {
    "deletable": false
   },
   "outputs": [],
   "source": [
    "data['education'] = data['education'].str.lower()"
   ]
  },
  {
   "cell_type": "markdown",
   "id": "bd4bdc1b",
   "metadata": {
    "deletable": false,
    "editable": false,
    "id": "dc587695"
   },
   "source": [
    "**Задание 15. Выведите на экран количество строк-дубликатов в данных. Если такие строки присутствуют, удалите их.**"
   ]
  },
  {
   "cell_type": "code",
   "execution_count": 40,
   "id": "5546a406",
   "metadata": {
    "deletable": false,
    "id": "3ee445e4",
    "outputId": "9684deba-1934-42d1-99e1-cda61740f822"
   },
   "outputs": [
    {
     "data": {
      "text/plain": [
       "71"
      ]
     },
     "execution_count": 40,
     "metadata": {},
     "output_type": "execute_result"
    }
   ],
   "source": [
    "data.duplicated().sum()"
   ]
  },
  {
   "cell_type": "code",
   "execution_count": 41,
   "id": "e9712317",
   "metadata": {
    "deletable": false,
    "id": "8575fe05"
   },
   "outputs": [],
   "source": [
    "data = data.drop_duplicates()"
   ]
  },
  {
   "cell_type": "markdown",
   "id": "77bcd9c3",
   "metadata": {
    "deletable": false,
    "editable": false,
    "id": "9904cf55"
   },
   "source": [
    "### Категоризация данных"
   ]
  },
  {
   "cell_type": "markdown",
   "id": "c2eb5b8d",
   "metadata": {
    "deletable": false,
    "editable": false,
    "id": "72fcc8a2"
   },
   "source": [
    "**Задание 16. На основании диапазонов, указанных ниже, создайте в датафрейме `data` столбец `total_income_category` с категориями:**\n",
    "\n",
    "- 0–30000 — `'E'`;\n",
    "- 30001–50000 — `'D'`;\n",
    "- 50001–200000 — `'C'`;\n",
    "- 200001–1000000 — `'B'`;\n",
    "- 1000001 и выше — `'A'`.\n",
    "\n",
    "\n",
    "**Например, кредитополучателю с доходом 25000 нужно назначить категорию `'E'`, а клиенту, получающему 235000, — `'B'`. Используйте собственную функцию с именем `categorize_income()` и метод `apply()`.**"
   ]
  },
  {
   "cell_type": "code",
   "execution_count": 44,
   "id": "c325e6a7",
   "metadata": {
    "deletable": false,
    "id": "e1771346"
   },
   "outputs": [],
   "source": [
    "def categorize_income(income):\n",
    "    try:\n",
    "        if 0 <= income <= 30000:\n",
    "            return 'E'\n",
    "        elif 30001 <= income <= 50000:\n",
    "            return 'D'\n",
    "        elif 50001 <= income <= 200000:\n",
    "            return 'C'\n",
    "        elif 200001 <= income <= 1000000:\n",
    "            return 'B'\n",
    "        elif income >= 1000001:\n",
    "            return 'A'\n",
    "    except:\n",
    "        pass"
   ]
  },
  {
   "cell_type": "code",
   "execution_count": 45,
   "id": "1fd44b1e",
   "metadata": {
    "deletable": false,
    "id": "d5f3586d"
   },
   "outputs": [],
   "source": [
    "data['total_income_category'] = data['total_income'].apply(categorize_income)"
   ]
  },
  {
   "cell_type": "markdown",
   "id": "fbd74972",
   "metadata": {
    "deletable": false,
    "editable": false,
    "id": "dde49b5c"
   },
   "source": [
    "**Задание 17. Выведите на экран перечень уникальных целей взятия кредита из столбца `purpose`.**"
   ]
  },
  {
   "cell_type": "code",
   "execution_count": 47,
   "id": "304b8488",
   "metadata": {
    "deletable": false,
    "id": "f67ce9b3",
    "outputId": "673c12d9-7d7e-4ae0-9812-c622c89dd244"
   },
   "outputs": [
    {
     "data": {
      "text/plain": [
       "array(['покупка жилья', 'приобретение автомобиля',\n",
       "       'дополнительное образование', 'сыграть свадьбу',\n",
       "       'операции с жильем', 'образование', 'на проведение свадьбы',\n",
       "       'покупка жилья для семьи', 'покупка недвижимости',\n",
       "       'покупка коммерческой недвижимости', 'покупка жилой недвижимости',\n",
       "       'строительство собственной недвижимости', 'недвижимость',\n",
       "       'строительство недвижимости', 'на покупку подержанного автомобиля',\n",
       "       'на покупку своего автомобиля',\n",
       "       'операции с коммерческой недвижимостью',\n",
       "       'строительство жилой недвижимости', 'жилье',\n",
       "       'операции со своей недвижимостью', 'автомобили',\n",
       "       'заняться образованием', 'сделка с подержанным автомобилем',\n",
       "       'получение образования', 'автомобиль', 'свадьба',\n",
       "       'получение дополнительного образования', 'покупка своего жилья',\n",
       "       'операции с недвижимостью', 'получение высшего образования',\n",
       "       'свой автомобиль', 'сделка с автомобилем',\n",
       "       'профильное образование', 'высшее образование',\n",
       "       'покупка жилья для сдачи', 'на покупку автомобиля', 'ремонт жилью',\n",
       "       'заняться высшим образованием'], dtype=object)"
      ]
     },
     "execution_count": 47,
     "metadata": {},
     "output_type": "execute_result"
    }
   ],
   "source": [
    "data['purpose'].unique()"
   ]
  },
  {
   "cell_type": "markdown",
   "id": "1eec0c16",
   "metadata": {
    "deletable": false,
    "editable": false,
    "id": "85d0aef0"
   },
   "source": [
    "**Задание 18. Создайте функцию, которая на основании данных из столбца `purpose` сформирует новый столбец `purpose_category`, в который войдут следующие категории:**\n",
    "\n",
    "- `'операции с автомобилем'`,\n",
    "- `'операции с недвижимостью'`,\n",
    "- `'проведение свадьбы'`,\n",
    "- `'получение образования'`.\n",
    "\n",
    "**Например, если в столбце `purpose` находится подстрока `'на покупку автомобиля'`, то в столбце `purpose_category` должна появиться строка `'операции с автомобилем'`.**\n",
    "\n",
    "**Используйте собственную функцию с именем `categorize_purpose()` и метод `apply()`. Изучите данные в столбце `purpose` и определите, какие подстроки помогут вам правильно определить категорию.**"
   ]
  },
  {
   "cell_type": "code",
   "execution_count": 49,
   "id": "0e30f6b9",
   "metadata": {
    "deletable": false,
    "id": "e149fab4"
   },
   "outputs": [],
   "source": [
    "def categorize_purpose(row):\n",
    "    try:\n",
    "        if 'автом' in row:\n",
    "            return 'операции с автомобилем'\n",
    "        elif 'жил' in row or 'недвиж' in row:\n",
    "            return 'операции с недвижимостью'\n",
    "        elif 'свад' in row:\n",
    "            return 'проведение свадьбы'\n",
    "        elif 'образов' in row:\n",
    "            return 'получение образования'\n",
    "    except:\n",
    "        return 'нет категории'"
   ]
  },
  {
   "cell_type": "code",
   "execution_count": 50,
   "id": "48d35d91",
   "metadata": {
    "deletable": false,
    "id": "bf36e69b"
   },
   "outputs": [],
   "source": [
    "data['purpose_category'] = data['purpose'].apply(categorize_purpose)"
   ]
  },
  {
   "cell_type": "markdown",
   "id": "98f94476",
   "metadata": {
    "deletable": false,
    "editable": false,
    "id": "09b242bf"
   },
   "source": [
    "## Анализ данных\n",
    "\n",
    "Шаг 3. Исследуйте данные и ответьте на вопросы"
   ]
  },
  {
   "cell_type": "markdown",
   "id": "0f394283",
   "metadata": {},
   "source": [
    "Проанализируем, влияет ли количество детей клиента, а также его семейное положение, уровень дохода и цели кредита на факт погашения кредита в срок."
   ]
  },
  {
   "cell_type": "markdown",
   "id": "afc5e50b",
   "metadata": {},
   "source": [
    "### Клиенты с различным количеством детей"
   ]
  },
  {
   "cell_type": "markdown",
   "id": "70457ed2",
   "metadata": {
    "deletable": false,
    "editable": false,
    "id": "c5d66278"
   },
   "source": [
    "**Задание 19. Есть ли зависимость между количеством детей и возвратом кредита в срок?**"
   ]
  },
  {
   "cell_type": "markdown",
   "id": "a0ddfbd4",
   "metadata": {},
   "source": [
    "Для поиска зависимости:\n",
    "- Сгруппируем клиентов по количеству детей (столбец `children`).\n",
    "- Сравним процент погашенных в срок кредитов в каждой группе."
   ]
  },
  {
   "cell_type": "code",
   "execution_count": 56,
   "id": "ea5b4160",
   "metadata": {
    "deletable": false,
    "id": "2cacfc4a"
   },
   "outputs": [
    {
     "data": {
      "text/html": [
       "<div>\n",
       "<style scoped>\n",
       "    .dataframe tbody tr th:only-of-type {\n",
       "        vertical-align: middle;\n",
       "    }\n",
       "\n",
       "    .dataframe tbody tr th {\n",
       "        vertical-align: top;\n",
       "    }\n",
       "\n",
       "    .dataframe thead tr th {\n",
       "        text-align: left;\n",
       "    }\n",
       "\n",
       "    .dataframe thead tr:last-of-type th {\n",
       "        text-align: right;\n",
       "    }\n",
       "</style>\n",
       "<table border=\"1\" class=\"dataframe\">\n",
       "  <thead>\n",
       "    <tr>\n",
       "      <th></th>\n",
       "      <th colspan=\"2\" halign=\"left\">debt</th>\n",
       "      <th>no_debt_percent</th>\n",
       "    </tr>\n",
       "    <tr>\n",
       "      <th></th>\n",
       "      <th>count</th>\n",
       "      <th>mean</th>\n",
       "      <th></th>\n",
       "    </tr>\n",
       "    <tr>\n",
       "      <th>children</th>\n",
       "      <th></th>\n",
       "      <th></th>\n",
       "      <th></th>\n",
       "    </tr>\n",
       "  </thead>\n",
       "  <tbody>\n",
       "    <tr>\n",
       "      <th>0</th>\n",
       "      <td>14091</td>\n",
       "      <td>0.075438</td>\n",
       "      <td>92.46</td>\n",
       "    </tr>\n",
       "    <tr>\n",
       "      <th>1</th>\n",
       "      <td>4808</td>\n",
       "      <td>0.092346</td>\n",
       "      <td>90.77</td>\n",
       "    </tr>\n",
       "    <tr>\n",
       "      <th>2</th>\n",
       "      <td>2052</td>\n",
       "      <td>0.094542</td>\n",
       "      <td>90.55</td>\n",
       "    </tr>\n",
       "    <tr>\n",
       "      <th>3</th>\n",
       "      <td>330</td>\n",
       "      <td>0.081818</td>\n",
       "      <td>91.82</td>\n",
       "    </tr>\n",
       "    <tr>\n",
       "      <th>4</th>\n",
       "      <td>41</td>\n",
       "      <td>0.097561</td>\n",
       "      <td>90.24</td>\n",
       "    </tr>\n",
       "    <tr>\n",
       "      <th>5</th>\n",
       "      <td>9</td>\n",
       "      <td>0.000000</td>\n",
       "      <td>100.00</td>\n",
       "    </tr>\n",
       "  </tbody>\n",
       "</table>\n",
       "</div>"
      ],
      "text/plain": [
       "           debt           no_debt_percent\n",
       "          count      mean                \n",
       "children                                 \n",
       "0         14091  0.075438           92.46\n",
       "1          4808  0.092346           90.77\n",
       "2          2052  0.094542           90.55\n",
       "3           330  0.081818           91.82\n",
       "4            41  0.097561           90.24\n",
       "5             9  0.000000          100.00"
      ]
     },
     "execution_count": 56,
     "metadata": {},
     "output_type": "execute_result"
    }
   ],
   "source": [
    "# сгруппируем клиентов по количеству детей\n",
    "# и применим агрегацию для столбца debt с целью подсчета размера групп и доли должников\n",
    "data_grouped = data.groupby('children').agg({'debt': ['count', 'mean']})\n",
    "\n",
    "# в каждой группе вычислим долю клиентов (в процентах), которые погасили кредит в срок\n",
    "data_grouped['no_debt_percent'] = round((1 - data_grouped['debt']['mean']) * 100, 2)\n",
    "\n",
    "data_grouped"
   ]
  },
  {
   "cell_type": "markdown",
   "id": "8244dfa9",
   "metadata": {
    "deletable": false,
    "id": "3a6b99ec"
   },
   "source": [
    "<a id=\"result1\"></a>\n",
    "**Вывод:** \n",
    "\n",
    "Данные показывают разницу в возврате кредитов в срок клиентами с различным количеством детей:\n",
    "- Лучше всех возращают кредиты клиенты с 5 детьми, а хуже всех — с 4 детьми. Однако размеры выборок клиентов с 4 детьми и 5 детьми слишком малы, чтобы опираться на этот результат.\n",
    "- Клиенты без детей являются более надежными заемщиками, чем клиенты с детьми."
   ]
  },
  {
   "cell_type": "markdown",
   "id": "0745bec0",
   "metadata": {},
   "source": [
    "### Клиенты с различным семейным положением"
   ]
  },
  {
   "cell_type": "markdown",
   "id": "b41782ed",
   "metadata": {
    "deletable": false,
    "editable": false,
    "id": "97be82ca"
   },
   "source": [
    "**Задание 20. Есть ли зависимость между семейным положением и возвратом кредита в срок?**"
   ]
  },
  {
   "cell_type": "markdown",
   "id": "76e6b74b",
   "metadata": {},
   "source": [
    "Для поиска зависимости:\n",
    "- Сгруппируем клиентов по семейному положению (столбец `family_status`).\n",
    "- Сравним процент погашенных в срок кредитов в каждой группе."
   ]
  },
  {
   "cell_type": "code",
   "execution_count": 61,
   "id": "b2e58707",
   "metadata": {
    "deletable": false,
    "id": "dc3f7ee8"
   },
   "outputs": [
    {
     "data": {
      "text/html": [
       "<div>\n",
       "<style scoped>\n",
       "    .dataframe tbody tr th:only-of-type {\n",
       "        vertical-align: middle;\n",
       "    }\n",
       "\n",
       "    .dataframe tbody tr th {\n",
       "        vertical-align: top;\n",
       "    }\n",
       "\n",
       "    .dataframe thead tr th {\n",
       "        text-align: left;\n",
       "    }\n",
       "\n",
       "    .dataframe thead tr:last-of-type th {\n",
       "        text-align: right;\n",
       "    }\n",
       "</style>\n",
       "<table border=\"1\" class=\"dataframe\">\n",
       "  <thead>\n",
       "    <tr>\n",
       "      <th></th>\n",
       "      <th colspan=\"2\" halign=\"left\">debt</th>\n",
       "      <th>no_debt_percent</th>\n",
       "    </tr>\n",
       "    <tr>\n",
       "      <th></th>\n",
       "      <th>count</th>\n",
       "      <th>mean</th>\n",
       "      <th></th>\n",
       "    </tr>\n",
       "    <tr>\n",
       "      <th>family_status</th>\n",
       "      <th></th>\n",
       "      <th></th>\n",
       "      <th></th>\n",
       "    </tr>\n",
       "  </thead>\n",
       "  <tbody>\n",
       "    <tr>\n",
       "      <th>Не женат / не замужем</th>\n",
       "      <td>2796</td>\n",
       "      <td>0.097639</td>\n",
       "      <td>90.24</td>\n",
       "    </tr>\n",
       "    <tr>\n",
       "      <th>в разводе</th>\n",
       "      <td>1189</td>\n",
       "      <td>0.070648</td>\n",
       "      <td>92.94</td>\n",
       "    </tr>\n",
       "    <tr>\n",
       "      <th>вдовец / вдова</th>\n",
       "      <td>951</td>\n",
       "      <td>0.066246</td>\n",
       "      <td>93.38</td>\n",
       "    </tr>\n",
       "    <tr>\n",
       "      <th>гражданский брак</th>\n",
       "      <td>4134</td>\n",
       "      <td>0.093130</td>\n",
       "      <td>90.69</td>\n",
       "    </tr>\n",
       "    <tr>\n",
       "      <th>женат / замужем</th>\n",
       "      <td>12261</td>\n",
       "      <td>0.075606</td>\n",
       "      <td>92.44</td>\n",
       "    </tr>\n",
       "  </tbody>\n",
       "</table>\n",
       "</div>"
      ],
      "text/plain": [
       "                        debt           no_debt_percent\n",
       "                       count      mean                \n",
       "family_status                                         \n",
       "Не женат / не замужем   2796  0.097639           90.24\n",
       "в разводе               1189  0.070648           92.94\n",
       "вдовец / вдова           951  0.066246           93.38\n",
       "гражданский брак        4134  0.093130           90.69\n",
       "женат / замужем        12261  0.075606           92.44"
      ]
     },
     "execution_count": 61,
     "metadata": {},
     "output_type": "execute_result"
    }
   ],
   "source": [
    "# сгруппируем клиентов по семейному положению \n",
    "# и применим агрегацию для столбца debt с целью подсчета размера групп и доли должников\n",
    "data_grouped = data.groupby('family_status').agg({'debt': ['count', 'mean']})\n",
    "\n",
    "# в каждой группе вычислим долю клиентов (в процентах), которые погасили кредит в срок\n",
    "data_grouped['no_debt_percent'] = round((1 - data_grouped['debt']['mean']) * 100, 2)\n",
    "\n",
    "data_grouped"
   ]
  },
  {
   "cell_type": "markdown",
   "id": "35397659",
   "metadata": {},
   "source": [
    "Из полученных результатов видно, что наиболее надежными заемщиками являются вдовцы / вдовы, а также клиенты в разводе. При этом хуже всех возращают кредиты клиенты, которые не женаты / не замужем, а также клиенты в гражданском браке.\n",
    "\n",
    "Поскольку семейный статус клиента может быть сильно связан с возрастом, проанализируем это предположение."
   ]
  },
  {
   "cell_type": "code",
   "execution_count": 63,
   "id": "cbdfc261",
   "metadata": {},
   "outputs": [
    {
     "data": {
      "text/plain": [
       "(43.0, 39.0)"
      ]
     },
     "execution_count": 63,
     "metadata": {},
     "output_type": "execute_result"
    }
   ],
   "source": [
    "# найдем медианный возраст клиентов, вернувших кредит в срок,\n",
    "# а также медианный возраст клиентов, не вернувших кредит в срок\n",
    "data[data['debt'] == 0]['dob_years'].median(), data[data['debt'] == 1]['dob_years'].median()"
   ]
  },
  {
   "cell_type": "code",
   "execution_count": 64,
   "id": "93450e49",
   "metadata": {},
   "outputs": [
    {
     "data": {
      "text/html": [
       "<div>\n",
       "<style scoped>\n",
       "    .dataframe tbody tr th:only-of-type {\n",
       "        vertical-align: middle;\n",
       "    }\n",
       "\n",
       "    .dataframe tbody tr th {\n",
       "        vertical-align: top;\n",
       "    }\n",
       "\n",
       "    .dataframe thead tr th {\n",
       "        text-align: left;\n",
       "    }\n",
       "\n",
       "    .dataframe thead tr:last-of-type th {\n",
       "        text-align: right;\n",
       "    }\n",
       "</style>\n",
       "<table border=\"1\" class=\"dataframe\">\n",
       "  <thead>\n",
       "    <tr>\n",
       "      <th></th>\n",
       "      <th colspan=\"2\" halign=\"left\">debt</th>\n",
       "      <th>dob_years</th>\n",
       "      <th>no_debt_percent</th>\n",
       "    </tr>\n",
       "    <tr>\n",
       "      <th></th>\n",
       "      <th>count</th>\n",
       "      <th>mean</th>\n",
       "      <th>median</th>\n",
       "      <th></th>\n",
       "    </tr>\n",
       "    <tr>\n",
       "      <th>family_status</th>\n",
       "      <th></th>\n",
       "      <th></th>\n",
       "      <th></th>\n",
       "      <th></th>\n",
       "    </tr>\n",
       "  </thead>\n",
       "  <tbody>\n",
       "    <tr>\n",
       "      <th>Не женат / не замужем</th>\n",
       "      <td>2796</td>\n",
       "      <td>0.097639</td>\n",
       "      <td>36.0</td>\n",
       "      <td>90.24</td>\n",
       "    </tr>\n",
       "    <tr>\n",
       "      <th>в разводе</th>\n",
       "      <td>1189</td>\n",
       "      <td>0.070648</td>\n",
       "      <td>46.0</td>\n",
       "      <td>92.94</td>\n",
       "    </tr>\n",
       "    <tr>\n",
       "      <th>вдовец / вдова</th>\n",
       "      <td>951</td>\n",
       "      <td>0.066246</td>\n",
       "      <td>58.0</td>\n",
       "      <td>93.38</td>\n",
       "    </tr>\n",
       "    <tr>\n",
       "      <th>гражданский брак</th>\n",
       "      <td>4134</td>\n",
       "      <td>0.093130</td>\n",
       "      <td>41.0</td>\n",
       "      <td>90.69</td>\n",
       "    </tr>\n",
       "    <tr>\n",
       "      <th>женат / замужем</th>\n",
       "      <td>12261</td>\n",
       "      <td>0.075606</td>\n",
       "      <td>43.0</td>\n",
       "      <td>92.44</td>\n",
       "    </tr>\n",
       "  </tbody>\n",
       "</table>\n",
       "</div>"
      ],
      "text/plain": [
       "                        debt           dob_years no_debt_percent\n",
       "                       count      mean    median                \n",
       "family_status                                                   \n",
       "Не женат / не замужем   2796  0.097639      36.0           90.24\n",
       "в разводе               1189  0.070648      46.0           92.94\n",
       "вдовец / вдова           951  0.066246      58.0           93.38\n",
       "гражданский брак        4134  0.093130      41.0           90.69\n",
       "женат / замужем        12261  0.075606      43.0           92.44"
      ]
     },
     "execution_count": 64,
     "metadata": {},
     "output_type": "execute_result"
    }
   ],
   "source": [
    "# построим сводную таблицу, сгруппировав клиентов по семейному статусу\n",
    "# и применив функции для подсчета доли должников и медианного возраста клиентов\n",
    "data_pivot = data.pivot_table(index=['family_status'], values=['debt', 'dob_years'], \n",
    "                              aggfunc={'debt': ['count', 'mean'], 'dob_years': 'median'})\n",
    "\n",
    "# в каждой группе вычислим долю клиентов (в процентах), которые погасили кредит в срок\n",
    "data_pivot['no_debt_percent'] = round((1 - data_pivot['debt']['mean']) * 100, 2)\n",
    "\n",
    "data_pivot"
   ]
  },
  {
   "cell_type": "markdown",
   "id": "40a659fa",
   "metadata": {
    "deletable": false,
    "id": "1cef7837"
   },
   "source": [
    "<a id=\"result2\"></a>\n",
    "**Вывод:** \n",
    "\n",
    "Данные показывают разницу в возврате кредитов в срок клиентами в группах с различным семейным положением:\n",
    "- Наиболее надежными заемщиками являются вдовцы / вдовы, а также клиенты в разводе.\n",
    "- Хуже всех возращают кредиты клиенты, которые не женаты / не замужем, а также клиенты в гражданском браке.\n",
    "- Учитывая медианный возраст клиентов в группах, можно сделать вывод, что более надежными заемщиками являются клиенты из более \"возрастных\" групп (в которых клиенты успели овдоветь или развестись), менее надежными — из \"молодых\" (в которых клиенты еще не успели вступить в официальный брак)."
   ]
  },
  {
   "cell_type": "markdown",
   "id": "18a23aee",
   "metadata": {},
   "source": [
    "### Клиенты с различным уровнем дохода"
   ]
  },
  {
   "cell_type": "markdown",
   "id": "e67b0109",
   "metadata": {
    "deletable": false,
    "editable": false,
    "id": "1e8b2fca"
   },
   "source": [
    "**Задание 21. Есть ли зависимость между уровнем дохода и возвратом кредита в срок?**"
   ]
  },
  {
   "cell_type": "markdown",
   "id": "a289f7bd",
   "metadata": {},
   "source": [
    "Для поиска зависимости:\n",
    "- Сгруппируем клиентов по уровню дохода (столбец `total_income_category`).\n",
    "- Сравним процент погашенных в срок кредитов в каждой группе."
   ]
  },
  {
   "cell_type": "code",
   "execution_count": 69,
   "id": "4bb34c52",
   "metadata": {
    "deletable": false,
    "id": "cd7e3720"
   },
   "outputs": [
    {
     "data": {
      "text/html": [
       "<div>\n",
       "<style scoped>\n",
       "    .dataframe tbody tr th:only-of-type {\n",
       "        vertical-align: middle;\n",
       "    }\n",
       "\n",
       "    .dataframe tbody tr th {\n",
       "        vertical-align: top;\n",
       "    }\n",
       "\n",
       "    .dataframe thead tr th {\n",
       "        text-align: left;\n",
       "    }\n",
       "\n",
       "    .dataframe thead tr:last-of-type th {\n",
       "        text-align: right;\n",
       "    }\n",
       "</style>\n",
       "<table border=\"1\" class=\"dataframe\">\n",
       "  <thead>\n",
       "    <tr>\n",
       "      <th></th>\n",
       "      <th colspan=\"2\" halign=\"left\">debt</th>\n",
       "      <th>no_debt_percent</th>\n",
       "    </tr>\n",
       "    <tr>\n",
       "      <th></th>\n",
       "      <th>count</th>\n",
       "      <th>mean</th>\n",
       "      <th></th>\n",
       "    </tr>\n",
       "    <tr>\n",
       "      <th>total_income_category</th>\n",
       "      <th></th>\n",
       "      <th></th>\n",
       "      <th></th>\n",
       "    </tr>\n",
       "  </thead>\n",
       "  <tbody>\n",
       "    <tr>\n",
       "      <th>A</th>\n",
       "      <td>25</td>\n",
       "      <td>0.080000</td>\n",
       "      <td>92.00</td>\n",
       "    </tr>\n",
       "    <tr>\n",
       "      <th>B</th>\n",
       "      <td>5014</td>\n",
       "      <td>0.070602</td>\n",
       "      <td>92.94</td>\n",
       "    </tr>\n",
       "    <tr>\n",
       "      <th>C</th>\n",
       "      <td>15921</td>\n",
       "      <td>0.084982</td>\n",
       "      <td>91.50</td>\n",
       "    </tr>\n",
       "    <tr>\n",
       "      <th>D</th>\n",
       "      <td>349</td>\n",
       "      <td>0.060172</td>\n",
       "      <td>93.98</td>\n",
       "    </tr>\n",
       "    <tr>\n",
       "      <th>E</th>\n",
       "      <td>22</td>\n",
       "      <td>0.090909</td>\n",
       "      <td>90.91</td>\n",
       "    </tr>\n",
       "  </tbody>\n",
       "</table>\n",
       "</div>"
      ],
      "text/plain": [
       "                        debt           no_debt_percent\n",
       "                       count      mean                \n",
       "total_income_category                                 \n",
       "A                         25  0.080000           92.00\n",
       "B                       5014  0.070602           92.94\n",
       "C                      15921  0.084982           91.50\n",
       "D                        349  0.060172           93.98\n",
       "E                         22  0.090909           90.91"
      ]
     },
     "execution_count": 69,
     "metadata": {},
     "output_type": "execute_result"
    }
   ],
   "source": [
    "# сгруппируем клиентов по уровню дохода\n",
    "# и применим агрегацию для столбца debt с целью подсчета размера групп и доли должников\n",
    "data_grouped = data.groupby('total_income_category').agg({'debt': ['count', 'mean']})\n",
    "\n",
    "# в каждой группе вычислим долю клиентов (в процентах), которые погасили кредит в срок\n",
    "data_grouped['no_debt_percent'] = round((1 - data_grouped['debt']['mean']) * 100, 2)\n",
    "\n",
    "data_grouped"
   ]
  },
  {
   "cell_type": "markdown",
   "id": "89795c72",
   "metadata": {
    "deletable": false,
    "id": "e8593def"
   },
   "source": [
    "<a id=\"result3\"></a>\n",
    "**Вывод:** \n",
    "\n",
    "Данные показывают разницу в возврате кредитов в срок клиентами с различным уровнем дохода:\n",
    "- Размеры выборок клиентов с категориями доходов 'A' и 'E' (наибольший и наименьший доход соответственно) слишком малы, чтобы опираться на результаты в этих группах.\n",
    "- Среди остальных групп лучше всех возвращают кредиты в срок клиенты с категорией дохода 'D' (доход от 30000 до 50000), а хуже всех — с категорией дохода 'C' (доход от 50000 до 200000)\n",
    "\n",
    "Однако пропущенные значения ежемесячного дохода занимают существенную долю в данных (2174 записей с пропусками из 21525, то есть 10%) и угрожают достоверности исследования. Следовательно, стоит разобраться в причинах пропусков."
   ]
  },
  {
   "cell_type": "markdown",
   "id": "82094f6b",
   "metadata": {},
   "source": [
    "### Клиенты с различными целями кредита"
   ]
  },
  {
   "cell_type": "markdown",
   "id": "b457acb9",
   "metadata": {
    "deletable": false,
    "editable": false,
    "id": "99ecbd1f"
   },
   "source": [
    "**Задание 22. Как разные цели кредита влияют на его возврат в срок?**"
   ]
  },
  {
   "cell_type": "markdown",
   "id": "88df3962",
   "metadata": {},
   "source": [
    "Для поиска зависимости:\n",
    "- Сгруппируем клиентов по цели кредита (столбец `purpose_category`).\n",
    "- Сравним процент погашенных в срок кредитов в каждой группе."
   ]
  },
  {
   "cell_type": "code",
   "execution_count": 74,
   "id": "f746e163",
   "metadata": {
    "deletable": false,
    "id": "2b687290"
   },
   "outputs": [
    {
     "data": {
      "text/html": [
       "<div>\n",
       "<style scoped>\n",
       "    .dataframe tbody tr th:only-of-type {\n",
       "        vertical-align: middle;\n",
       "    }\n",
       "\n",
       "    .dataframe tbody tr th {\n",
       "        vertical-align: top;\n",
       "    }\n",
       "\n",
       "    .dataframe thead tr th {\n",
       "        text-align: left;\n",
       "    }\n",
       "\n",
       "    .dataframe thead tr:last-of-type th {\n",
       "        text-align: right;\n",
       "    }\n",
       "</style>\n",
       "<table border=\"1\" class=\"dataframe\">\n",
       "  <thead>\n",
       "    <tr>\n",
       "      <th></th>\n",
       "      <th>count</th>\n",
       "      <th>mean</th>\n",
       "      <th>no_debt_percent</th>\n",
       "    </tr>\n",
       "    <tr>\n",
       "      <th></th>\n",
       "      <th>debt</th>\n",
       "      <th>debt</th>\n",
       "      <th></th>\n",
       "    </tr>\n",
       "    <tr>\n",
       "      <th>purpose_category</th>\n",
       "      <th></th>\n",
       "      <th></th>\n",
       "      <th></th>\n",
       "    </tr>\n",
       "  </thead>\n",
       "  <tbody>\n",
       "    <tr>\n",
       "      <th>операции с автомобилем</th>\n",
       "      <td>4279</td>\n",
       "      <td>0.093480</td>\n",
       "      <td>90.65</td>\n",
       "    </tr>\n",
       "    <tr>\n",
       "      <th>операции с недвижимостью</th>\n",
       "      <td>10751</td>\n",
       "      <td>0.072551</td>\n",
       "      <td>92.74</td>\n",
       "    </tr>\n",
       "    <tr>\n",
       "      <th>получение образования</th>\n",
       "      <td>3988</td>\n",
       "      <td>0.092528</td>\n",
       "      <td>90.75</td>\n",
       "    </tr>\n",
       "    <tr>\n",
       "      <th>проведение свадьбы</th>\n",
       "      <td>2313</td>\n",
       "      <td>0.079118</td>\n",
       "      <td>92.09</td>\n",
       "    </tr>\n",
       "  </tbody>\n",
       "</table>\n",
       "</div>"
      ],
      "text/plain": [
       "                          count      mean no_debt_percent\n",
       "                           debt      debt                \n",
       "purpose_category                                         \n",
       "операции с автомобилем     4279  0.093480           90.65\n",
       "операции с недвижимостью  10751  0.072551           92.74\n",
       "получение образования      3988  0.092528           90.75\n",
       "проведение свадьбы         2313  0.079118           92.09"
      ]
     },
     "execution_count": 74,
     "metadata": {},
     "output_type": "execute_result"
    }
   ],
   "source": [
    "# построим сводную таблицу, сгруппировав клиентов по цели кредита\n",
    "# и применив функции для подсчета количества клиентов и доли должников в каждой группе\n",
    "data_pivot = data.pivot_table(index=['purpose_category'], values='debt', aggfunc=['count', 'mean'])\n",
    "\n",
    "# в каждой группе вычислим долю клиентов (в процентах), которые погасили кредит в срок\n",
    "data_pivot['no_debt_percent'] = round((1 - data_pivot['mean']['debt']) * 100, 2)\n",
    "\n",
    "data_pivot"
   ]
  },
  {
   "cell_type": "markdown",
   "id": "bb7ee1c4",
   "metadata": {
    "deletable": false,
    "id": "b4bb2ce6"
   },
   "source": [
    "<a id=\"result4\"></a>\n",
    "**Вывод:** \n",
    "\n",
    "Данные показывают разницу в возврате кредитов с различными целями:\n",
    "- Лучше всех возращают кредиты, взятые на проведение операций с недвижимостью.\n",
    "- Хуже всех — автокредиты и кредиты на образование (разница между ними не сильно выражена)."
   ]
  },
  {
   "cell_type": "markdown",
   "id": "2902cbb5",
   "metadata": {},
   "source": [
    "### Причины пропусков в данных"
   ]
  },
  {
   "cell_type": "markdown",
   "id": "20f1a0cc",
   "metadata": {
    "deletable": false,
    "editable": false,
    "id": "09c3ac4c"
   },
   "source": [
    "**Задание 23. Приведите возможные причины появления пропусков в исходных данных.**"
   ]
  },
  {
   "cell_type": "markdown",
   "id": "32254c27",
   "metadata": {},
   "source": [
    "Проверим еще раз, в каких именно столбцах были пропуски, а также являются ли эти пропуски зависимыми друг от друга."
   ]
  },
  {
   "cell_type": "code",
   "execution_count": 79,
   "id": "c6700615",
   "metadata": {},
   "outputs": [
    {
     "data": {
      "text/plain": [
       "children               0\n",
       "days_employed       2174\n",
       "dob_years              0\n",
       "education              0\n",
       "education_id           0\n",
       "family_status          0\n",
       "family_status_id       0\n",
       "gender                 0\n",
       "income_type            0\n",
       "debt                   0\n",
       "total_income        2174\n",
       "purpose                0\n",
       "dtype: int64"
      ]
     },
     "execution_count": 79,
     "metadata": {},
     "output_type": "execute_result"
    }
   ],
   "source": [
    "data_orig = pd.read_csv('../datasets/data.csv')\n",
    "data_orig.isna().sum()"
   ]
  },
  {
   "cell_type": "markdown",
   "id": "e4926825",
   "metadata": {},
   "source": [
    "В столбцах `days_employed` и `total_income` есть по 2174 пропущенных значений. Найдем количество записей, в которых есть пропуски в двух этих столбцах одновременно."
   ]
  },
  {
   "cell_type": "code",
   "execution_count": 81,
   "id": "740ede5b",
   "metadata": {},
   "outputs": [
    {
     "data": {
      "text/plain": [
       "2174"
      ]
     },
     "execution_count": 81,
     "metadata": {},
     "output_type": "execute_result"
    }
   ],
   "source": [
    "# количество записей с пропусками одновременно в столбцах 'days_employed' и 'total_income'\n",
    "data_orig.loc[(data_orig['days_employed'].isna()) & (data_orig['total_income'].isna())].shape[0]"
   ]
  },
  {
   "cell_type": "markdown",
   "id": "ada5245f",
   "metadata": {},
   "source": [
    "Значит, во всех записях с пропущенными значениями были пропущены оба столбца разом — `days_employed` и `total_income`. Такие пропуски можно отнести к неслучайным."
   ]
  },
  {
   "cell_type": "markdown",
   "id": "8976b899",
   "metadata": {
    "deletable": false,
    "id": "9da2ceda"
   },
   "source": [
    "*Ответ:* \n",
    "\n",
    "В данных есть пропущенные значения в столбцах с общим трудовым стажем и ежемесячным доходом. Эти пропуски связаны между собой. В качестве возможных причин стоит рассмотреть:\n",
    "- Некоторые клиенты бради кредиты без справки о доходах, следавательно, у банка просто нет информации об этих значениях.\n",
    "- Технологические причины: некорректный перенос из одной базы в другую, сбой в базе данных или при выгрузке и прочее."
   ]
  },
  {
   "cell_type": "markdown",
   "id": "7d746cc9",
   "metadata": {
    "deletable": false,
    "editable": false,
    "id": "7b0487d6"
   },
   "source": [
    "**Задание 24. Объясните, почему заполнить пропуски медианным значением — лучшее решение для количественных переменных.**"
   ]
  },
  {
   "cell_type": "markdown",
   "id": "9b6e25b6",
   "metadata": {
    "deletable": false,
    "id": "7ecf2b8e"
   },
   "source": [
    "*Ответ:* \n",
    "\n",
    "Пропуски в количественных данных заполняют характерными значениями (значениями, типичными для выборки). Для этого можно использовать средние или медианные значения. Однако **медианные значения менее зависимы от аномальных данных**, присутствующих в выборке. \n",
    "\n",
    "Таким образом, заполнение пропусков медианными значениями делает результаты исследования более устойчивыми к выбросам и аномалиям в данных."
   ]
  },
  {
   "cell_type": "markdown",
   "id": "75c1ac72",
   "metadata": {
    "deletable": false,
    "editable": false,
    "id": "6db5255a"
   },
   "source": [
    "## Итоги исследования\n",
    "\n",
    "Шаг 4. Напишите общий вывод"
   ]
  },
  {
   "cell_type": "markdown",
   "id": "5a1eba32",
   "metadata": {
    "deletable": false,
    "id": "bad65432"
   },
   "source": [
    "В ходе исследования проведен анализ, влияет ли количество детей клиента, а также его семейное положение, уровень дохода и цели кредита на факт погашения кредита в срок. Анализ показал, что вышеперечисленные факторы действительно влияют на вероятность возврата кредита в срок.\n",
    "\n",
    "**Анализ зависимости между количеством детей и возвратом кредита в срок** показал, что клиенты без детей являются более надежными заемщиками, чем клиенты с детьми.\n",
    "\n",
    "Также был проведен **анализ зависимости между семейным положением и возвратом кредита в срок**, который показал, что наиболее надежными заемщиками являются вдовцы / вдовы, а также клиенты в разводе. При этом хуже всех возращают кредиты клиенты, которые не женаты / не замужем, а также клиенты в гражданском браке. Таким образом более надежными заемщиками являются клиенты из более \"возрастных\" групп, менее надежными — из \"молодых\".\n",
    "\n",
    "Следом был проведен **анализ зависимости между уровнем дохода и возвратом кредита в срок**. Анализ показал, что выборки клиентов с наибольшим и наименьшим доходом (доход до 30000 и от 1000000 соответственно) слишком малы, чтобы опираться на результаты в этих группах. Среди остальных групп лучше всех возвращают кредиты в срок клиенты с доходом от 30000 до 50000, а хуже всех — с доходом от 50000 до 200000.\n",
    "\n",
    "Кроме того, был проведен **анализ зависимости цели кредита  на его возврат в срок**. Результатом является то, что лучше всех возращают кредиты, взятые на проведение операций с недвижимостью, а хуже всех — автокредиты и кредиты на образование (разница между ними не сильно выражена).\n",
    "\n",
    "Однако в **пропуски во входных данных могли повлиять на результаты исследования** (пропуски в столбцах `days_employed` и `total_income`). Поэтому перед использованием результатов при построении модели кредитного скоринга следует определить причины пропусков."
   ]
  },
  {
   "cell_type": "code",
   "execution_count": null,
   "id": "cee28cce-0485-445a-b99b-9b037b250f1b",
   "metadata": {},
   "outputs": [],
   "source": []
  }
 ],
 "metadata": {
  "ExecuteTimeLog": [
   {
    "duration": 492,
    "start_time": "2024-08-23T19:17:13.569Z"
   },
   {
    "duration": 23,
    "start_time": "2024-08-23T19:17:14.062Z"
   },
   {
    "duration": 43,
    "start_time": "2024-08-23T19:17:14.087Z"
   },
   {
    "duration": 19,
    "start_time": "2024-08-23T19:17:14.132Z"
   },
   {
    "duration": 55,
    "start_time": "2024-08-23T19:17:14.153Z"
   },
   {
    "duration": 7,
    "start_time": "2024-08-23T19:17:14.210Z"
   },
   {
    "duration": 14,
    "start_time": "2024-08-23T19:17:14.219Z"
   },
   {
    "duration": 8,
    "start_time": "2024-08-23T19:17:14.234Z"
   },
   {
    "duration": 7,
    "start_time": "2024-08-23T19:17:14.243Z"
   },
   {
    "duration": 5,
    "start_time": "2024-08-23T19:17:14.252Z"
   },
   {
    "duration": 71,
    "start_time": "2024-08-23T19:17:14.259Z"
   },
   {
    "duration": 11,
    "start_time": "2024-08-23T19:17:14.331Z"
   },
   {
    "duration": 11,
    "start_time": "2024-08-23T19:17:14.344Z"
   },
   {
    "duration": 11,
    "start_time": "2024-08-23T19:17:14.358Z"
   },
   {
    "duration": 56,
    "start_time": "2024-08-23T19:17:14.371Z"
   },
   {
    "duration": 28,
    "start_time": "2024-08-23T19:17:14.430Z"
   },
   {
    "duration": 3,
    "start_time": "2024-08-23T19:17:14.460Z"
   },
   {
    "duration": 20,
    "start_time": "2024-08-23T19:17:14.465Z"
   },
   {
    "duration": 18,
    "start_time": "2024-08-23T19:17:14.486Z"
   },
   {
    "duration": 5,
    "start_time": "2024-08-23T19:17:14.507Z"
   },
   {
    "duration": 18,
    "start_time": "2024-08-23T19:17:14.516Z"
   },
   {
    "duration": 15,
    "start_time": "2024-08-23T19:17:14.536Z"
   },
   {
    "duration": 3,
    "start_time": "2024-08-23T19:17:14.553Z"
   },
   {
    "duration": 4,
    "start_time": "2024-08-23T19:17:14.557Z"
   },
   {
    "duration": 5,
    "start_time": "2024-08-23T19:17:14.562Z"
   },
   {
    "duration": 5,
    "start_time": "2024-08-23T19:53:09.638Z"
   },
   {
    "duration": 7,
    "start_time": "2024-08-23T19:53:22.175Z"
   },
   {
    "duration": 7,
    "start_time": "2024-08-23T19:53:50.650Z"
   },
   {
    "duration": 4,
    "start_time": "2024-08-23T19:54:45.991Z"
   },
   {
    "duration": 6,
    "start_time": "2024-08-23T19:54:59.687Z"
   },
   {
    "duration": 5,
    "start_time": "2024-08-23T19:55:11.317Z"
   },
   {
    "duration": 4,
    "start_time": "2024-08-23T19:57:52.320Z"
   },
   {
    "duration": 32,
    "start_time": "2024-08-23T19:58:01.352Z"
   },
   {
    "duration": 3,
    "start_time": "2024-08-23T19:58:17.218Z"
   },
   {
    "duration": 5,
    "start_time": "2024-08-23T19:58:41.966Z"
   },
   {
    "duration": 8,
    "start_time": "2024-08-23T19:58:47.234Z"
   },
   {
    "duration": 6,
    "start_time": "2024-08-23T19:58:53.937Z"
   },
   {
    "duration": 50,
    "start_time": "2024-08-23T20:06:31.776Z"
   },
   {
    "duration": 12,
    "start_time": "2024-08-23T20:07:05.498Z"
   },
   {
    "duration": 11,
    "start_time": "2024-08-23T20:10:40.240Z"
   },
   {
    "duration": 12,
    "start_time": "2024-08-23T20:11:16.793Z"
   },
   {
    "duration": 11,
    "start_time": "2024-08-23T20:11:28.513Z"
   },
   {
    "duration": 11,
    "start_time": "2024-08-23T20:22:35.834Z"
   },
   {
    "duration": 12,
    "start_time": "2024-08-23T20:23:53.629Z"
   },
   {
    "duration": 72,
    "start_time": "2024-08-23T20:25:13.867Z"
   },
   {
    "duration": 16,
    "start_time": "2024-08-23T20:25:45.005Z"
   },
   {
    "duration": 15,
    "start_time": "2024-08-23T20:26:05.924Z"
   },
   {
    "duration": 12,
    "start_time": "2024-08-23T20:27:35.567Z"
   },
   {
    "duration": 15,
    "start_time": "2024-08-23T20:27:49.178Z"
   },
   {
    "duration": 10,
    "start_time": "2024-08-23T20:28:13.111Z"
   },
   {
    "duration": 13,
    "start_time": "2024-08-23T20:28:46.771Z"
   },
   {
    "duration": 14,
    "start_time": "2024-08-23T20:29:04.065Z"
   },
   {
    "duration": 17,
    "start_time": "2024-08-23T20:31:54.730Z"
   },
   {
    "duration": 20,
    "start_time": "2024-08-23T20:32:15.336Z"
   },
   {
    "duration": 20,
    "start_time": "2024-08-23T20:32:36.511Z"
   },
   {
    "duration": 15,
    "start_time": "2024-08-23T20:33:12.341Z"
   },
   {
    "duration": 16,
    "start_time": "2024-08-23T20:34:12.239Z"
   },
   {
    "duration": 15,
    "start_time": "2024-08-23T20:38:36.632Z"
   },
   {
    "duration": 15,
    "start_time": "2024-08-23T20:40:02.227Z"
   },
   {
    "duration": 505,
    "start_time": "2024-08-23T20:40:29.403Z"
   },
   {
    "duration": 23,
    "start_time": "2024-08-23T20:40:29.910Z"
   },
   {
    "duration": 51,
    "start_time": "2024-08-23T20:40:29.935Z"
   },
   {
    "duration": 26,
    "start_time": "2024-08-23T20:40:29.987Z"
   },
   {
    "duration": 68,
    "start_time": "2024-08-23T20:40:30.015Z"
   },
   {
    "duration": 39,
    "start_time": "2024-08-23T20:40:30.085Z"
   },
   {
    "duration": 23,
    "start_time": "2024-08-23T20:40:30.125Z"
   },
   {
    "duration": 42,
    "start_time": "2024-08-23T20:40:30.149Z"
   },
   {
    "duration": 42,
    "start_time": "2024-08-23T20:40:30.192Z"
   },
   {
    "duration": 54,
    "start_time": "2024-08-23T20:40:30.236Z"
   },
   {
    "duration": 94,
    "start_time": "2024-08-23T20:40:30.292Z"
   },
   {
    "duration": 24,
    "start_time": "2024-08-23T20:40:30.388Z"
   },
   {
    "duration": 12,
    "start_time": "2024-08-23T20:40:30.413Z"
   },
   {
    "duration": 21,
    "start_time": "2024-08-23T20:40:30.428Z"
   },
   {
    "duration": 21,
    "start_time": "2024-08-23T20:40:30.451Z"
   },
   {
    "duration": 25,
    "start_time": "2024-08-23T20:40:30.473Z"
   },
   {
    "duration": 4,
    "start_time": "2024-08-23T20:40:30.500Z"
   },
   {
    "duration": 12,
    "start_time": "2024-08-23T20:40:30.506Z"
   },
   {
    "duration": 6,
    "start_time": "2024-08-23T20:40:30.519Z"
   },
   {
    "duration": 47,
    "start_time": "2024-08-23T20:40:30.527Z"
   },
   {
    "duration": 38,
    "start_time": "2024-08-23T20:40:30.575Z"
   },
   {
    "duration": 19,
    "start_time": "2024-08-23T20:40:30.615Z"
   },
   {
    "duration": 16,
    "start_time": "2024-08-23T20:40:30.635Z"
   },
   {
    "duration": 17,
    "start_time": "2024-08-23T20:40:30.653Z"
   },
   {
    "duration": 35,
    "start_time": "2024-08-23T20:40:30.672Z"
   },
   {
    "duration": 15,
    "start_time": "2024-08-23T20:43:13.926Z"
   },
   {
    "duration": 15,
    "start_time": "2024-08-23T20:44:47.957Z"
   },
   {
    "duration": 17,
    "start_time": "2024-08-23T20:47:15.466Z"
   },
   {
    "duration": 15,
    "start_time": "2024-08-23T20:47:26.141Z"
   },
   {
    "duration": 15,
    "start_time": "2024-08-23T20:47:37.347Z"
   },
   {
    "duration": 4,
    "start_time": "2024-08-24T09:13:50.074Z"
   },
   {
    "duration": 2,
    "start_time": "2024-08-24T09:24:02.349Z"
   },
   {
    "duration": 2,
    "start_time": "2024-08-24T09:24:04.915Z"
   },
   {
    "duration": 2,
    "start_time": "2024-08-24T09:25:17.442Z"
   },
   {
    "duration": 592,
    "start_time": "2024-08-24T10:12:48.559Z"
   },
   {
    "duration": 24,
    "start_time": "2024-08-24T10:12:49.166Z"
   },
   {
    "duration": 22,
    "start_time": "2024-08-24T10:12:49.192Z"
   },
   {
    "duration": 11,
    "start_time": "2024-08-24T10:12:49.216Z"
   },
   {
    "duration": 63,
    "start_time": "2024-08-24T10:12:49.229Z"
   },
   {
    "duration": 3,
    "start_time": "2024-08-24T10:12:49.293Z"
   },
   {
    "duration": 9,
    "start_time": "2024-08-24T10:12:49.298Z"
   },
   {
    "duration": 10,
    "start_time": "2024-08-24T10:12:49.308Z"
   },
   {
    "duration": 13,
    "start_time": "2024-08-24T10:12:49.320Z"
   },
   {
    "duration": 30,
    "start_time": "2024-08-24T10:12:49.335Z"
   },
   {
    "duration": 42,
    "start_time": "2024-08-24T10:12:49.367Z"
   },
   {
    "duration": 11,
    "start_time": "2024-08-24T10:12:49.410Z"
   },
   {
    "duration": 26,
    "start_time": "2024-08-24T10:12:49.422Z"
   },
   {
    "duration": 25,
    "start_time": "2024-08-24T10:12:49.450Z"
   },
   {
    "duration": 37,
    "start_time": "2024-08-24T10:12:49.477Z"
   },
   {
    "duration": 19,
    "start_time": "2024-08-24T10:12:49.515Z"
   },
   {
    "duration": 3,
    "start_time": "2024-08-24T10:12:49.536Z"
   },
   {
    "duration": 22,
    "start_time": "2024-08-24T10:12:49.541Z"
   },
   {
    "duration": 16,
    "start_time": "2024-08-24T10:12:49.564Z"
   },
   {
    "duration": 4,
    "start_time": "2024-08-24T10:12:49.581Z"
   },
   {
    "duration": 20,
    "start_time": "2024-08-24T10:12:49.587Z"
   },
   {
    "duration": 23,
    "start_time": "2024-08-24T10:12:49.609Z"
   },
   {
    "duration": 17,
    "start_time": "2024-08-24T10:12:49.633Z"
   },
   {
    "duration": 60,
    "start_time": "2024-08-24T10:12:49.651Z"
   },
   {
    "duration": 18,
    "start_time": "2024-08-24T10:12:49.713Z"
   },
   {
    "duration": 67,
    "start_time": "2024-08-24T10:16:03.483Z"
   },
   {
    "duration": 88,
    "start_time": "2024-08-24T10:22:53.835Z"
   },
   {
    "duration": 140,
    "start_time": "2024-08-24T10:24:22.202Z"
   },
   {
    "duration": 87,
    "start_time": "2024-08-24T10:24:47.172Z"
   },
   {
    "duration": 92,
    "start_time": "2024-08-24T10:25:03.886Z"
   },
   {
    "duration": 101,
    "start_time": "2024-08-24T10:26:22.881Z"
   },
   {
    "duration": 84,
    "start_time": "2024-08-24T10:26:59.225Z"
   },
   {
    "duration": 85,
    "start_time": "2024-08-24T10:28:38.127Z"
   },
   {
    "duration": 83,
    "start_time": "2024-08-24T10:28:56.476Z"
   },
   {
    "duration": 95,
    "start_time": "2024-08-24T10:29:25.878Z"
   },
   {
    "duration": 94,
    "start_time": "2024-08-24T10:29:51.297Z"
   },
   {
    "duration": 69,
    "start_time": "2024-08-24T10:30:06.743Z"
   },
   {
    "duration": 67,
    "start_time": "2024-08-24T10:30:13.580Z"
   },
   {
    "duration": 81,
    "start_time": "2024-08-24T10:31:04.768Z"
   },
   {
    "duration": 79,
    "start_time": "2024-08-24T10:31:16.782Z"
   },
   {
    "duration": 80,
    "start_time": "2024-08-24T10:32:18.090Z"
   },
   {
    "duration": 82,
    "start_time": "2024-08-24T10:35:31.892Z"
   },
   {
    "duration": 89,
    "start_time": "2024-08-24T10:35:42.257Z"
   },
   {
    "duration": 82,
    "start_time": "2024-08-24T10:36:31.744Z"
   },
   {
    "duration": 79,
    "start_time": "2024-08-24T10:36:55.127Z"
   },
   {
    "duration": 87,
    "start_time": "2024-08-24T10:37:13.663Z"
   },
   {
    "duration": 82,
    "start_time": "2024-08-24T10:37:25.924Z"
   },
   {
    "duration": 90,
    "start_time": "2024-08-24T10:38:41.746Z"
   },
   {
    "duration": 80,
    "start_time": "2024-08-24T10:38:51.083Z"
   },
   {
    "duration": 84,
    "start_time": "2024-08-24T10:39:00.893Z"
   },
   {
    "duration": 79,
    "start_time": "2024-08-24T10:39:34.473Z"
   },
   {
    "duration": 79,
    "start_time": "2024-08-24T10:40:37.910Z"
   },
   {
    "duration": 78,
    "start_time": "2024-08-24T10:41:37.514Z"
   },
   {
    "duration": 81,
    "start_time": "2024-08-24T10:42:12.266Z"
   },
   {
    "duration": 81,
    "start_time": "2024-08-24T10:46:19.318Z"
   },
   {
    "duration": 84,
    "start_time": "2024-08-24T10:46:53.733Z"
   },
   {
    "duration": 82,
    "start_time": "2024-08-24T10:47:07.190Z"
   },
   {
    "duration": 90,
    "start_time": "2024-08-24T10:47:46.648Z"
   },
   {
    "duration": 1053,
    "start_time": "2024-08-24T10:54:18.177Z"
   },
   {
    "duration": 1073,
    "start_time": "2024-08-24T10:54:32.439Z"
   },
   {
    "duration": 1045,
    "start_time": "2024-08-24T10:56:10.937Z"
   },
   {
    "duration": 82,
    "start_time": "2024-08-24T10:56:25.033Z"
   },
   {
    "duration": 84,
    "start_time": "2024-08-24T10:59:51.281Z"
   },
   {
    "duration": 9,
    "start_time": "2024-08-24T11:00:19.246Z"
   },
   {
    "duration": 121,
    "start_time": "2024-08-24T12:24:54.573Z"
   },
   {
    "duration": 10,
    "start_time": "2024-08-24T12:25:18.657Z"
   },
   {
    "duration": 8,
    "start_time": "2024-08-24T12:25:40.128Z"
   },
   {
    "duration": 8,
    "start_time": "2024-08-24T12:25:54.963Z"
   },
   {
    "duration": 8,
    "start_time": "2024-08-24T12:26:06.790Z"
   },
   {
    "duration": 13,
    "start_time": "2024-08-24T12:29:46.115Z"
   },
   {
    "duration": 9,
    "start_time": "2024-08-24T12:29:52.817Z"
   },
   {
    "duration": 16,
    "start_time": "2024-08-24T12:29:58.058Z"
   },
   {
    "duration": 10,
    "start_time": "2024-08-24T12:30:19.744Z"
   },
   {
    "duration": 7,
    "start_time": "2024-08-24T12:30:58.517Z"
   },
   {
    "duration": 12,
    "start_time": "2024-08-24T12:31:04.931Z"
   },
   {
    "duration": 11,
    "start_time": "2024-08-24T12:31:20.469Z"
   },
   {
    "duration": 10,
    "start_time": "2024-08-24T12:32:59.312Z"
   },
   {
    "duration": 12,
    "start_time": "2024-08-24T12:33:06.194Z"
   },
   {
    "duration": 4,
    "start_time": "2024-08-24T12:33:37.249Z"
   },
   {
    "duration": 6,
    "start_time": "2024-08-24T12:33:50.613Z"
   },
   {
    "duration": 6,
    "start_time": "2024-08-24T12:34:33.220Z"
   },
   {
    "duration": 6,
    "start_time": "2024-08-24T12:34:39.135Z"
   },
   {
    "duration": 7,
    "start_time": "2024-08-24T12:34:52.699Z"
   },
   {
    "duration": 8,
    "start_time": "2024-08-24T12:35:23.060Z"
   },
   {
    "duration": 7,
    "start_time": "2024-08-24T12:35:33.053Z"
   },
   {
    "duration": 20,
    "start_time": "2024-08-24T12:35:53.603Z"
   },
   {
    "duration": 23,
    "start_time": "2024-08-24T12:36:18.466Z"
   },
   {
    "duration": 15,
    "start_time": "2024-08-24T12:36:29.174Z"
   },
   {
    "duration": 7,
    "start_time": "2024-08-24T12:36:42.846Z"
   },
   {
    "duration": 7,
    "start_time": "2024-08-24T12:37:01.275Z"
   },
   {
    "duration": 255,
    "start_time": "2024-08-24T12:37:40.079Z"
   },
   {
    "duration": 9,
    "start_time": "2024-08-24T12:37:56.412Z"
   },
   {
    "duration": 15,
    "start_time": "2024-08-24T12:38:03.596Z"
   },
   {
    "duration": 11,
    "start_time": "2024-08-24T12:38:10.377Z"
   },
   {
    "duration": 7,
    "start_time": "2024-08-24T12:38:17.137Z"
   },
   {
    "duration": 4,
    "start_time": "2024-08-24T12:40:59.720Z"
   },
   {
    "duration": 9,
    "start_time": "2024-08-24T12:53:11.184Z"
   },
   {
    "duration": 9,
    "start_time": "2024-08-24T12:53:19.258Z"
   },
   {
    "duration": 7,
    "start_time": "2024-08-24T12:53:27.976Z"
   },
   {
    "duration": 26,
    "start_time": "2024-08-24T12:55:47.742Z"
   },
   {
    "duration": 27,
    "start_time": "2024-08-24T12:56:06.639Z"
   },
   {
    "duration": 8,
    "start_time": "2024-08-24T13:01:55.939Z"
   },
   {
    "duration": 8,
    "start_time": "2024-08-24T13:03:29.817Z"
   },
   {
    "duration": 8,
    "start_time": "2024-08-24T13:15:34.715Z"
   },
   {
    "duration": 9,
    "start_time": "2024-08-24T13:15:55.760Z"
   },
   {
    "duration": 12,
    "start_time": "2024-08-24T13:16:25.157Z"
   },
   {
    "duration": 6,
    "start_time": "2024-08-24T13:17:33.787Z"
   },
   {
    "duration": 23,
    "start_time": "2024-08-24T13:37:31.553Z"
   },
   {
    "duration": 25,
    "start_time": "2024-08-24T13:37:48.516Z"
   },
   {
    "duration": 16,
    "start_time": "2024-08-24T13:37:55.401Z"
   },
   {
    "duration": 15,
    "start_time": "2024-08-24T13:38:02.089Z"
   },
   {
    "duration": 523,
    "start_time": "2024-08-24T13:41:32.409Z"
   },
   {
    "duration": 21,
    "start_time": "2024-08-24T13:41:32.934Z"
   },
   {
    "duration": 24,
    "start_time": "2024-08-24T13:41:32.956Z"
   },
   {
    "duration": 11,
    "start_time": "2024-08-24T13:41:32.981Z"
   },
   {
    "duration": 56,
    "start_time": "2024-08-24T13:41:32.994Z"
   },
   {
    "duration": 3,
    "start_time": "2024-08-24T13:41:33.052Z"
   },
   {
    "duration": 15,
    "start_time": "2024-08-24T13:41:33.056Z"
   },
   {
    "duration": 4,
    "start_time": "2024-08-24T13:41:33.072Z"
   },
   {
    "duration": 9,
    "start_time": "2024-08-24T13:41:33.077Z"
   },
   {
    "duration": 4,
    "start_time": "2024-08-24T13:41:33.088Z"
   },
   {
    "duration": 48,
    "start_time": "2024-08-24T13:41:33.093Z"
   },
   {
    "duration": 11,
    "start_time": "2024-08-24T13:41:33.142Z"
   },
   {
    "duration": 16,
    "start_time": "2024-08-24T13:41:33.154Z"
   },
   {
    "duration": 29,
    "start_time": "2024-08-24T13:41:33.172Z"
   },
   {
    "duration": 29,
    "start_time": "2024-08-24T13:41:33.203Z"
   },
   {
    "duration": 29,
    "start_time": "2024-08-24T13:41:33.233Z"
   },
   {
    "duration": 3,
    "start_time": "2024-08-24T13:41:33.264Z"
   },
   {
    "duration": 31,
    "start_time": "2024-08-24T13:41:33.269Z"
   },
   {
    "duration": 82,
    "start_time": "2024-08-24T13:41:33.302Z"
   },
   {
    "duration": 11,
    "start_time": "2024-08-24T13:41:33.386Z"
   },
   {
    "duration": 11,
    "start_time": "2024-08-24T13:41:33.399Z"
   },
   {
    "duration": 23,
    "start_time": "2024-08-24T13:41:33.411Z"
   },
   {
    "duration": 28,
    "start_time": "2024-08-24T13:41:33.436Z"
   },
   {
    "duration": 26,
    "start_time": "2024-08-24T13:41:33.465Z"
   },
   {
    "duration": 18,
    "start_time": "2024-08-24T13:41:33.492Z"
   },
   {
    "duration": 58,
    "start_time": "2024-08-24T13:41:33.512Z"
   },
   {
    "duration": 5,
    "start_time": "2024-08-24T13:41:33.572Z"
   },
   {
    "duration": 504,
    "start_time": "2024-08-24T16:45:15.965Z"
   },
   {
    "duration": 22,
    "start_time": "2024-08-24T16:45:16.471Z"
   },
   {
    "duration": 19,
    "start_time": "2024-08-24T16:45:16.495Z"
   },
   {
    "duration": 11,
    "start_time": "2024-08-24T16:45:16.516Z"
   },
   {
    "duration": 78,
    "start_time": "2024-08-24T16:45:16.528Z"
   },
   {
    "duration": 4,
    "start_time": "2024-08-24T16:45:16.609Z"
   },
   {
    "duration": 16,
    "start_time": "2024-08-24T16:45:16.615Z"
   },
   {
    "duration": 4,
    "start_time": "2024-08-24T16:45:16.633Z"
   },
   {
    "duration": 6,
    "start_time": "2024-08-24T16:45:16.639Z"
   },
   {
    "duration": 5,
    "start_time": "2024-08-24T16:45:16.648Z"
   },
   {
    "duration": 72,
    "start_time": "2024-08-24T16:45:16.654Z"
   },
   {
    "duration": 11,
    "start_time": "2024-08-24T16:45:16.728Z"
   },
   {
    "duration": 18,
    "start_time": "2024-08-24T16:45:16.740Z"
   },
   {
    "duration": 13,
    "start_time": "2024-08-24T16:45:16.760Z"
   },
   {
    "duration": 45,
    "start_time": "2024-08-24T16:45:16.775Z"
   },
   {
    "duration": 20,
    "start_time": "2024-08-24T16:45:16.822Z"
   },
   {
    "duration": 4,
    "start_time": "2024-08-24T16:45:16.843Z"
   },
   {
    "duration": 11,
    "start_time": "2024-08-24T16:45:16.849Z"
   },
   {
    "duration": 5,
    "start_time": "2024-08-24T16:45:16.862Z"
   },
   {
    "duration": 29,
    "start_time": "2024-08-24T16:45:16.869Z"
   },
   {
    "duration": 20,
    "start_time": "2024-08-24T16:45:16.899Z"
   },
   {
    "duration": 22,
    "start_time": "2024-08-24T16:45:16.920Z"
   },
   {
    "duration": 18,
    "start_time": "2024-08-24T16:45:16.944Z"
   },
   {
    "duration": 41,
    "start_time": "2024-08-24T16:45:16.964Z"
   },
   {
    "duration": 24,
    "start_time": "2024-08-24T16:45:17.007Z"
   },
   {
    "duration": 93,
    "start_time": "2024-08-24T16:45:17.033Z"
   },
   {
    "duration": 8,
    "start_time": "2024-08-24T16:45:17.127Z"
   },
   {
    "duration": 59,
    "start_time": "2024-08-24T17:09:36.940Z"
   },
   {
    "duration": 548,
    "start_time": "2024-08-24T17:10:03.569Z"
   },
   {
    "duration": 24,
    "start_time": "2024-08-24T17:10:04.119Z"
   },
   {
    "duration": 16,
    "start_time": "2024-08-24T17:10:04.146Z"
   },
   {
    "duration": 49,
    "start_time": "2024-08-24T17:10:04.165Z"
   },
   {
    "duration": 41,
    "start_time": "2024-08-24T17:10:04.216Z"
   },
   {
    "duration": 4,
    "start_time": "2024-08-24T17:10:04.259Z"
   },
   {
    "duration": 15,
    "start_time": "2024-08-24T17:10:04.265Z"
   },
   {
    "duration": 5,
    "start_time": "2024-08-24T17:10:04.283Z"
   },
   {
    "duration": 11,
    "start_time": "2024-08-24T17:10:04.290Z"
   },
   {
    "duration": 6,
    "start_time": "2024-08-24T17:10:04.304Z"
   },
   {
    "duration": 67,
    "start_time": "2024-08-24T17:10:04.312Z"
   },
   {
    "duration": 10,
    "start_time": "2024-08-24T17:10:04.381Z"
   },
   {
    "duration": 13,
    "start_time": "2024-08-24T17:10:04.393Z"
   },
   {
    "duration": 35,
    "start_time": "2024-08-24T17:10:04.408Z"
   },
   {
    "duration": 28,
    "start_time": "2024-08-24T17:10:04.445Z"
   },
   {
    "duration": 17,
    "start_time": "2024-08-24T17:10:04.475Z"
   },
   {
    "duration": 3,
    "start_time": "2024-08-24T17:10:04.494Z"
   },
   {
    "duration": 39,
    "start_time": "2024-08-24T17:10:04.499Z"
   },
   {
    "duration": 120,
    "start_time": "2024-08-24T17:10:04.540Z"
   },
   {
    "duration": 10,
    "start_time": "2024-08-24T17:10:04.662Z"
   },
   {
    "duration": 13,
    "start_time": "2024-08-24T17:10:04.673Z"
   },
   {
    "duration": 16,
    "start_time": "2024-08-24T17:10:04.688Z"
   },
   {
    "duration": 18,
    "start_time": "2024-08-24T17:10:04.706Z"
   },
   {
    "duration": 30,
    "start_time": "2024-08-24T17:10:04.726Z"
   },
   {
    "duration": 27,
    "start_time": "2024-08-24T17:10:04.758Z"
   },
   {
    "duration": 15,
    "start_time": "2024-08-24T17:10:04.786Z"
   },
   {
    "duration": 78,
    "start_time": "2024-08-24T17:10:04.802Z"
   },
   {
    "duration": 6,
    "start_time": "2024-08-24T17:10:04.882Z"
   },
   {
    "duration": 15,
    "start_time": "2024-08-24T17:10:51.349Z"
   },
   {
    "duration": 982,
    "start_time": "2024-08-24T17:11:51.997Z"
   },
   {
    "duration": 1137,
    "start_time": "2024-08-24T17:11:55.474Z"
   },
   {
    "duration": 9,
    "start_time": "2024-08-24T17:12:25.076Z"
   },
   {
    "duration": 14,
    "start_time": "2024-08-24T17:12:30.244Z"
   },
   {
    "duration": 12,
    "start_time": "2024-08-24T17:13:16.967Z"
   },
   {
    "duration": 18,
    "start_time": "2024-08-24T17:13:25.049Z"
   },
   {
    "duration": 18,
    "start_time": "2024-08-24T17:13:53.831Z"
   },
   {
    "duration": 18,
    "start_time": "2024-08-24T17:17:28.901Z"
   },
   {
    "duration": 17,
    "start_time": "2024-08-24T17:19:01.946Z"
   },
   {
    "duration": 17,
    "start_time": "2024-08-24T17:20:47.087Z"
   },
   {
    "duration": 17,
    "start_time": "2024-08-24T17:20:54.137Z"
   },
   {
    "duration": 523,
    "start_time": "2024-08-24T17:21:07.220Z"
   },
   {
    "duration": 22,
    "start_time": "2024-08-24T17:21:07.745Z"
   },
   {
    "duration": 19,
    "start_time": "2024-08-24T17:21:07.769Z"
   },
   {
    "duration": 10,
    "start_time": "2024-08-24T17:21:07.790Z"
   },
   {
    "duration": 55,
    "start_time": "2024-08-24T17:21:07.802Z"
   },
   {
    "duration": 3,
    "start_time": "2024-08-24T17:21:07.859Z"
   },
   {
    "duration": 11,
    "start_time": "2024-08-24T17:21:07.864Z"
   },
   {
    "duration": 4,
    "start_time": "2024-08-24T17:21:07.877Z"
   },
   {
    "duration": 13,
    "start_time": "2024-08-24T17:21:07.882Z"
   },
   {
    "duration": 19,
    "start_time": "2024-08-24T17:21:07.898Z"
   },
   {
    "duration": 43,
    "start_time": "2024-08-24T17:21:07.919Z"
   },
   {
    "duration": 12,
    "start_time": "2024-08-24T17:21:07.964Z"
   },
   {
    "duration": 31,
    "start_time": "2024-08-24T17:21:07.977Z"
   },
   {
    "duration": 15,
    "start_time": "2024-08-24T17:21:08.010Z"
   },
   {
    "duration": 34,
    "start_time": "2024-08-24T17:21:08.027Z"
   },
   {
    "duration": 18,
    "start_time": "2024-08-24T17:21:08.063Z"
   },
   {
    "duration": 4,
    "start_time": "2024-08-24T17:21:08.082Z"
   },
   {
    "duration": 35,
    "start_time": "2024-08-24T17:21:08.087Z"
   },
   {
    "duration": 34,
    "start_time": "2024-08-24T17:21:08.123Z"
   },
   {
    "duration": 12,
    "start_time": "2024-08-24T17:21:08.159Z"
   },
   {
    "duration": 40,
    "start_time": "2024-08-24T17:21:08.173Z"
   },
   {
    "duration": 16,
    "start_time": "2024-08-24T17:21:08.215Z"
   },
   {
    "duration": 42,
    "start_time": "2024-08-24T17:21:08.233Z"
   },
   {
    "duration": 18,
    "start_time": "2024-08-24T17:21:08.277Z"
   },
   {
    "duration": 15,
    "start_time": "2024-08-24T17:21:08.297Z"
   },
   {
    "duration": 33,
    "start_time": "2024-08-24T17:21:08.314Z"
   },
   {
    "duration": 65,
    "start_time": "2024-08-24T17:21:08.349Z"
   },
   {
    "duration": 6,
    "start_time": "2024-08-24T17:21:08.417Z"
   },
   {
    "duration": 16,
    "start_time": "2024-08-24T17:21:27.786Z"
   },
   {
    "duration": 15,
    "start_time": "2024-08-24T17:22:18.182Z"
   },
   {
    "duration": 18,
    "start_time": "2024-08-24T17:22:58.706Z"
   },
   {
    "duration": 47,
    "start_time": "2024-08-24T20:07:27.897Z"
   },
   {
    "duration": 544,
    "start_time": "2024-08-24T20:07:44.145Z"
   },
   {
    "duration": 22,
    "start_time": "2024-08-24T20:07:44.691Z"
   },
   {
    "duration": 16,
    "start_time": "2024-08-24T20:07:44.715Z"
   },
   {
    "duration": 11,
    "start_time": "2024-08-24T20:07:44.733Z"
   },
   {
    "duration": 37,
    "start_time": "2024-08-24T20:07:44.745Z"
   },
   {
    "duration": 4,
    "start_time": "2024-08-24T20:07:44.783Z"
   },
   {
    "duration": 12,
    "start_time": "2024-08-24T20:07:44.788Z"
   },
   {
    "duration": 25,
    "start_time": "2024-08-24T20:07:44.801Z"
   },
   {
    "duration": 8,
    "start_time": "2024-08-24T20:07:44.828Z"
   },
   {
    "duration": 14,
    "start_time": "2024-08-24T20:07:44.839Z"
   },
   {
    "duration": 33,
    "start_time": "2024-08-24T20:07:44.855Z"
   },
   {
    "duration": 13,
    "start_time": "2024-08-24T20:07:44.890Z"
   },
   {
    "duration": 5,
    "start_time": "2024-08-24T20:07:44.905Z"
   },
   {
    "duration": 19,
    "start_time": "2024-08-24T20:07:44.911Z"
   },
   {
    "duration": 40,
    "start_time": "2024-08-24T20:07:44.932Z"
   },
   {
    "duration": 17,
    "start_time": "2024-08-24T20:07:44.973Z"
   },
   {
    "duration": 4,
    "start_time": "2024-08-24T20:07:44.992Z"
   },
   {
    "duration": 11,
    "start_time": "2024-08-24T20:07:44.998Z"
   },
   {
    "duration": 24,
    "start_time": "2024-08-24T20:07:45.010Z"
   },
   {
    "duration": 28,
    "start_time": "2024-08-24T20:07:45.036Z"
   },
   {
    "duration": 12,
    "start_time": "2024-08-24T20:07:45.066Z"
   },
   {
    "duration": 25,
    "start_time": "2024-08-24T20:07:45.079Z"
   },
   {
    "duration": 15,
    "start_time": "2024-08-24T20:07:45.106Z"
   },
   {
    "duration": 37,
    "start_time": "2024-08-24T20:07:45.123Z"
   },
   {
    "duration": 25,
    "start_time": "2024-08-24T20:07:45.162Z"
   },
   {
    "duration": 46,
    "start_time": "2024-08-24T20:07:45.189Z"
   },
   {
    "duration": 64,
    "start_time": "2024-08-24T20:07:45.237Z"
   },
   {
    "duration": 6,
    "start_time": "2024-08-24T20:07:45.304Z"
   },
   {
    "duration": 18,
    "start_time": "2024-08-24T20:08:33.338Z"
   },
   {
    "duration": 15,
    "start_time": "2024-08-24T20:10:35.526Z"
   },
   {
    "duration": 17,
    "start_time": "2024-08-24T20:10:49.094Z"
   },
   {
    "duration": 182,
    "start_time": "2024-08-24T20:16:34.296Z"
   },
   {
    "duration": 62,
    "start_time": "2024-08-24T20:16:51.537Z"
   },
   {
    "duration": 19,
    "start_time": "2024-08-24T20:30:11.257Z"
   },
   {
    "duration": 17,
    "start_time": "2024-08-24T20:36:35.969Z"
   },
   {
    "duration": 16,
    "start_time": "2024-08-24T20:37:02.973Z"
   },
   {
    "duration": 19,
    "start_time": "2024-08-24T20:37:16.303Z"
   },
   {
    "duration": 71,
    "start_time": "2024-08-24T20:41:04.520Z"
   },
   {
    "duration": 16,
    "start_time": "2024-08-24T20:42:47.226Z"
   },
   {
    "duration": 13,
    "start_time": "2024-08-24T20:45:25.551Z"
   },
   {
    "duration": 14,
    "start_time": "2024-08-24T20:46:09.193Z"
   },
   {
    "duration": 22,
    "start_time": "2024-08-24T20:46:25.507Z"
   },
   {
    "duration": 21,
    "start_time": "2024-08-24T20:46:38.356Z"
   },
   {
    "duration": 13,
    "start_time": "2024-08-24T20:47:24.480Z"
   },
   {
    "duration": 16,
    "start_time": "2024-08-24T20:48:51.716Z"
   },
   {
    "duration": 17,
    "start_time": "2024-08-24T20:49:51.863Z"
   },
   {
    "duration": 21,
    "start_time": "2024-08-24T20:56:16.612Z"
   },
   {
    "duration": 19,
    "start_time": "2024-08-24T21:05:04.728Z"
   },
   {
    "duration": 23,
    "start_time": "2024-08-24T21:05:22.138Z"
   },
   {
    "duration": 1071,
    "start_time": "2024-08-24T21:10:53.612Z"
   },
   {
    "duration": 474,
    "start_time": "2024-08-24T21:11:14.566Z"
   },
   {
    "duration": 22,
    "start_time": "2024-08-24T21:11:15.041Z"
   },
   {
    "duration": 15,
    "start_time": "2024-08-24T21:11:15.065Z"
   },
   {
    "duration": 29,
    "start_time": "2024-08-24T21:11:15.082Z"
   },
   {
    "duration": 49,
    "start_time": "2024-08-24T21:11:15.112Z"
   },
   {
    "duration": 3,
    "start_time": "2024-08-24T21:11:15.162Z"
   },
   {
    "duration": 49,
    "start_time": "2024-08-24T21:11:15.167Z"
   },
   {
    "duration": 10,
    "start_time": "2024-08-24T21:11:15.218Z"
   },
   {
    "duration": 18,
    "start_time": "2024-08-24T21:11:15.230Z"
   },
   {
    "duration": 15,
    "start_time": "2024-08-24T21:11:15.250Z"
   },
   {
    "duration": 53,
    "start_time": "2024-08-24T21:11:15.267Z"
   },
   {
    "duration": 10,
    "start_time": "2024-08-24T21:11:15.322Z"
   },
   {
    "duration": 9,
    "start_time": "2024-08-24T21:11:15.333Z"
   },
   {
    "duration": 37,
    "start_time": "2024-08-24T21:11:15.343Z"
   },
   {
    "duration": 26,
    "start_time": "2024-08-24T21:11:15.381Z"
   },
   {
    "duration": 16,
    "start_time": "2024-08-24T21:11:15.408Z"
   },
   {
    "duration": 33,
    "start_time": "2024-08-24T21:11:15.425Z"
   },
   {
    "duration": 22,
    "start_time": "2024-08-24T21:11:15.459Z"
   },
   {
    "duration": 11,
    "start_time": "2024-08-24T21:11:15.483Z"
   },
   {
    "duration": 6,
    "start_time": "2024-08-24T21:11:15.496Z"
   },
   {
    "duration": 11,
    "start_time": "2024-08-24T21:11:15.503Z"
   },
   {
    "duration": 20,
    "start_time": "2024-08-24T21:11:15.516Z"
   },
   {
    "duration": 17,
    "start_time": "2024-08-24T21:11:15.537Z"
   },
   {
    "duration": 22,
    "start_time": "2024-08-24T21:11:15.555Z"
   },
   {
    "duration": 15,
    "start_time": "2024-08-24T21:11:15.579Z"
   },
   {
    "duration": 16,
    "start_time": "2024-08-24T21:11:15.595Z"
   },
   {
    "duration": 1121,
    "start_time": "2024-08-24T21:11:15.612Z"
   },
   {
    "duration": 0,
    "start_time": "2024-08-24T21:11:16.735Z"
   },
   {
    "duration": 0,
    "start_time": "2024-08-24T21:11:16.736Z"
   },
   {
    "duration": 15,
    "start_time": "2024-08-24T21:11:48.008Z"
   },
   {
    "duration": 23,
    "start_time": "2024-08-24T21:12:29.138Z"
   },
   {
    "duration": 1028,
    "start_time": "2024-08-24T21:13:09.402Z"
   },
   {
    "duration": 1082,
    "start_time": "2024-08-24T21:13:25.499Z"
   },
   {
    "duration": 26,
    "start_time": "2024-08-24T21:13:34.672Z"
   },
   {
    "duration": 26,
    "start_time": "2024-08-24T21:14:01.275Z"
   },
   {
    "duration": 24,
    "start_time": "2024-08-24T21:14:48.120Z"
   },
   {
    "duration": 1017,
    "start_time": "2024-08-24T21:24:13.125Z"
   },
   {
    "duration": 20,
    "start_time": "2024-08-24T21:24:37.026Z"
   },
   {
    "duration": 18,
    "start_time": "2024-08-24T21:24:53.752Z"
   },
   {
    "duration": 1069,
    "start_time": "2024-08-24T21:25:12.860Z"
   },
   {
    "duration": 28,
    "start_time": "2024-08-24T21:25:30.386Z"
   },
   {
    "duration": 30,
    "start_time": "2024-08-24T21:26:35.247Z"
   },
   {
    "duration": 30,
    "start_time": "2024-08-24T21:28:55.048Z"
   },
   {
    "duration": 62,
    "start_time": "2024-08-24T21:29:21.403Z"
   },
   {
    "duration": 491,
    "start_time": "2024-08-24T21:43:13.448Z"
   },
   {
    "duration": 22,
    "start_time": "2024-08-24T21:43:13.941Z"
   },
   {
    "duration": 16,
    "start_time": "2024-08-24T21:43:13.964Z"
   },
   {
    "duration": 13,
    "start_time": "2024-08-24T21:43:13.982Z"
   },
   {
    "duration": 57,
    "start_time": "2024-08-24T21:43:13.997Z"
   },
   {
    "duration": 3,
    "start_time": "2024-08-24T21:43:14.055Z"
   },
   {
    "duration": 13,
    "start_time": "2024-08-24T21:43:14.060Z"
   },
   {
    "duration": 4,
    "start_time": "2024-08-24T21:43:14.075Z"
   },
   {
    "duration": 15,
    "start_time": "2024-08-24T21:43:14.080Z"
   },
   {
    "duration": 4,
    "start_time": "2024-08-24T21:43:14.097Z"
   },
   {
    "duration": 35,
    "start_time": "2024-08-24T21:43:14.102Z"
   },
   {
    "duration": 27,
    "start_time": "2024-08-24T21:43:14.139Z"
   },
   {
    "duration": 3,
    "start_time": "2024-08-24T21:43:14.168Z"
   },
   {
    "duration": 18,
    "start_time": "2024-08-24T21:43:14.173Z"
   },
   {
    "duration": 27,
    "start_time": "2024-08-24T21:43:14.192Z"
   },
   {
    "duration": 36,
    "start_time": "2024-08-24T21:43:14.221Z"
   },
   {
    "duration": 5,
    "start_time": "2024-08-24T21:43:14.258Z"
   },
   {
    "duration": 29,
    "start_time": "2024-08-24T21:43:14.264Z"
   },
   {
    "duration": 7,
    "start_time": "2024-08-24T21:43:14.295Z"
   },
   {
    "duration": 4,
    "start_time": "2024-08-24T21:43:14.304Z"
   },
   {
    "duration": 10,
    "start_time": "2024-08-24T21:43:14.310Z"
   },
   {
    "duration": 33,
    "start_time": "2024-08-24T21:43:14.321Z"
   },
   {
    "duration": 16,
    "start_time": "2024-08-24T21:43:14.355Z"
   },
   {
    "duration": 73,
    "start_time": "2024-08-24T21:43:14.373Z"
   },
   {
    "duration": 15,
    "start_time": "2024-08-24T21:43:14.448Z"
   },
   {
    "duration": 24,
    "start_time": "2024-08-24T21:43:14.465Z"
   },
   {
    "duration": 72,
    "start_time": "2024-08-24T21:43:14.491Z"
   },
   {
    "duration": 6,
    "start_time": "2024-08-24T21:43:14.566Z"
   },
   {
    "duration": 60,
    "start_time": "2024-08-24T21:45:02.797Z"
   },
   {
    "duration": 420,
    "start_time": "2024-08-24T22:04:35.809Z"
   },
   {
    "duration": 21,
    "start_time": "2024-08-24T22:04:36.231Z"
   },
   {
    "duration": 14,
    "start_time": "2024-08-24T22:04:36.254Z"
   },
   {
    "duration": 19,
    "start_time": "2024-08-24T22:04:36.270Z"
   },
   {
    "duration": 34,
    "start_time": "2024-08-24T22:04:36.291Z"
   },
   {
    "duration": 4,
    "start_time": "2024-08-24T22:04:36.326Z"
   },
   {
    "duration": 22,
    "start_time": "2024-08-24T22:04:36.332Z"
   },
   {
    "duration": 4,
    "start_time": "2024-08-24T22:04:36.356Z"
   },
   {
    "duration": 12,
    "start_time": "2024-08-24T22:04:36.362Z"
   },
   {
    "duration": 9,
    "start_time": "2024-08-24T22:04:36.377Z"
   },
   {
    "duration": 44,
    "start_time": "2024-08-24T22:04:36.387Z"
   },
   {
    "duration": 25,
    "start_time": "2024-08-24T22:04:36.432Z"
   },
   {
    "duration": 39,
    "start_time": "2024-08-24T22:04:36.459Z"
   },
   {
    "duration": 11,
    "start_time": "2024-08-24T22:04:36.499Z"
   },
   {
    "duration": 24,
    "start_time": "2024-08-24T22:04:36.512Z"
   },
   {
    "duration": 15,
    "start_time": "2024-08-24T22:04:36.537Z"
   },
   {
    "duration": 3,
    "start_time": "2024-08-24T22:04:36.554Z"
   },
   {
    "duration": 29,
    "start_time": "2024-08-24T22:04:36.558Z"
   },
   {
    "duration": 5,
    "start_time": "2024-08-24T22:04:36.588Z"
   },
   {
    "duration": 7,
    "start_time": "2024-08-24T22:04:36.594Z"
   },
   {
    "duration": 10,
    "start_time": "2024-08-24T22:04:36.602Z"
   },
   {
    "duration": 14,
    "start_time": "2024-08-24T22:04:36.613Z"
   },
   {
    "duration": 15,
    "start_time": "2024-08-24T22:04:36.628Z"
   },
   {
    "duration": 32,
    "start_time": "2024-08-24T22:04:36.653Z"
   },
   {
    "duration": 14,
    "start_time": "2024-08-24T22:04:36.686Z"
   },
   {
    "duration": 24,
    "start_time": "2024-08-24T22:04:36.701Z"
   },
   {
    "duration": 77,
    "start_time": "2024-08-24T22:04:36.727Z"
   },
   {
    "duration": 5,
    "start_time": "2024-08-24T22:04:36.807Z"
   },
   {
    "duration": 7,
    "start_time": "2024-08-24T22:10:57.420Z"
   },
   {
    "duration": 8,
    "start_time": "2024-08-24T22:11:05.473Z"
   },
   {
    "duration": 9,
    "start_time": "2024-08-24T22:11:34.376Z"
   },
   {
    "duration": 10,
    "start_time": "2024-08-24T22:13:38.373Z"
   },
   {
    "duration": 452,
    "start_time": "2024-08-24T22:16:33.067Z"
   },
   {
    "duration": 20,
    "start_time": "2024-08-24T22:16:33.521Z"
   },
   {
    "duration": 14,
    "start_time": "2024-08-24T22:16:33.543Z"
   },
   {
    "duration": 10,
    "start_time": "2024-08-24T22:16:33.559Z"
   },
   {
    "duration": 33,
    "start_time": "2024-08-24T22:16:33.571Z"
   },
   {
    "duration": 3,
    "start_time": "2024-08-24T22:16:33.606Z"
   },
   {
    "duration": 8,
    "start_time": "2024-08-24T22:16:33.610Z"
   },
   {
    "duration": 10,
    "start_time": "2024-08-24T22:16:33.620Z"
   },
   {
    "duration": 27,
    "start_time": "2024-08-24T22:16:33.631Z"
   },
   {
    "duration": 4,
    "start_time": "2024-08-24T22:16:33.661Z"
   },
   {
    "duration": 47,
    "start_time": "2024-08-24T22:16:33.666Z"
   },
   {
    "duration": 9,
    "start_time": "2024-08-24T22:16:33.715Z"
   },
   {
    "duration": 7,
    "start_time": "2024-08-24T22:16:33.725Z"
   },
   {
    "duration": 22,
    "start_time": "2024-08-24T22:16:33.734Z"
   },
   {
    "duration": 28,
    "start_time": "2024-08-24T22:16:33.757Z"
   },
   {
    "duration": 16,
    "start_time": "2024-08-24T22:16:33.786Z"
   },
   {
    "duration": 3,
    "start_time": "2024-08-24T22:16:33.803Z"
   },
   {
    "duration": 9,
    "start_time": "2024-08-24T22:16:33.808Z"
   },
   {
    "duration": 5,
    "start_time": "2024-08-24T22:16:33.819Z"
   },
   {
    "duration": 5,
    "start_time": "2024-08-24T22:16:33.825Z"
   },
   {
    "duration": 25,
    "start_time": "2024-08-24T22:16:33.831Z"
   },
   {
    "duration": 15,
    "start_time": "2024-08-24T22:16:33.858Z"
   },
   {
    "duration": 14,
    "start_time": "2024-08-24T22:16:33.874Z"
   },
   {
    "duration": 14,
    "start_time": "2024-08-24T22:16:33.889Z"
   },
   {
    "duration": 55,
    "start_time": "2024-08-24T22:16:33.905Z"
   },
   {
    "duration": 14,
    "start_time": "2024-08-24T22:16:33.962Z"
   },
   {
    "duration": 24,
    "start_time": "2024-08-24T22:16:33.977Z"
   },
   {
    "duration": 75,
    "start_time": "2024-08-24T22:16:34.004Z"
   },
   {
    "duration": 5,
    "start_time": "2024-08-24T22:16:34.080Z"
   }
  ],
  "celltoolbar": "Необработанный формат ячейки",
  "colab": {
   "name": "dpp_template_part2.ipynb",
   "provenance": []
  },
  "kernelspec": {
   "display_name": "Python 3 (ipykernel)",
   "language": "python",
   "name": "python3"
  },
  "language_info": {
   "codemirror_mode": {
    "name": "ipython",
    "version": 3
   },
   "file_extension": ".py",
   "mimetype": "text/x-python",
   "name": "python",
   "nbconvert_exporter": "python",
   "pygments_lexer": "ipython3",
   "version": "3.12.4"
  },
  "toc": {
   "base_numbering": 1,
   "nav_menu": {},
   "number_sections": true,
   "sideBar": true,
   "skip_h1_title": true,
   "title_cell": "Table of Contents",
   "title_sidebar": "Contents",
   "toc_cell": false,
   "toc_position": {
    "height": "calc(100% - 180px)",
    "left": "10px",
    "top": "150px",
    "width": "310px"
   },
   "toc_section_display": true,
   "toc_window_display": false
  }
 },
 "nbformat": 4,
 "nbformat_minor": 5
}
